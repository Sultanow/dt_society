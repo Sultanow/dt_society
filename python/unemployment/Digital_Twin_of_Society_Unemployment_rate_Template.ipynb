{
  "nbformat": 4,
  "nbformat_minor": 0,
  "metadata": {
    "colab": {
      "name": "Digital Twin of Society - Unemployment rate - Template",
      "provenance": [],
      "collapsed_sections": []
    },
    "kernelspec": {
      "name": "python3",
      "display_name": "Python 3"
    },
    "language_info": {
      "name": "python"
    }
  },
  "cells": [
    {
      "cell_type": "markdown",
      "source": [
        "# Digital Twin of Society - Unemployment rate 📉\n",
        "\n",
        "Visualisierung der Arbeitslosenquote von Europa von 2003 - 2021.\n",
        "\n",
        "<q>Die Arbeitslosenquote bezeichnet die Anzahl der Arbeitslosen als Prozentsatz der Erwerbsbevölkerung basierend auf der Definition der Internationalen Arbeitsorganisation (ILO). Die Erwerbsbevölkerung setzt sich aus Beschäftigten und Arbeitslosen zusammen. Zu den Arbeitslosen zählen Personen im Alter zwischen 15 und 74 Jahren, die in der Berichtswoche ohne Arbeit waren, für eine Arbeit sofort verfügbar waren und in den vergangenen vier Wochen aktiv auf Arbeitssuche waren oder eine Arbeit gefunden hatten, die sie innerhalb der nächsten drei Monate aufnehmen würden.</q> (Quelle: https://ec.europa.eu/eurostat/de/web/products-datasets/-/TIPSUN20)\n",
        "\n",
        "Älteste Daten: 2003 \\\n",
        "Die neuesten Daten: 2021 \\\n",
        "Anzahl der Werte: 1071\n",
        "\n",
        "<br>\n",
        "<br>\n",
        "<table align=\"left\">\n",
        "<tr>\n",
        "<td><img src=\"https://nuernberg.digital/fileadmin/system/NDF-Logo-Jahresneutral-RGB-black-keinRand.svg\" width=\"100\" /></td>\n",
        "<td><img src=\"https://www.capgemini.com/de-de/wp-content/themes/capgemini-komposite/assets/images/logo.svg\" /></td>\n",
        "</tr>\n",
        "</table>"
      ],
      "metadata": {
        "id": "3Zcf6nlxZnY_"
      }
    },
    {
      "cell_type": "markdown",
      "source": [
        "## 1. Install Requirements"
      ],
      "metadata": {
        "id": "M_dtECBuDnAv"
      }
    },
    {
      "cell_type": "code",
      "execution_count": 7,
      "metadata": {
        "id": "7mB2OyPWDYTk",
        "colab": {
          "base_uri": "https://localhost:8080/"
        },
        "outputId": "60c3c24d-c4d7-4479-d98b-e66e7347cc27"
      },
      "outputs": [
        {
          "output_type": "stream",
          "name": "stdout",
          "text": [
            "\u001b[K     |████████████████████████████████| 10.1 MB 5.3 MB/s \n",
            "\u001b[?25h  Installing build dependencies ... \u001b[?25l\u001b[?25hdone\n",
            "  Getting requirements to build wheel ... \u001b[?25l\u001b[?25hdone\n",
            "    Preparing wheel metadata ... \u001b[?25l\u001b[?25hdone\n",
            "  Building wheel for pycountry (PEP 517) ... \u001b[?25l\u001b[?25hdone\n"
          ]
        }
      ],
      "source": [
        "!pip install -q pandas pycountry plotly"
      ]
    },
    {
      "cell_type": "markdown",
      "source": [
        "## 2. Imports"
      ],
      "metadata": {
        "id": "jhEywdMMEkVR"
      }
    },
    {
      "cell_type": "code",
      "source": [
        "import pandas as pd\n",
        "import plotly.express as px\n",
        "import plotly.graph_objects as go\n",
        "import pycountry"
      ],
      "metadata": {
        "id": "8mUhv695EIeo"
      },
      "execution_count": 9,
      "outputs": []
    },
    {
      "cell_type": "markdown",
      "source": [
        "## 3. Data preprocessing\n",
        "\n",
        "#### Get the data\n",
        "European Commission, Eurostat, ‘Arbeitslosenquoten - jährliche Daten’ (tipsun20), 2022, accessed 2022-06-16, http://data.europa.eu/88u/dataset/DJWzl5McFh9fcCW8bzSxw\n",
        "\n",
        "#### Dataset information\n",
        "https://ec.europa.eu/eurostat/cache/metadata/EN/une_rt_m_esms.htm"
      ],
      "metadata": {
        "id": "nXKQZeM7EfE2"
      }
    },
    {
      "cell_type": "markdown",
      "source": [
        "<img src=\"https://cdn3.iconfinder.com/data/icons/miscellaneous-80/60/info-256.png\" width=\"32\" height=\"32\">\n",
        "\n",
        "Lade die Daten von http://data.europa.eu/88u/dataset/DJWzl5McFh9fcCW8bzSxw in ein DataFrame. <br> Infos zum Datensatz findest du unter https://ec.europa.eu/eurostat/cache/metadata/EN/une_rt_m_esms.htm"
      ],
      "metadata": {
        "id": "IG40TA0c0LjT"
      }
    },
    {
      "cell_type": "code",
      "source": [
        "#@title Lösung\n",
        "# df = pd.read_csv(\"https://raw.githubusercontent.com/Sultanow/dt_society/main/data/unemployment.tsv\", sep=\"\\t\")\n",
        "# df.head()"
      ],
      "metadata": {
        "id": "fzALppnNEmiP",
        "cellView": "form"
      },
      "execution_count": 1,
      "outputs": []
    },
    {
      "cell_type": "markdown",
      "source": [
        "<img src=\"https://cdn3.iconfinder.com/data/icons/miscellaneous-80/60/info-256.png\" width=\"32\" height=\"32\">\n",
        "\n",
        "Entferne die Jahre die keine vollständigen Daten haben (2003-2008). <br>Tipp: Achte dabei auf die Column-Names.\n"
      ],
      "metadata": {
        "id": "wXwWudHJ1g4q"
      }
    },
    {
      "cell_type": "code",
      "source": [
        "#@title Lösung\n",
        "\n",
        "# # Remove taling whitespaces in column names\n",
        "# df.columns = df.columns.str.rstrip()\n",
        "\n",
        "# # Years that will be ignored, because of insufficient data\n",
        "# ignored_years = ['2003', '2004', '2005', '2006', '2007', '2008']\n",
        "# df = df.drop(ignored_years, axis=1)\n",
        "\n",
        "# # Show dataframe\n",
        "# df.head()"
      ],
      "metadata": {
        "id": "yqDxiXVoHP4a",
        "cellView": "form"
      },
      "execution_count": 2,
      "outputs": []
    },
    {
      "cell_type": "markdown",
      "source": [
        "<img src=\"https://cdn3.iconfinder.com/data/icons/miscellaneous-80/60/info-256.png\" width=\"32\" height=\"32\">\n",
        "\n",
        "Splitte die erste Spalte in vier seperate Spalten (sex, age, unit, geo) auf. \\\\\n",
        "Tipp: Zwei der Spalten sind irelevant und können daher entfernt werden. Warum?"
      ],
      "metadata": {
        "id": "1sqjo9Hx3RY8"
      }
    },
    {
      "cell_type": "code",
      "source": [
        "#@title Lösung\n",
        "# Rename First Column to work with it\n",
        "df.rename(columns={ df.columns[0]: \"meta\" }, inplace = True)\n",
        "\n",
        "# Split up 'meta' column to get sex, age, unit and geo data\n",
        "df_meta = pd.DataFrame(df.meta.str.split(',',3).tolist(), columns = ['sex','age', 'unit', 'geo'])\n",
        "\n",
        "# Remove the 'meta' column \n",
        "df = df.drop('meta', axis=1)\n",
        "\n",
        "# Merge the two dataframes again\n",
        "result = pd.concat([df_meta, df], axis=1)\n",
        "\n",
        "# Since 'sex' and 'unit' are the same for each row, we can ignore them \n",
        "result = result.drop(['sex', 'unit'], axis=1)\n",
        "\n",
        "result.head()"
      ],
      "metadata": {
        "id": "dqCiFPy0Fphg",
        "cellView": "form"
      },
      "execution_count": null,
      "outputs": []
    },
    {
      "cell_type": "markdown",
      "source": [
        "<img src=\"https://cdn3.iconfinder.com/data/icons/miscellaneous-80/60/info-256.png\" width=\"32\" height=\"32\">\n",
        "\n",
        "Schaut man sich die Daten etwas genauer an, so fällt auf das darin Werte existieren, hinter denen ein 'b' oder ein 'd' stehen. \\\n",
        "Der Einfachheit halber ignorieren wir diese Angaben. Entferne dazu einfach das ' b' bzw. das ' d' hinter den Werten."
      ],
      "metadata": {
        "id": "Z0a-12sl5GPD"
      }
    },
    {
      "cell_type": "code",
      "source": [
        "#@title Lösung\n",
        "# # Clean Up Data \n",
        "# result = result.replace(' b','', regex=True)\n",
        "# result = result.replace(' d','', regex=True) "
      ],
      "metadata": {
        "id": "wh9hBTwPF8lu",
        "cellView": "form"
      },
      "execution_count": 4,
      "outputs": []
    },
    {
      "cell_type": "markdown",
      "source": [
        "<img src=\"https://cdn3.iconfinder.com/data/icons/miscellaneous-80/60/info-256.png\" width=\"32\" height=\"32\">\n",
        "\n",
        "Länderkennung anpassen:\n",
        "\n",
        "*   Die angegebenen Daten beinhalten die Länderkennung im ISO 3166-1 alpha-2 Format also zum Beispiel DE für Deutschland.\n",
        "*   Für die spätere Verarbeitung der Daten ist jedoch das ISO 3166-1 alpha-3 Format, also zum Beispiel DEU für Deutschland, notwendig.\n",
        "* Die Ländercodes müssen daher in das entsprechende Format gebracht werden.\n",
        "\n",
        "\n",
        "**Tipp:** Nutze für die Konvertierung die Bibliothek pycountry.\n",
        "\\\n",
        "**Hinweis:** Der alpha-2 Code 'EL' steht für Griechenland und muss händisch auf den alpha-3 'GRC' gesetzt werden. Es handelt sich dabei um einen veralteten Code der nicht mehr verwendet und somit von pycountry nicht mehr gefunden wird."
      ],
      "metadata": {
        "id": "pBcTUeXt6N2M"
      }
    },
    {
      "cell_type": "code",
      "source": [
        "# @title Lösung\n",
        "# def iso2_to_iso3(iso2):\n",
        "#   country = pycountry.countries.get(alpha_2=iso2)\n",
        "#   # Old Code for Greek is EL -> the new one is GR (iso2) or GRC (iso3)\n",
        "#   if(iso2 == 'EL'):\n",
        "#     return 'GRC'\n",
        "#   return country.alpha_3\n",
        "\n",
        "# # Convert Iso2 to Iso3 country code\n",
        "# result['geo'] = result['geo'].apply(lambda x: iso2_to_iso3(x))\n",
        "\n",
        "\n",
        "# # Show dataframe\n",
        "# result"
      ],
      "metadata": {
        "id": "XAXSCnkeGP5T",
        "cellView": "form"
      },
      "execution_count": null,
      "outputs": []
    },
    {
      "cell_type": "markdown",
      "source": [
        " <img src=\"https://cdn3.iconfinder.com/data/icons/miscellaneous-80/60/info-256.png\" width=\"32\" height=\"32\">\n",
        "\n",
        "Nach der Vorverarbeitung der Daten sollte das Dataframe (hier werden nur die ersten 10 Reihen angezeigt) in etwa so aussehen:\n",
        "\n",
        "\n",
        " |index|age|geo|2009|2010|2011|2012|2013|2014|2015|2016|2017|2018|2019|2020|2021|\n",
        "|---|---|---|---|---|---|---|---|---|---|---|---|---|---|---|---|\n",
        "|0|Y15-24|AUT|11\\.3|10\\.1 |9\\.5 |10\\.0|10\\.3|11\\.0|11\\.3 |12\\.0 |10\\.5 |10\\.0 |9\\.1|11\\.7 |11\\.0 |\n",
        "|1|Y15-24|BEL|22\\.0|22\\.4 |18\\.9 |20\\.0|23\\.9|23\\.4|22\\.5 |20\\.3 |19\\.4|16\\.0 |14\\.5|15\\.9 |18\\.2 |\n",
        "|2|Y15-24|BGR|19\\.4|25\\.1|28\\.2|31\\.2|31\\.5|26\\.9|24\\.7 |20\\.4 |16\\.1 |15\\.9 |12\\.1|17\\.4 |15\\.8 |\n",
        "|3|Y15-24|CYP|13\\.8|16\\.6 |22\\.4 |27\\.7|38\\.9|36\\.0|32\\.8 |29\\.1 |24\\.7 |20\\.2 |16\\.6|18\\.2 |17\\.1 |\n",
        "|4|Y15-24|CZE|16\\.6|18\\.3 |18\\.1|19\\.5|19\\.0|15\\.9|12\\.6 |10\\.5 |7\\.9 |6\\.7 |5\\.6|8\\.0 |8\\.2 |\n",
        "|5|Y15-24|DEU|11\\.9|10\\.5|9\\.1|8\\.6|8\\.3|8\\.3|7\\.7 |7\\.5 |7\\.2 |6\\.6 |6\\.2|8\\.0|6\\.9 |\n",
        "|6|Y15-24|DNK|13\\.5|15\\.6 |16\\.4 |15\\.8|14\\.8|14\\.2|12\\.2 |12\\.2|12\\.4|10\\.5 |10\\.1|11\\.6 |10\\.8 |\n",
        "|7|Y15-24|EST|27\\.2|32\\.6 |22\\.3 |20\\.7|18\\.6|14\\.9|14\\.3 |14\\.0 |12\\.1 |12\\.0 |11\\.6|18\\.3 |16\\.7 |\n",
        "|8|Y15-24|GRC|26\\.1|33\\.6 |45\\.2 |55\\.9|59\\.2|53\\.0|50\\.3 |48\\.2 |44\\.5 |41\\.2 |37\\.5|38\\.0 |35\\.5 |\n",
        "|9|Y15-24|ESP|37\\.7|41\\.5 |46\\.2 |52\\.9|55\\.5|53\\.2|48\\.3 |44\\.4 |38\\.6 |34\\.3 |32\\.5|38\\.3 |34\\.8|\n",
        "|10|Y15-24|FIN|21\\.7|22\\.0 |20\\.3 |19\\.5|20\\.6|20\\.5|22\\.5 |20\\.5 |20\\.0 |17\\.3 |17\\.7|21\\.0 |17\\.1 |\n"
      ],
      "metadata": {
        "id": "TcYbKTLY-8KR"
      }
    },
    {
      "cell_type": "markdown",
      "source": [
        "# 4. Data visualization"
      ],
      "metadata": {
        "id": "e-DQTC8jGrvQ"
      }
    },
    {
      "cell_type": "markdown",
      "source": [
        " <img src=\"https://cdn3.iconfinder.com/data/icons/miscellaneous-80/60/info-256.png\" width=\"32\" height=\"32\">\n",
        "\n",
        "Für die Visualisierung brauchen wir zunächst folgende Informationen aus dem df:\n",
        "\n",
        "*   Eine Liste mit allen Jahren im Dataframe\n",
        "*   Eine Liste der eindeutigen Identifier der Altersgruppen\n",
        "*   Eine Liste mit den eindeutigen Ländercodes\n",
        "\n"
      ],
      "metadata": {
        "id": "6tV0IRz__3AM"
      }
    },
    {
      "cell_type": "code",
      "source": [
        "#@title Lösung\n",
        "\n",
        "# # Get all columns without age and geo\n",
        "# years = result.columns.tolist()[2:]\n",
        "# print(years)\n",
        "# # Get all unique elements of row age \n",
        "# agegroups = sorted(result['age'].unique())\n",
        "# print(agegroups)\n",
        "# # Get all unique elments of row geo\n",
        "# countries = sorted(result['geo'].unique())\n",
        "# print(countries)"
      ],
      "metadata": {
        "id": "7JZgMl3bGXDT",
        "cellView": "form"
      },
      "execution_count": null,
      "outputs": []
    },
    {
      "cell_type": "markdown",
      "source": [
        "### Bar / Line chart"
      ],
      "metadata": {
        "id": "XQPUAyltRTXN"
      }
    },
    {
      "cell_type": "markdown",
      "source": [
        " <img src=\"https://cdn3.iconfinder.com/data/icons/miscellaneous-80/60/info-256.png\" width=\"32\" height=\"32\">\n",
        "\n",
        "Um nun die Daten mittels der Bibliothek Plotly in einem Barchart anzuzeigen muss folgendes implentiert werden:\n",
        "\n",
        "*   Eine Funktion die basierend auf dem Ländercode und der Altersgruppe die Arbeitslosenquote für jedes Jahr zurück liefert\n",
        "*   Eine Funktion die für das übergebene Land und die Altersgruppe eine Barchart erstellt und anzeigt.\n",
        "\n",
        "\\\n",
        "\\\n",
        "Hier unten findest du eine simples Beispiel für ein Barchart mit Hilfe von Plotly:"
      ],
      "metadata": {
        "id": "sZA5h-4ZCE-p"
      }
    },
    {
      "cell_type": "code",
      "source": [
        "x = ['Category 1', 'Category 2', 'Category 3']\n",
        "y = [5, 3, 6]\n",
        "\n",
        "fig = go.Figure(\n",
        "      data=[go.Bar(x=x, y=y)],\n",
        "      layout=go.Layout(\n",
        "          title=go.layout.Title(text=\"Test\")\n",
        "      )\n",
        "  ) \n",
        "fig.show()"
      ],
      "metadata": {
        "id": "P9NY5DrKDeyw"
      },
      "execution_count": null,
      "outputs": []
    },
    {
      "cell_type": "code",
      "source": [
        "# @title Lösung\n",
        "# #Get values based of geo and age\n",
        "# def get_row_from_dataframe_by_geo_and_age(df, country, agegroup):\n",
        "\n",
        "#   filtered_df = df.loc[(df['geo'] == country) & (df['age'] == agegroup)]\n",
        "#   filtered_df = filtered_df.drop(['geo', 'age'], axis=1)  \n",
        "  \n",
        "#   return filtered_df.astype(float).values.tolist()[0]\n",
        "\n",
        "\n",
        "# #Render bar chart based of the given country and agegroup\n",
        "# def render_barchart(country, agegroup):\n",
        "#   y = get_row_from_dataframe_by_geo_and_age(result, country, agegroup)\n",
        "\n",
        "#   fig = go.Figure(\n",
        "#       data=[go.Bar(x=years, y=y)],\n",
        "#       layout=go.Layout(\n",
        "#           title=go.layout.Title(text=\"Unemployment | \" + country + \" | \" + agegroup)\n",
        "#       )\n",
        "#   ) \n",
        "\n",
        "#   fig.show()\n",
        "\n",
        "\n",
        "# #Set example agegroup and country\n",
        "# agegroup = \"Y15-74\"\n",
        "# country = \"DEU\"\n",
        "# #Render barchart\n",
        "# render_barchart(country, agegroup)"
      ],
      "metadata": {
        "id": "hHaJATwBH9IG",
        "cellView": "form"
      },
      "execution_count": 13,
      "outputs": []
    },
    {
      "cell_type": "markdown",
      "source": [
        " <img src=\"https://cdn3.iconfinder.com/data/icons/miscellaneous-80/60/info-256.png\" width=\"32\" height=\"32\">\n",
        "\n",
        "Sehr gut das Barchart für ein Land und Altersgruppe funtkioniert jetzt! \\\n",
        "\\\n",
        "Ergänze nun das Diagramm um ein Dropdown Feld um zwischen den einzelnen Ländern zu wechseln. Als Auswahloptionen dient die Liste an eindeutigen Ländercodes die wir oben definiert haben.\n",
        "\\\n",
        "\\\n",
        "**Tipp**: Du musst für jedes Land ein Barchart erstellen und dieses einer übergeordnenten Figure zuweisen. Anschließend wird nur die Sichtbarkeit der einzelnen Charts geändert. \n",
        "\n",
        "**Zusatzaufgabe:** Baue einen Button ein um zwischen der Art des Charts zu wechseln. Zum Beispiel von Barchart auf Linechart."
      ],
      "metadata": {
        "id": "pwcWbu78Eay4"
      }
    },
    {
      "cell_type": "code",
      "source": [
        "# @title Lösung\n",
        "# def multi_plot_countries(df):\n",
        "#     fig = go.Figure()\n",
        "\n",
        "#     # For every country create a Barchart (for training with the agegroup 'Y15-74')\n",
        "#     for country in countries:\n",
        "#       fig.add_trace(\n",
        "#           go.Bar(\n",
        "#               x = years,\n",
        "#               y = get_row_from_dataframe_by_geo_and_age(result, country, 'Y15-74'),\n",
        "#               name = country,\n",
        "#               visible='legendonly'\n",
        "#           )\n",
        "#       )\n",
        "    \n",
        "#     # Only show first trace\n",
        "#     fig.data[0].update(visible=True, showlegend=True)\n",
        "\n",
        "#     # Create dropdown for counties\n",
        "#     def create_country_dropdown(country):\n",
        "\n",
        "#         res = ['legendonly' for country in countries]\n",
        "#         res[countries.index(country)] = True\n",
        "\n",
        "#         return dict(label = country,\n",
        "#                     method = 'update',\n",
        "#                     args = [{'visible': res,\n",
        "#                              'title': country,\n",
        "#                              'showlegend': True}])\n",
        "\n",
        "#     # Add dropdown to figure\n",
        "#     button_layer_1_height = 1.20\n",
        "#     fig.update_layout(\n",
        "#         updatemenus=[\n",
        "#           dict(\n",
        "#             buttons=[create_country_dropdown(country) for country in countries],\n",
        "#             direction=\"down\",\n",
        "#             pad={\"r\": 10, \"t\": 10},\n",
        "#             showactive=True,\n",
        "#             active=0,\n",
        "#             x=0.20,\n",
        "#             xanchor=\"left\",\n",
        "#             y=button_layer_1_height,\n",
        "#             yanchor=\"top\"\n",
        "#           ),\n",
        "#           dict(\n",
        "#             type = \"buttons\",\n",
        "#             direction = \"left\",\n",
        "#             buttons=list([\n",
        "#               dict(\n",
        "#                 args=[\"type\", \"bar\"],\n",
        "#                 label=\"Bar\",\n",
        "#                 method=\"restyle\"\n",
        "#               ),\n",
        "#               dict(\n",
        "#                 args=[\"type\", \"line\"],\n",
        "#                 label=\"Line\",\n",
        "#                 method=\"restyle\"\n",
        "#               )\n",
        "#             ]),\n",
        "#             pad={\"r\": 10, \"t\": 10},\n",
        "#             showactive=True,\n",
        "#             x=0.0,\n",
        "#             xanchor=\"left\",\n",
        "#             y=button_layer_1_height,\n",
        "#             yanchor=\"top\"\n",
        "#             )\n",
        "#         ])\n",
        "    \n",
        "#     # Add label for dropdown \n",
        "#     fig.update_layout(\n",
        "#     annotations=[\n",
        "#         dict(text=\"Country\", x=0.15, xref=\"paper\", y=1.15,\n",
        "#                              yref=\"paper\", showarrow=False),\n",
        "#     ])\n",
        "  \n",
        "#     fig.show()\n",
        "\n",
        "# multi_plot_countries(result)"
      ],
      "metadata": {
        "id": "9z_uPFdbKVHC",
        "cellView": "form"
      },
      "execution_count": null,
      "outputs": []
    },
    {
      "cell_type": "markdown",
      "source": [
        " <img src=\"https://cdn3.iconfinder.com/data/icons/miscellaneous-80/60/info-256.png\" width=\"32\" height=\"32\">\n",
        "\n",
        "Nachdem jetzt auch das Land auswählbar ist kann das Barchart auch noch um ein Dropdown für die Altersgruppe ergänzt werden. \\\n",
        "\\\n",
        "Also Auswahloptionen wird hierfür die Liste an eindeutigen Identifieren der Altersgruppen verwendet, die oben bereits definiert wurden."
      ],
      "metadata": {
        "id": "Kpsk-zZmJCES"
      }
    },
    {
      "cell_type": "code",
      "source": [
        "# @title Lösung\n",
        "# def multi_plot_countries_agegroup(df):\n",
        "#     fig = go.Figure()\n",
        "\n",
        "#     charts_per_agegroup = dict()\n",
        "#     for agegroup in agegroups:\n",
        "#       charts = []   \n",
        "#       for country in countries:\n",
        "#           charts.append(\n",
        "#               go.Bar(\n",
        "#                   x = years,\n",
        "#                   y = get_row_from_dataframe_by_geo_and_age(result, country, agegroup),\n",
        "#                   name = country,\n",
        "#                   visible='legendonly'\n",
        "#               )\n",
        "#           )\n",
        "\n",
        "#       charts_per_agegroup[agegroup] = charts\n",
        "\n",
        "#     fig.add_traces(charts_per_agegroup['Y15-74'])\n",
        "#     fig.data[0].update(visible=True, showlegend=True)\n",
        "    \n",
        "#     def create_country_dropdown(country):\n",
        "#         res = ['legendonly' for country in countries]\n",
        "#         res[countries.index(country)] = True\n",
        "\n",
        "#         return dict(label = country,\n",
        "#                     method = 'update',\n",
        "#                     args = [{'visible': res,\n",
        "#                              'title': country,\n",
        "#                              'showlegend': True}])\n",
        "        \n",
        "#     def create_agegroup_dropdown(agegroup):\n",
        "#       return dict(label = 'All' if agegroup == 'Y15-74' else agegroup,\n",
        "#                   method = 'update',\n",
        "#                   args = [{'y': [chart.y for chart in charts_per_agegroup[agegroup]],\n",
        "#                             'title': agegroup,\n",
        "#                             'showlegend': True}])\n",
        "\n",
        "#     button_layer_1_height = 1.20\n",
        "#     fig.update_layout(\n",
        "#         updatemenus=[\n",
        "#           dict(\n",
        "#             buttons=sorted([create_agegroup_dropdown(agegroup) for agegroup in agegroups], key=lambda d: d['label']),\n",
        "#             direction=\"down\",\n",
        "#             pad={\"r\": 10, \"t\": 10},\n",
        "#             showactive=True,\n",
        "#             x=0.15,\n",
        "#             xanchor=\"left\",\n",
        "#             y=button_layer_1_height,\n",
        "#             yanchor=\"top\"\n",
        "#           ),\n",
        "#           dict(\n",
        "#             buttons=[create_country_dropdown(country) for country in countries],\n",
        "#             direction=\"down\",\n",
        "#             pad={\"r\": 10, \"t\": 10},\n",
        "#             showactive=True,\n",
        "#             x=0.30,\n",
        "#             xanchor=\"left\",\n",
        "#             y=button_layer_1_height,\n",
        "#             yanchor=\"top\"\n",
        "#           ),\n",
        "#           dict(\n",
        "#             type = \"buttons\",\n",
        "#             direction = \"left\",\n",
        "#             buttons=list([\n",
        "#               dict(\n",
        "#                 args=[\"type\", \"bar\"],\n",
        "#                 label=\"Bar\",\n",
        "#                 method=\"restyle\"\n",
        "#               ),\n",
        "#               dict(\n",
        "#                 args=[\"type\", \"line\"],\n",
        "#                 label=\"Line\",\n",
        "#                 method=\"restyle\"\n",
        "#               )\n",
        "#             ]),\n",
        "#             pad={\"r\": 10, \"t\": 10},\n",
        "#             showactive=True,\n",
        "#             x=0.0,\n",
        "#             xanchor=\"left\",\n",
        "#             y=button_layer_1_height,\n",
        "#             yanchor=\"top\"\n",
        "#             )\n",
        "#         ])\n",
        "    \n",
        "#     fig.update_layout(\n",
        "#     annotations=[\n",
        "#         dict(text=\"Agegroup\", x=0.1, xref=\"paper\", y=1.15, yref=\"paper\",\n",
        "#                              align=\"left\", showarrow=False),\n",
        "#         dict(text=\"Country\", x=0.25, xref=\"paper\", y=1.15,\n",
        "#                              yref=\"paper\", showarrow=False),\n",
        "#     ])\n",
        "    \n",
        "#     fig.show()\n",
        "\n",
        "# multi_plot_countries_agegroup(result)"
      ],
      "metadata": {
        "id": "boreOUUJLOaa",
        "cellView": "form"
      },
      "execution_count": null,
      "outputs": []
    },
    {
      "cell_type": "markdown",
      "source": [
        "### Map"
      ],
      "metadata": {
        "id": "ibA6P0QOaTZp"
      }
    },
    {
      "cell_type": "markdown",
      "source": [
        " <img src=\"https://cdn3.iconfinder.com/data/icons/miscellaneous-80/60/info-256.png\" width=\"32\" height=\"32\">\n",
        "\n",
        "Geodaten bezogenen Daten können am besten über eine Karte dargestellt werden. Daher ist die nächste Aufgabe die Darstellung der Arbeitslosenquoute auf einer Karte. \n",
        "\\\n",
        "\\\n",
        "Hierfür kann ebenfalls die Bibliothek Plotly verwendet werden. Das Stichwort hierbei heißt Choropleth."
      ],
      "metadata": {
        "id": "hNI7Z3ZTLGtS"
      }
    },
    {
      "cell_type": "code",
      "source": [
        "# @title Lösung\n",
        "# def preprocess_dataframe_for_agegrouop(df, agegroup):\n",
        "#   # Get new dataframe with values where age equals the given agegroup, then drop age column since it is no longer needed.\n",
        "#   result_without_age = df.loc[(df['age'] == agegroup)].drop('age', axis=1)\n",
        "#   # Get dataframe into shape geo, year, value\n",
        "#   processed_dataframe = result_without_age.melt(id_vars='geo', value_vars=result_without_age.columns, var_name='years')\n",
        "#   # Convert value to Float and years to int \n",
        "#   processed_dataframe['value'] = processed_dataframe['value'].astype('float64')\n",
        "#   processed_dataframe['years'] = processed_dataframe['years'].astype('int')\n",
        "#   return processed_dataframe\n",
        "\n",
        "\n",
        "# def create_map_with_slider(df, agegroup):\n",
        "\n",
        "#   # Preprocess dataframe\n",
        "#   preprocessed_df = preprocess_dataframe_for_agegrouop(df, agegroup)\n",
        "  \n",
        "#   # Create Plot\n",
        "#   fig = px.choropleth(\n",
        "#           preprocessed_df,\n",
        "#           locations='geo', color='value',\n",
        "#           color_continuous_scale=\"Viridis\",\n",
        "#           range_color=(preprocessed_df['value'].min(), preprocessed_df['value'].max()),\n",
        "#           scope=\"europe\",\n",
        "#           height=600,\n",
        "#           animation_frame=\"years\",\n",
        "#           basemap_visible=True,\n",
        "#           labels={'value': 'Unemployment rate in %'}\n",
        "#         )\n",
        "  \n",
        "#   # Change styling \n",
        "#   fig.update_geos(fitbounds=\"locations\", resolution=50, projection_type=\"orthographic\")\n",
        "#   fig.update_layout(margin={\"r\":50,\"t\":50,\"l\":50,\"b\":50})\n",
        "#   return fig\n",
        "\n",
        "# fig = create_map_with_slider(result, agegroups[0])\n",
        "# fig.show()"
      ],
      "metadata": {
        "id": "UQuWRtwGNICi",
        "cellView": "form"
      },
      "execution_count": null,
      "outputs": []
    },
    {
      "cell_type": "markdown",
      "source": [
        " <img src=\"https://cdn3.iconfinder.com/data/icons/miscellaneous-80/60/info-256.png\" width=\"32\" height=\"32\">\n",
        "\n",
        "Glückwunsch die Karte zur Visulisierung der Arbeitslosenquote funktioniert! 🎉\n",
        "\\\n",
        "\\\n",
        "Ähnlich wie beim Barchat kann die Karte jetzt noch um ein Dropdown für die Altersgruppe ergänzt werden. \n",
        "\\\n",
        "\\\n",
        "**Tipp:** Wie bei den Barcharts, werden hier auch wieder für alle Kombinationen Teil-Plots erstellt und dann wieder die Sichtbarkeit durch geschaltet. "
      ],
      "metadata": {
        "id": "e5P3EXlwUMEe"
      }
    },
    {
      "cell_type": "code",
      "source": [
        "#@title Lösung\n",
        "# fig = go.Figure()\n",
        "# charts_per_agegroup = dict()\n",
        "# df_agegroups = dict()\n",
        "\n",
        "# for agegroup in agegroups:\n",
        "#   charts = []   \n",
        "#   df_agegroup = preprocess_dateframe(result, agegroup)\n",
        "#   df_agegroups[agegroup] = df_agegroup\n",
        "#   for year in df_agegroup['years'].unique():\n",
        "#       df_year = df_agegroup[(df_agegroup['years']== year)]\n",
        "#       charts.append(\n",
        "#           go.Choropleth(\n",
        "#               locations = df_year['geo'],\n",
        "#               z=df_year['value'],\n",
        "#               coloraxis='coloraxis',\n",
        "#               geo= 'geo',\n",
        "#               hovertemplate= 'years='+str(year)+'<br>geo=%{location}<br>value=%{z}<extra></extra>',\n",
        "#               visible = False\n",
        "#           )\n",
        "#       )\n",
        "  \n",
        "#   charts_per_agegroup[agegroup] = charts\n",
        "\n",
        "# fig.add_traces(charts_per_agegroup['Y15-74'])\n",
        "# fig.data[0].update(visible=True)\n",
        "\n",
        "# def create_agegroup_button(agegroup):\n",
        "#     return dict(label = 'All' if agegroup == 'Y15-74' else agegroup,\n",
        "#                 method = 'update',\n",
        "#                 args = [{'z':  [chart.z for chart in charts_per_agegroup[agegroup]], 'title': agegroup},\n",
        "#                         {'coloraxis': {\n",
        "#                             'cmin':df_agegroups[agegroup]['value'].min(), \n",
        "#                             'cmax':df_agegroups[agegroup]['value'].max()}}])\n",
        "\n",
        "# def create_sliders():\n",
        "#     steps = []\n",
        "#     for i in range(13):\n",
        "#         step = dict(method='restyle',\n",
        "#                     args=['visible', [False] * 13],\n",
        "#                     label='{}'.format(i + 2009))\n",
        "#         step['args'][1][i] = True\n",
        "#         steps.append(step)\n",
        "\n",
        "#     return [dict(active=0, pad= {'b': 10, 't': 10}, steps=steps)]\n",
        "\n",
        "# fig.update_layout(\n",
        "#     updatemenus=[\n",
        "#       dict(\n",
        "#         buttons=[create_agegroup_button('Y15-74'), create_agegroup_button('Y15-24'), create_agegroup_button('Y25-74')],\n",
        "#         direction=\"down\",\n",
        "#         pad={\"r\": 10, \"t\": -8},\n",
        "#         showactive=True,\n",
        "#         x=0.04,\n",
        "#         xanchor=\"left\",\n",
        "#         y=0.9,\n",
        "#         yanchor=\"top\"\n",
        "#       )\n",
        "#     ],\n",
        "#     sliders=create_sliders(),\n",
        "#     coloraxis={\n",
        "#       'cmin':df_agegroups['Y15-74']['value'].min(), \n",
        "#       'cmax':df_agegroups['Y15-74']['value'].max(),\n",
        "#       'colorbar': {'title': {'text': 'value'}}},\n",
        "#     geo= {\n",
        "#         'center': {},\n",
        "#         'domain': {'x': [0.0, 1.0], 'y': [0.0, 1.0]},\n",
        "#         'resolution': 50,\n",
        "#         'scope': 'europe',\n",
        "#         'visible': True},\n",
        "#     height= 600,\n",
        "#     legend= {'tracegroupgap': 0},\n",
        "#     margin= {'b': 50, 'l': 50, 'r': 50, 't': 50},\n",
        "#     annotations=[dict(text=\"Agegroup\", x=0, xref=\"paper\", y=0.9, yref=\"paper\", showarrow=False)]\n",
        "# )\n",
        "\n",
        "# fig.show()"
      ],
      "metadata": {
        "id": "i9lxruC-NKqK",
        "cellView": "form"
      },
      "execution_count": null,
      "outputs": []
    }
  ]
}