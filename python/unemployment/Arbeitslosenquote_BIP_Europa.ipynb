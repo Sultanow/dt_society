{
  "nbformat": 4,
  "nbformat_minor": 0,
  "metadata": {
    "colab": {
      "name": "BIP Europa.ipynb",
      "provenance": [],
      "collapsed_sections": []
    },
    "kernelspec": {
      "name": "python3",
      "display_name": "Python 3"
    },
    "language_info": {
      "name": "python"
    },
    "widgets": {
      "application/vnd.jupyter.widget-state+json": {
        "d5ceec1dbd5b4d0e87ff5e71030ded61": {
          "model_module": "@jupyter-widgets/controls",
          "model_name": "DropdownModel",
          "model_module_version": "1.5.0",
          "state": {
            "_dom_classes": [],
            "_model_module": "@jupyter-widgets/controls",
            "_model_module_version": "1.5.0",
            "_model_name": "DropdownModel",
            "_options_labels": [
              "AUT",
              "BEL",
              "BGR",
              "CYP",
              "CZE",
              "DEU",
              "DNK",
              "EST",
              "GRC",
              "ESP",
              "FIN",
              "FRA",
              "HRV",
              "HUN",
              "IRL",
              "ITA",
              "LTU",
              "LUX",
              "LVA",
              "MLT",
              "NLD",
              "POL",
              "PRT",
              "ROU",
              "SWE",
              "SVN",
              "SVK"
            ],
            "_view_count": null,
            "_view_module": "@jupyter-widgets/controls",
            "_view_module_version": "1.5.0",
            "_view_name": "DropdownView",
            "description": "Country:",
            "description_tooltip": null,
            "disabled": false,
            "index": 7,
            "layout": "IPY_MODEL_3d13275c962543099d76b73175294062",
            "style": "IPY_MODEL_d72f19fd1cc04f558ae9907f453af66f"
          }
        },
        "3d13275c962543099d76b73175294062": {
          "model_module": "@jupyter-widgets/base",
          "model_name": "LayoutModel",
          "model_module_version": "1.2.0",
          "state": {
            "_model_module": "@jupyter-widgets/base",
            "_model_module_version": "1.2.0",
            "_model_name": "LayoutModel",
            "_view_count": null,
            "_view_module": "@jupyter-widgets/base",
            "_view_module_version": "1.2.0",
            "_view_name": "LayoutView",
            "align_content": null,
            "align_items": null,
            "align_self": null,
            "border": null,
            "bottom": null,
            "display": null,
            "flex": null,
            "flex_flow": null,
            "grid_area": null,
            "grid_auto_columns": null,
            "grid_auto_flow": null,
            "grid_auto_rows": null,
            "grid_column": null,
            "grid_gap": null,
            "grid_row": null,
            "grid_template_areas": null,
            "grid_template_columns": null,
            "grid_template_rows": null,
            "height": null,
            "justify_content": null,
            "justify_items": null,
            "left": null,
            "margin": null,
            "max_height": null,
            "max_width": null,
            "min_height": null,
            "min_width": null,
            "object_fit": null,
            "object_position": null,
            "order": null,
            "overflow": null,
            "overflow_x": null,
            "overflow_y": null,
            "padding": null,
            "right": null,
            "top": null,
            "visibility": null,
            "width": null
          }
        },
        "d72f19fd1cc04f558ae9907f453af66f": {
          "model_module": "@jupyter-widgets/controls",
          "model_name": "DescriptionStyleModel",
          "model_module_version": "1.5.0",
          "state": {
            "_model_module": "@jupyter-widgets/controls",
            "_model_module_version": "1.5.0",
            "_model_name": "DescriptionStyleModel",
            "_view_count": null,
            "_view_module": "@jupyter-widgets/base",
            "_view_module_version": "1.2.0",
            "_view_name": "StyleView",
            "description_width": ""
          }
        },
        "c5a034686665419f9c93e04699f9c3c8": {
          "model_module": "@jupyter-widgets/controls",
          "model_name": "DropdownModel",
          "model_module_version": "1.5.0",
          "state": {
            "_dom_classes": [],
            "_model_module": "@jupyter-widgets/controls",
            "_model_module_version": "1.5.0",
            "_model_name": "DropdownModel",
            "_options_labels": [
              "Y15-24",
              "Y15-74",
              "Y25-74"
            ],
            "_view_count": null,
            "_view_module": "@jupyter-widgets/controls",
            "_view_module_version": "1.5.0",
            "_view_name": "DropdownView",
            "description": "Agegroup:",
            "description_tooltip": null,
            "disabled": false,
            "index": 2,
            "layout": "IPY_MODEL_cf10076900fa4a929934d426e3b311a8",
            "style": "IPY_MODEL_82f1310be76546639cce8d5d6a80fcec"
          }
        },
        "cf10076900fa4a929934d426e3b311a8": {
          "model_module": "@jupyter-widgets/base",
          "model_name": "LayoutModel",
          "model_module_version": "1.2.0",
          "state": {
            "_model_module": "@jupyter-widgets/base",
            "_model_module_version": "1.2.0",
            "_model_name": "LayoutModel",
            "_view_count": null,
            "_view_module": "@jupyter-widgets/base",
            "_view_module_version": "1.2.0",
            "_view_name": "LayoutView",
            "align_content": null,
            "align_items": null,
            "align_self": null,
            "border": null,
            "bottom": null,
            "display": null,
            "flex": null,
            "flex_flow": null,
            "grid_area": null,
            "grid_auto_columns": null,
            "grid_auto_flow": null,
            "grid_auto_rows": null,
            "grid_column": null,
            "grid_gap": null,
            "grid_row": null,
            "grid_template_areas": null,
            "grid_template_columns": null,
            "grid_template_rows": null,
            "height": null,
            "justify_content": null,
            "justify_items": null,
            "left": null,
            "margin": null,
            "max_height": null,
            "max_width": null,
            "min_height": null,
            "min_width": null,
            "object_fit": null,
            "object_position": null,
            "order": null,
            "overflow": null,
            "overflow_x": null,
            "overflow_y": null,
            "padding": null,
            "right": null,
            "top": null,
            "visibility": null,
            "width": null
          }
        },
        "82f1310be76546639cce8d5d6a80fcec": {
          "model_module": "@jupyter-widgets/controls",
          "model_name": "DescriptionStyleModel",
          "model_module_version": "1.5.0",
          "state": {
            "_model_module": "@jupyter-widgets/controls",
            "_model_module_version": "1.5.0",
            "_model_name": "DescriptionStyleModel",
            "_view_count": null,
            "_view_module": "@jupyter-widgets/base",
            "_view_module_version": "1.2.0",
            "_view_name": "StyleView",
            "description_width": ""
          }
        },
        "16a26e71793a42c0830c384c207cbb93": {
          "model_module": "jupyterlab-plotly",
          "model_name": "FigureModel",
          "model_module_version": "^5.5.0",
          "state": {
            "_config": {
              "plotlyServerURL": "https://plot.ly"
            },
            "_data": [],
            "_dom_classes": [],
            "_js2py_layoutDelta": null,
            "_js2py_pointsCallback": null,
            "_js2py_relayout": null,
            "_js2py_restyle": {},
            "_js2py_traceDeltas": null,
            "_js2py_update": {},
            "_last_layout_edit_id": 13,
            "_last_trace_edit_id": 12,
            "_layout": {
              "template": {
                "data": {
                  "barpolar": [
                    {
                      "marker": {
                        "line": {
                          "color": "#E5ECF6",
                          "width": 0.5
                        },
                        "pattern": {
                          "fillmode": "overlay",
                          "size": 10,
                          "solidity": 0.2
                        }
                      },
                      "type": "barpolar"
                    }
                  ],
                  "bar": [
                    {
                      "error_x": {
                        "color": "#2a3f5f"
                      },
                      "error_y": {
                        "color": "#2a3f5f"
                      },
                      "marker": {
                        "line": {
                          "color": "#E5ECF6",
                          "width": 0.5
                        },
                        "pattern": {
                          "fillmode": "overlay",
                          "size": 10,
                          "solidity": 0.2
                        }
                      },
                      "type": "bar"
                    }
                  ],
                  "carpet": [
                    {
                      "aaxis": {
                        "endlinecolor": "#2a3f5f",
                        "gridcolor": "white",
                        "linecolor": "white",
                        "minorgridcolor": "white",
                        "startlinecolor": "#2a3f5f"
                      },
                      "baxis": {
                        "endlinecolor": "#2a3f5f",
                        "gridcolor": "white",
                        "linecolor": "white",
                        "minorgridcolor": "white",
                        "startlinecolor": "#2a3f5f"
                      },
                      "type": "carpet"
                    }
                  ],
                  "choropleth": [
                    {
                      "colorbar": {
                        "outlinewidth": 0,
                        "ticks": ""
                      },
                      "type": "choropleth"
                    }
                  ],
                  "contourcarpet": [
                    {
                      "colorbar": {
                        "outlinewidth": 0,
                        "ticks": ""
                      },
                      "type": "contourcarpet"
                    }
                  ],
                  "contour": [
                    {
                      "colorbar": {
                        "outlinewidth": 0,
                        "ticks": ""
                      },
                      "colorscale": [
                        [
                          0,
                          "#0d0887"
                        ],
                        [
                          0.1111111111111111,
                          "#46039f"
                        ],
                        [
                          0.2222222222222222,
                          "#7201a8"
                        ],
                        [
                          0.3333333333333333,
                          "#9c179e"
                        ],
                        [
                          0.4444444444444444,
                          "#bd3786"
                        ],
                        [
                          0.5555555555555556,
                          "#d8576b"
                        ],
                        [
                          0.6666666666666666,
                          "#ed7953"
                        ],
                        [
                          0.7777777777777778,
                          "#fb9f3a"
                        ],
                        [
                          0.8888888888888888,
                          "#fdca26"
                        ],
                        [
                          1,
                          "#f0f921"
                        ]
                      ],
                      "type": "contour"
                    }
                  ],
                  "heatmapgl": [
                    {
                      "colorbar": {
                        "outlinewidth": 0,
                        "ticks": ""
                      },
                      "colorscale": [
                        [
                          0,
                          "#0d0887"
                        ],
                        [
                          0.1111111111111111,
                          "#46039f"
                        ],
                        [
                          0.2222222222222222,
                          "#7201a8"
                        ],
                        [
                          0.3333333333333333,
                          "#9c179e"
                        ],
                        [
                          0.4444444444444444,
                          "#bd3786"
                        ],
                        [
                          0.5555555555555556,
                          "#d8576b"
                        ],
                        [
                          0.6666666666666666,
                          "#ed7953"
                        ],
                        [
                          0.7777777777777778,
                          "#fb9f3a"
                        ],
                        [
                          0.8888888888888888,
                          "#fdca26"
                        ],
                        [
                          1,
                          "#f0f921"
                        ]
                      ],
                      "type": "heatmapgl"
                    }
                  ],
                  "heatmap": [
                    {
                      "colorbar": {
                        "outlinewidth": 0,
                        "ticks": ""
                      },
                      "colorscale": [
                        [
                          0,
                          "#0d0887"
                        ],
                        [
                          0.1111111111111111,
                          "#46039f"
                        ],
                        [
                          0.2222222222222222,
                          "#7201a8"
                        ],
                        [
                          0.3333333333333333,
                          "#9c179e"
                        ],
                        [
                          0.4444444444444444,
                          "#bd3786"
                        ],
                        [
                          0.5555555555555556,
                          "#d8576b"
                        ],
                        [
                          0.6666666666666666,
                          "#ed7953"
                        ],
                        [
                          0.7777777777777778,
                          "#fb9f3a"
                        ],
                        [
                          0.8888888888888888,
                          "#fdca26"
                        ],
                        [
                          1,
                          "#f0f921"
                        ]
                      ],
                      "type": "heatmap"
                    }
                  ],
                  "histogram2dcontour": [
                    {
                      "colorbar": {
                        "outlinewidth": 0,
                        "ticks": ""
                      },
                      "colorscale": [
                        [
                          0,
                          "#0d0887"
                        ],
                        [
                          0.1111111111111111,
                          "#46039f"
                        ],
                        [
                          0.2222222222222222,
                          "#7201a8"
                        ],
                        [
                          0.3333333333333333,
                          "#9c179e"
                        ],
                        [
                          0.4444444444444444,
                          "#bd3786"
                        ],
                        [
                          0.5555555555555556,
                          "#d8576b"
                        ],
                        [
                          0.6666666666666666,
                          "#ed7953"
                        ],
                        [
                          0.7777777777777778,
                          "#fb9f3a"
                        ],
                        [
                          0.8888888888888888,
                          "#fdca26"
                        ],
                        [
                          1,
                          "#f0f921"
                        ]
                      ],
                      "type": "histogram2dcontour"
                    }
                  ],
                  "histogram2d": [
                    {
                      "colorbar": {
                        "outlinewidth": 0,
                        "ticks": ""
                      },
                      "colorscale": [
                        [
                          0,
                          "#0d0887"
                        ],
                        [
                          0.1111111111111111,
                          "#46039f"
                        ],
                        [
                          0.2222222222222222,
                          "#7201a8"
                        ],
                        [
                          0.3333333333333333,
                          "#9c179e"
                        ],
                        [
                          0.4444444444444444,
                          "#bd3786"
                        ],
                        [
                          0.5555555555555556,
                          "#d8576b"
                        ],
                        [
                          0.6666666666666666,
                          "#ed7953"
                        ],
                        [
                          0.7777777777777778,
                          "#fb9f3a"
                        ],
                        [
                          0.8888888888888888,
                          "#fdca26"
                        ],
                        [
                          1,
                          "#f0f921"
                        ]
                      ],
                      "type": "histogram2d"
                    }
                  ],
                  "histogram": [
                    {
                      "marker": {
                        "pattern": {
                          "fillmode": "overlay",
                          "size": 10,
                          "solidity": 0.2
                        }
                      },
                      "type": "histogram"
                    }
                  ],
                  "mesh3d": [
                    {
                      "colorbar": {
                        "outlinewidth": 0,
                        "ticks": ""
                      },
                      "type": "mesh3d"
                    }
                  ],
                  "parcoords": [
                    {
                      "line": {
                        "colorbar": {
                          "outlinewidth": 0,
                          "ticks": ""
                        }
                      },
                      "type": "parcoords"
                    }
                  ],
                  "pie": [
                    {
                      "automargin": true,
                      "type": "pie"
                    }
                  ],
                  "scatter3d": [
                    {
                      "line": {
                        "colorbar": {
                          "outlinewidth": 0,
                          "ticks": ""
                        }
                      },
                      "marker": {
                        "colorbar": {
                          "outlinewidth": 0,
                          "ticks": ""
                        }
                      },
                      "type": "scatter3d"
                    }
                  ],
                  "scattercarpet": [
                    {
                      "marker": {
                        "colorbar": {
                          "outlinewidth": 0,
                          "ticks": ""
                        }
                      },
                      "type": "scattercarpet"
                    }
                  ],
                  "scattergeo": [
                    {
                      "marker": {
                        "colorbar": {
                          "outlinewidth": 0,
                          "ticks": ""
                        }
                      },
                      "type": "scattergeo"
                    }
                  ],
                  "scattergl": [
                    {
                      "marker": {
                        "colorbar": {
                          "outlinewidth": 0,
                          "ticks": ""
                        }
                      },
                      "type": "scattergl"
                    }
                  ],
                  "scattermapbox": [
                    {
                      "marker": {
                        "colorbar": {
                          "outlinewidth": 0,
                          "ticks": ""
                        }
                      },
                      "type": "scattermapbox"
                    }
                  ],
                  "scatterpolargl": [
                    {
                      "marker": {
                        "colorbar": {
                          "outlinewidth": 0,
                          "ticks": ""
                        }
                      },
                      "type": "scatterpolargl"
                    }
                  ],
                  "scatterpolar": [
                    {
                      "marker": {
                        "colorbar": {
                          "outlinewidth": 0,
                          "ticks": ""
                        }
                      },
                      "type": "scatterpolar"
                    }
                  ],
                  "scatter": [
                    {
                      "marker": {
                        "colorbar": {
                          "outlinewidth": 0,
                          "ticks": ""
                        }
                      },
                      "type": "scatter"
                    }
                  ],
                  "scatterternary": [
                    {
                      "marker": {
                        "colorbar": {
                          "outlinewidth": 0,
                          "ticks": ""
                        }
                      },
                      "type": "scatterternary"
                    }
                  ],
                  "surface": [
                    {
                      "colorbar": {
                        "outlinewidth": 0,
                        "ticks": ""
                      },
                      "colorscale": [
                        [
                          0,
                          "#0d0887"
                        ],
                        [
                          0.1111111111111111,
                          "#46039f"
                        ],
                        [
                          0.2222222222222222,
                          "#7201a8"
                        ],
                        [
                          0.3333333333333333,
                          "#9c179e"
                        ],
                        [
                          0.4444444444444444,
                          "#bd3786"
                        ],
                        [
                          0.5555555555555556,
                          "#d8576b"
                        ],
                        [
                          0.6666666666666666,
                          "#ed7953"
                        ],
                        [
                          0.7777777777777778,
                          "#fb9f3a"
                        ],
                        [
                          0.8888888888888888,
                          "#fdca26"
                        ],
                        [
                          1,
                          "#f0f921"
                        ]
                      ],
                      "type": "surface"
                    }
                  ],
                  "table": [
                    {
                      "cells": {
                        "fill": {
                          "color": "#EBF0F8"
                        },
                        "line": {
                          "color": "white"
                        }
                      },
                      "header": {
                        "fill": {
                          "color": "#C8D4E3"
                        },
                        "line": {
                          "color": "white"
                        }
                      },
                      "type": "table"
                    }
                  ]
                },
                "layout": {
                  "annotationdefaults": {
                    "arrowcolor": "#2a3f5f",
                    "arrowhead": 0,
                    "arrowwidth": 1
                  },
                  "autotypenumbers": "strict",
                  "coloraxis": {
                    "colorbar": {
                      "outlinewidth": 0,
                      "ticks": ""
                    }
                  },
                  "colorscale": {
                    "diverging": [
                      [
                        0,
                        "#8e0152"
                      ],
                      [
                        0.1,
                        "#c51b7d"
                      ],
                      [
                        0.2,
                        "#de77ae"
                      ],
                      [
                        0.3,
                        "#f1b6da"
                      ],
                      [
                        0.4,
                        "#fde0ef"
                      ],
                      [
                        0.5,
                        "#f7f7f7"
                      ],
                      [
                        0.6,
                        "#e6f5d0"
                      ],
                      [
                        0.7,
                        "#b8e186"
                      ],
                      [
                        0.8,
                        "#7fbc41"
                      ],
                      [
                        0.9,
                        "#4d9221"
                      ],
                      [
                        1,
                        "#276419"
                      ]
                    ],
                    "sequential": [
                      [
                        0,
                        "#0d0887"
                      ],
                      [
                        0.1111111111111111,
                        "#46039f"
                      ],
                      [
                        0.2222222222222222,
                        "#7201a8"
                      ],
                      [
                        0.3333333333333333,
                        "#9c179e"
                      ],
                      [
                        0.4444444444444444,
                        "#bd3786"
                      ],
                      [
                        0.5555555555555556,
                        "#d8576b"
                      ],
                      [
                        0.6666666666666666,
                        "#ed7953"
                      ],
                      [
                        0.7777777777777778,
                        "#fb9f3a"
                      ],
                      [
                        0.8888888888888888,
                        "#fdca26"
                      ],
                      [
                        1,
                        "#f0f921"
                      ]
                    ],
                    "sequentialminus": [
                      [
                        0,
                        "#0d0887"
                      ],
                      [
                        0.1111111111111111,
                        "#46039f"
                      ],
                      [
                        0.2222222222222222,
                        "#7201a8"
                      ],
                      [
                        0.3333333333333333,
                        "#9c179e"
                      ],
                      [
                        0.4444444444444444,
                        "#bd3786"
                      ],
                      [
                        0.5555555555555556,
                        "#d8576b"
                      ],
                      [
                        0.6666666666666666,
                        "#ed7953"
                      ],
                      [
                        0.7777777777777778,
                        "#fb9f3a"
                      ],
                      [
                        0.8888888888888888,
                        "#fdca26"
                      ],
                      [
                        1,
                        "#f0f921"
                      ]
                    ]
                  },
                  "colorway": [
                    "#636efa",
                    "#EF553B",
                    "#00cc96",
                    "#ab63fa",
                    "#FFA15A",
                    "#19d3f3",
                    "#FF6692",
                    "#B6E880",
                    "#FF97FF",
                    "#FECB52"
                  ],
                  "font": {
                    "color": "#2a3f5f"
                  },
                  "geo": {
                    "bgcolor": "white",
                    "lakecolor": "white",
                    "landcolor": "#E5ECF6",
                    "showlakes": true,
                    "showland": true,
                    "subunitcolor": "white"
                  },
                  "hoverlabel": {
                    "align": "left"
                  },
                  "hovermode": "closest",
                  "mapbox": {
                    "style": "light"
                  },
                  "paper_bgcolor": "white",
                  "plot_bgcolor": "#E5ECF6",
                  "polar": {
                    "angularaxis": {
                      "gridcolor": "white",
                      "linecolor": "white",
                      "ticks": ""
                    },
                    "bgcolor": "#E5ECF6",
                    "radialaxis": {
                      "gridcolor": "white",
                      "linecolor": "white",
                      "ticks": ""
                    }
                  },
                  "scene": {
                    "xaxis": {
                      "backgroundcolor": "#E5ECF6",
                      "gridcolor": "white",
                      "gridwidth": 2,
                      "linecolor": "white",
                      "showbackground": true,
                      "ticks": "",
                      "zerolinecolor": "white"
                    },
                    "yaxis": {
                      "backgroundcolor": "#E5ECF6",
                      "gridcolor": "white",
                      "gridwidth": 2,
                      "linecolor": "white",
                      "showbackground": true,
                      "ticks": "",
                      "zerolinecolor": "white"
                    },
                    "zaxis": {
                      "backgroundcolor": "#E5ECF6",
                      "gridcolor": "white",
                      "gridwidth": 2,
                      "linecolor": "white",
                      "showbackground": true,
                      "ticks": "",
                      "zerolinecolor": "white"
                    }
                  },
                  "shapedefaults": {
                    "line": {
                      "color": "#2a3f5f"
                    }
                  },
                  "ternary": {
                    "aaxis": {
                      "gridcolor": "white",
                      "linecolor": "white",
                      "ticks": ""
                    },
                    "baxis": {
                      "gridcolor": "white",
                      "linecolor": "white",
                      "ticks": ""
                    },
                    "bgcolor": "#E5ECF6",
                    "caxis": {
                      "gridcolor": "white",
                      "linecolor": "white",
                      "ticks": ""
                    }
                  },
                  "title": {
                    "x": 0.05
                  },
                  "xaxis": {
                    "automargin": true,
                    "gridcolor": "white",
                    "linecolor": "white",
                    "ticks": "",
                    "title": {
                      "standoff": 15
                    },
                    "zerolinecolor": "white",
                    "zerolinewidth": 2
                  },
                  "yaxis": {
                    "automargin": true,
                    "gridcolor": "white",
                    "linecolor": "white",
                    "ticks": "",
                    "title": {
                      "standoff": 15
                    },
                    "zerolinecolor": "white",
                    "zerolinewidth": 2
                  }
                }
              },
              "xaxis": {
                "anchor": "y",
                "domain": [
                  0,
                  0.94
                ]
              },
              "yaxis": {
                "anchor": "x",
                "domain": [
                  0,
                  1
                ]
              },
              "yaxis2": {
                "anchor": "x",
                "overlaying": "y",
                "side": "right"
              }
            },
            "_model_module": "jupyterlab-plotly",
            "_model_module_version": "^5.5.0",
            "_model_name": "FigureModel",
            "_py2js_addTraces": null,
            "_py2js_animate": {},
            "_py2js_deleteTraces": {},
            "_py2js_moveTraces": {},
            "_py2js_relayout": null,
            "_py2js_removeLayoutProps": {},
            "_py2js_removeTraceProps": {},
            "_py2js_restyle": {},
            "_py2js_update": null,
            "_view_count": 1,
            "_view_module": "jupyterlab-plotly",
            "_view_module_version": "^5.5.0",
            "_view_name": "FigureView"
          }
        }
      }
    }
  },
  "cells": [
    {
      "cell_type": "code",
      "execution_count": null,
      "metadata": {
        "id": "Qxs5rR8_LVLj"
      },
      "outputs": [],
      "source": [
        "!pip install -r requirements.txt"
      ]
    },
    {
      "cell_type": "code",
      "source": [
        "import ipywidgets as widgets\n",
        "from IPython.display import clear_output\n",
        "import numpy as np\n",
        "import pandas as pd\n",
        "import plotly.express as px\n",
        "import plotly.graph_objects as go\n",
        "from plotly.subplots import make_subplots\n",
        "import pycountry\n",
        "import pycountry_convert as pc\n",
        "from typing import Tuple\n",
        "\n",
        "from google.colab import output\n",
        "output.enable_custom_widget_manager()"
      ],
      "metadata": {
        "id": "vxabUZWbR_wZ"
      },
      "execution_count": 1,
      "outputs": []
    },
    {
      "cell_type": "code",
      "source": [
        "\n",
        "class BIP_data():\n",
        "  def __init__(self, path: str) -> None:\n",
        "    super().__init__()\n",
        "    self.path = path\n",
        "    self.bip_df, self.bip_pc_df = self._preprocess()\n",
        "    self.countries = None\n",
        "\n",
        "  def _preprocess(self) -> Tuple[pd.DataFrame]:\n",
        "    data = pd.read_table(self.path)\n",
        "    data[[\"na_item\",\"unit\",\"geo\"]] = data.iloc[:,0].str.split(\",\", expand=True)\n",
        "    data.drop(data.columns[0], axis=1, inplace=True)\n",
        "    data = data[data.columns[-3:].tolist() + data.columns[:-3].tolist()]\n",
        "    data.drop(\"na_item\", axis=1, inplace=True)\n",
        "\n",
        "    data.iloc[:,2:] = data.iloc[:,2:].replace(\"[a-zA-Z: ]\", \"\", regex=True).replace(\"\", 0, regex=True).astype(np.float32)\n",
        "\n",
        "    # fix country codes\n",
        "    data.drop(data[data.geo.str.len() > 2].index, inplace=True)\n",
        "    self._format_country_codes(data)\n",
        "\n",
        "    data[\"geo\"] = data[\"geo\"].apply(self.alpha2_to_alpha3)\n",
        "\n",
        "    bip_types = data[\"unit\"].unique()\n",
        "\n",
        "    bip_pc_data, bip_data = map(lambda x: data[data[\"unit\"] == x], bip_types)\n",
        "\n",
        "    for df in [bip_data, bip_pc_data]:\n",
        "      df.drop(columns=[\"unit\"], axis=1, inplace=True)\n",
        "\n",
        "    return bip_data.reset_index(drop=True, inplace=True), bip_pc_data\n",
        "\n",
        "  def _format_country_codes(self, df: pd.DataFrame) -> None:\n",
        "\n",
        "    invalid_codes = [\"UK\", \"EA\", \"XK\"]\n",
        "\n",
        "    df.drop(df[df[\"geo\"].isin(invalid_codes)].index, inplace=True)\n",
        "    df[\"geo\"].replace(\"EL\", \"GR\", inplace=True)\n",
        "\n",
        "  def alpha2_to_alpha3(self, country_alpha2: str) -> str:\n",
        "    country_name = pc.country_alpha2_to_country_name(country_alpha2)\n",
        "    country_alpha3 = pc.country_name_to_country_alpha3(country_name)\n",
        "    return country_alpha3\n",
        "\n",
        "\n",
        "              \n"
      ],
      "metadata": {
        "id": "NcH8lMUChmOK"
      },
      "execution_count": 2,
      "outputs": []
    },
    {
      "cell_type": "code",
      "source": [
        "test = BIP_data(\"https://ec.europa.eu/eurostat/estat-navtree-portlet-prod/BulkDownloadListing?file=data/tec00001.tsv.gz\")"
      ],
      "metadata": {
        "id": "SkRllBSaloHD"
      },
      "execution_count": null,
      "outputs": []
    },
    {
      "cell_type": "code",
      "source": [
        "bip = test.bip_df"
      ],
      "metadata": {
        "id": "-EF2aimWhgjP"
      },
      "execution_count": 4,
      "outputs": []
    },
    {
      "cell_type": "code",
      "source": [
        "bip_pc = test.bip_pc_df"
      ],
      "metadata": {
        "id": "fRJyqgqbCqvF"
      },
      "execution_count": 5,
      "outputs": []
    },
    {
      "cell_type": "code",
      "source": [
        "fig = go.FigureWidget()\n",
        "\n",
        "for i, country in enumerate(bip[\"geo\"]):\n",
        "  visiblity = None\n",
        "\n",
        "  if country == \"DEU\":\n",
        "    visibility = None\n",
        "  else:\n",
        "    visibility = \"legendonly\"\n",
        "\n",
        "  fig.add_trace(go.Scatter(\n",
        "      x=bip.columns[1:],\n",
        "      y=bip.iloc[i,1:],\n",
        "      name=country,\n",
        "      visible=visibility\n",
        "  ))\n",
        "\n",
        "fig.update_layout(\n",
        "    title=\"GDP of european countries\",\n",
        "    xaxis_title=\"Year\",\n",
        "    yaxis_title=\"GDP in million euro\",\n",
        "    legend_title=\"Countries\",\n",
        ")\n",
        "\n",
        "fig.show()"
      ],
      "metadata": {
        "colab": {
          "base_uri": "https://localhost:8080/",
          "height": 542
        },
        "id": "E6QoyM6Pn_6A",
        "outputId": "4245bfbe-273f-4a6a-fc9d-d6b5c3be083a"
      },
      "execution_count": 97,
      "outputs": [
        {
          "output_type": "display_data",
          "data": {
            "text/html": [
              "<html>\n",
              "<head><meta charset=\"utf-8\" /></head>\n",
              "<body>\n",
              "    <div>            <script src=\"https://cdnjs.cloudflare.com/ajax/libs/mathjax/2.7.5/MathJax.js?config=TeX-AMS-MML_SVG\"></script><script type=\"text/javascript\">if (window.MathJax) {MathJax.Hub.Config({SVG: {font: \"STIX-Web\"}});}</script>                <script type=\"text/javascript\">window.PlotlyConfig = {MathJaxConfig: 'local'};</script>\n",
              "        <script src=\"https://cdn.plot.ly/plotly-2.8.3.min.js\"></script>                <div id=\"9ebcdba8-0426-4a1f-a48f-203bfff7010f\" class=\"plotly-graph-div\" style=\"height:525px; width:100%;\"></div>            <script type=\"text/javascript\">                                    window.PLOTLYENV=window.PLOTLYENV || {};                                    if (document.getElementById(\"9ebcdba8-0426-4a1f-a48f-203bfff7010f\")) {                    Plotly.newPlot(                        \"9ebcdba8-0426-4a1f-a48f-203bfff7010f\",                        [{\"name\":\"ALB\",\"visible\":\"legendonly\",\"x\":[\"2010 \",\"2011 \",\"2012 \",\"2013 \",\"2014 \",\"2015 \",\"2016 \",\"2017 \",\"2018 \",\"2019 \",\"2020 \",\"2021 \"],\"y\":[8996.599609375,9268.2998046875,9585.7998046875,9625.400390625,9968.599609375,10264.099609375,10719.900390625,11559.0,12828.099609375,13754.2001953125,13283.2998046875,15435.900390625],\"type\":\"scatter\",\"uid\":\"86449780-6e49-46f8-a8f3-dbaca9af2276\"},{\"name\":\"AUT\",\"visible\":\"legendonly\",\"x\":[\"2010 \",\"2011 \",\"2012 \",\"2013 \",\"2014 \",\"2015 \",\"2016 \",\"2017 \",\"2018 \",\"2019 \",\"2020 \",\"2021 \"],\"y\":[295896.59375,310128.6875,318653.0,323910.1875,333146.09375,344269.1875,357608.0,369361.90625,385424.0,397518.5,379320.59375,402710.90625],\"type\":\"scatter\",\"uid\":\"43c54005-62b8-456a-95fa-6da421bf6402\"},{\"name\":\"BIH\",\"visible\":\"legendonly\",\"x\":[\"2010 \",\"2011 \",\"2012 \",\"2013 \",\"2014 \",\"2015 \",\"2016 \",\"2017 \",\"2018 \",\"2019 \",\"2020 \",\"2021 \"],\"y\":[12968.900390625,13411.7998046875,13407.5,13691.7998046875,13988.2998046875,14617.400390625,15289.900390625,16042.400390625,17099.69921875,18046.400390625,17514.30078125,19083.69921875],\"type\":\"scatter\",\"uid\":\"3688916a-bbcc-40db-8327-4ff3a4e490f3\"},{\"name\":\"BEL\",\"visible\":\"legendonly\",\"x\":[\"2010 \",\"2011 \",\"2012 \",\"2013 \",\"2014 \",\"2015 \",\"2016 \",\"2017 \",\"2018 \",\"2019 \",\"2020 \",\"2021 \"],\"y\":[363140.09375,375967.8125,386174.6875,392880.0,403003.3125,416701.40625,430085.3125,445050.09375,460091.6875,478238.90625,456731.5,506205.0],\"type\":\"scatter\",\"uid\":\"ed66e346-6e7c-4a1e-9b6b-a51b52766c74\"},{\"name\":\"BGR\",\"visible\":\"legendonly\",\"x\":[\"2010 \",\"2011 \",\"2012 \",\"2013 \",\"2014 \",\"2015 \",\"2016 \",\"2017 \",\"2018 \",\"2019 \",\"2020 \",\"2021 \"],\"y\":[38284.8984375,41478.8984375,42256.80078125,42050.19921875,43026.0,45812.30078125,48773.1015625,52531.30078125,56224.69921875,61558.0,61331.0,67872.1015625],\"type\":\"scatter\",\"uid\":\"a2fd8ae9-a28c-4874-8dc7-c93124fbf828\"},{\"name\":\"CHE\",\"visible\":\"legendonly\",\"x\":[\"2010 \",\"2011 \",\"2012 \",\"2013 \",\"2014 \",\"2015 \",\"2016 \",\"2017 \",\"2018 \",\"2019 \",\"2020 \",\"2021 \"],\"y\":[455933.6875,520201.40625,538439.0,536632.875,553942.1875,632770.5,628729.625,623994.0,622746.0,653732.625,659730.8125,687110.375],\"type\":\"scatter\",\"uid\":\"9c8ff3e5-c99a-4f4e-a965-a0e75cfbc14e\"},{\"name\":\"CYP\",\"visible\":\"legendonly\",\"x\":[\"2010 \",\"2011 \",\"2012 \",\"2013 \",\"2014 \",\"2015 \",\"2016 \",\"2017 \",\"2018 \",\"2019 \",\"2020 \",\"2021 \"],\"y\":[19410.0,19803.0,19440.80078125,17995.0,17430.19921875,17884.0,18929.30078125,20245.30078125,21612.599609375,23009.900390625,21617.900390625,23436.69921875],\"type\":\"scatter\",\"uid\":\"6bd9c6d0-63a2-4d5e-9b6b-ca405e1dea3f\"},{\"name\":\"CZE\",\"visible\":\"legendonly\",\"x\":[\"2010 \",\"2011 \",\"2012 \",\"2013 \",\"2014 \",\"2015 \",\"2016 \",\"2017 \",\"2018 \",\"2019 \",\"2020 \",\"2021 \"],\"y\":[157920.796875,165202.203125,162587.5,159461.5,157821.296875,169558.203125,177438.5,194132.90625,210970.5,225613.5,215805.40625,238238.203125],\"type\":\"scatter\",\"uid\":\"39d2757f-bedc-4f65-a246-3f436ac2a9da\"},{\"name\":\"DEU\",\"x\":[\"2010 \",\"2011 \",\"2012 \",\"2013 \",\"2014 \",\"2015 \",\"2016 \",\"2017 \",\"2018 \",\"2019 \",\"2020 \",\"2021 \"],\"y\":[2564400.0,2693560.0,2745310.0,2811350.0,2927430.0,3026180.0,3134740.0,3267160.0,3367860.0,3473350.0,3367560.0,3570620.0],\"type\":\"scatter\",\"uid\":\"d901167c-7f03-45e9-8ca9-c1eb26adb746\"},{\"name\":\"DNK\",\"visible\":\"legendonly\",\"x\":[\"2010 \",\"2011 \",\"2012 \",\"2013 \",\"2014 \",\"2015 \",\"2016 \",\"2017 \",\"2018 \",\"2019 \",\"2020 \",\"2021 \"],\"y\":[243165.40625,247879.90625,254578.0,258742.703125,265757.0,273017.59375,283109.6875,294808.1875,302328.6875,309526.40625,311759.6875,336718.8125],\"type\":\"scatter\",\"uid\":\"15dfd11f-fa1c-4836-88ed-8fec502dc091\"},{\"name\":\"EST\",\"visible\":\"legendonly\",\"x\":[\"2010 \",\"2011 \",\"2012 \",\"2013 \",\"2014 \",\"2015 \",\"2016 \",\"2017 \",\"2018 \",\"2019 \",\"2020 \",\"2021 \"],\"y\":[14741.099609375,16677.30078125,17916.69921875,18910.80078125,20048.19921875,20631.400390625,21747.900390625,23833.599609375,25817.69921875,27732.30078125,26834.5,30660.099609375],\"type\":\"scatter\",\"uid\":\"d9c26bbd-1cbe-4017-9c7e-726309f6d97d\"},{\"name\":\"GRC\",\"visible\":\"legendonly\",\"x\":[\"2010 \",\"2011 \",\"2012 \",\"2013 \",\"2014 \",\"2015 \",\"2016 \",\"2017 \",\"2018 \",\"2019 \",\"2020 \",\"2021 \"],\"y\":[224124.0,203308.203125,188380.59375,179884.40625,177236.0,176368.90625,174494.203125,176903.40625,179557.703125,183250.40625,165326.40625,182830.203125],\"type\":\"scatter\",\"uid\":\"be9a78cc-191d-4b8d-804d-3bc56b4cfbb4\"},{\"name\":\"ESP\",\"visible\":\"legendonly\",\"x\":[\"2010 \",\"2011 \",\"2012 \",\"2013 \",\"2014 \",\"2015 \",\"2016 \",\"2017 \",\"2018 \",\"2019 \",\"2020 \",\"2021 \"],\"y\":[1072709.0,1063763.0,1031099.0,1020348.0,1032158.0,1077590.0,1113840.0,1161867.0,1203259.0,1244375.0,1121948.0,1205063.0],\"type\":\"scatter\",\"uid\":\"8db5a360-cd0f-4b5b-b07d-dc293edb3470\"},{\"name\":\"FIN\",\"visible\":\"legendonly\",\"x\":[\"2010 \",\"2011 \",\"2012 \",\"2013 \",\"2014 \",\"2015 \",\"2016 \",\"2017 \",\"2018 \",\"2019 \",\"2020 \",\"2021 \"],\"y\":[188143.0,197998.0,201037.0,204321.0,206897.0,211385.0,217518.0,226301.0,233462.0,239858.0,237987.0,251431.0],\"type\":\"scatter\",\"uid\":\"f449b37e-7eba-40b7-8ccf-e9a46045932f\"},{\"name\":\"FRA\",\"visible\":\"legendonly\",\"x\":[\"2010 \",\"2011 \",\"2012 \",\"2013 \",\"2014 \",\"2015 \",\"2016 \",\"2017 \",\"2018 \",\"2019 \",\"2020 \",\"2021 \"],\"y\":[1995289.0,2058369.0,2088804.0,2117189.0,2149765.0,2198432.0,2234129.0,2297242.0,2363306.0,2437635.0,2310469.0,2500870.0],\"type\":\"scatter\",\"uid\":\"0fe366ae-5308-4fc3-83a8-26c0d328cfb8\"},{\"name\":\"HRV\",\"visible\":\"legendonly\",\"x\":[\"2010 \",\"2011 \",\"2012 \",\"2013 \",\"2014 \",\"2015 \",\"2016 \",\"2017 \",\"2018 \",\"2019 \",\"2020 \",\"2021 \"],\"y\":[45578.0,45378.6015625,44483.6015625,44329.3984375,43918.6015625,45186.19921875,47246.30078125,49888.80078125,52688.80078125,55571.3984375,50188.5,57199.5],\"type\":\"scatter\",\"uid\":\"d224712e-4131-4cee-b404-505a98706cbb\"},{\"name\":\"HUN\",\"visible\":\"legendonly\",\"x\":[\"2010 \",\"2011 \",\"2012 \",\"2013 \",\"2014 \",\"2015 \",\"2016 \",\"2017 \",\"2018 \",\"2019 \",\"2020 \",\"2021 \"],\"y\":[99813.796875,102193.5,100281.203125,102276.1015625,106297.796875,112823.6015625,116279.3984375,127046.0,136073.40625,146113.203125,137441.59375,154124.40625],\"type\":\"scatter\",\"uid\":\"e733ad00-9300-4071-a57a-821b2e6ecd1d\"},{\"name\":\"IRL\",\"visible\":\"legendonly\",\"x\":[\"2010 \",\"2011 \",\"2012 \",\"2013 \",\"2014 \",\"2015 \",\"2016 \",\"2017 \",\"2018 \",\"2019 \",\"2020 \",\"2021 \"],\"y\":[167363.09375,171683.40625,175512.796875,179411.203125,194933.796875,262800.0,270058.09375,296925.1875,326042.8125,356526.3125,372868.5,421529.1875],\"type\":\"scatter\",\"uid\":\"3e833d06-0fc0-4ff0-a248-ba00eb6ed5d9\"},{\"name\":\"ISL\",\"visible\":\"legendonly\",\"x\":[\"2010 \",\"2011 \",\"2012 \",\"2013 \",\"2014 \",\"2015 \",\"2016 \",\"2017 \",\"2018 \",\"2019 \",\"2020 \",\"2021 \"],\"y\":[10383.400390625,10934.2998046875,11479.900390625,12132.900390625,13472.599609375,15795.2998046875,18804.19921875,21917.69921875,22241.099609375,22166.80078125,18943.400390625,21531.80078125],\"type\":\"scatter\",\"uid\":\"a8c908bf-60b8-4e1a-abcc-6e8e113a2a58\"},{\"name\":\"ITA\",\"visible\":\"legendonly\",\"x\":[\"2010 \",\"2011 \",\"2012 \",\"2013 \",\"2014 \",\"2015 \",\"2016 \",\"2017 \",\"2018 \",\"2019 \",\"2020 \",\"2021 \"],\"y\":[1611279.375,1648755.75,1624358.75,1612751.25,1627405.625,1655355.0,1695786.75,1736592.75,1771391.25,1796633.75,1656960.75,1775436.375],\"type\":\"scatter\",\"uid\":\"739f5347-98cb-4046-a8a7-38b9f122c20a\"},{\"name\":\"LIE\",\"visible\":\"legendonly\",\"x\":[\"2010 \",\"2011 \",\"2012 \",\"2013 \",\"2014 \",\"2015 \",\"2016 \",\"2017 \",\"2018 \",\"2019 \",\"2020 \",\"2021 \"],\"y\":[0.0,0.0,0.0,4812.39990234375,5021.7001953125,5649.10009765625,5637.7001953125,5734.60009765625,5666.2998046875,5742.0,5362.89990234375,0.0],\"type\":\"scatter\",\"uid\":\"7ba06ee5-0082-413f-bb3d-3524feb88965\"},{\"name\":\"LTU\",\"visible\":\"legendonly\",\"x\":[\"2010 \",\"2011 \",\"2012 \",\"2013 \",\"2014 \",\"2015 \",\"2016 \",\"2017 \",\"2018 \",\"2019 \",\"2020 \",\"2021 \"],\"y\":[28033.80078125,31317.19921875,33410.19921875,35039.5,36581.30078125,37345.69921875,38889.8984375,42276.30078125,45514.80078125,48859.8984375,49507.19921875,55383.1015625],\"type\":\"scatter\",\"uid\":\"d44c4841-ff4b-42d9-a4bf-0761602debf7\"},{\"name\":\"LUX\",\"visible\":\"legendonly\",\"x\":[\"2010 \",\"2011 \",\"2012 \",\"2013 \",\"2014 \",\"2015 \",\"2016 \",\"2017 \",\"2018 \",\"2019 \",\"2020 \",\"2021 \"],\"y\":[42402.69921875,44323.5,46526.19921875,49094.5,51791.30078125,54142.30078125,56208.1015625,58168.80078125,60362.19921875,62704.19921875,64221.1015625,73313.5],\"type\":\"scatter\",\"uid\":\"65705a6b-6c36-461b-8273-2795a77fc2e2\"},{\"name\":\"LVA\",\"visible\":\"legendonly\",\"x\":[\"2010 \",\"2011 \",\"2012 \",\"2013 \",\"2014 \",\"2015 \",\"2016 \",\"2017 \",\"2018 \",\"2019 \",\"2020 \",\"2021 \"],\"y\":[17937.5,19666.0,22097.5,22791.30078125,23625.80078125,24572.099609375,25371.30078125,26984.400390625,29153.599609375,30647.19921875,29456.80078125,32866.5],\"type\":\"scatter\",\"uid\":\"96187e20-f6ca-4eec-9008-6ef81d3ad208\"},{\"name\":\"MNE\",\"visible\":\"legendonly\",\"x\":[\"2010 \",\"2011 \",\"2012 \",\"2013 \",\"2014 \",\"2015 \",\"2016 \",\"2017 \",\"2018 \",\"2019 \",\"2020 \",\"2021 \"],\"y\":[3125.10009765625,3264.800048828125,3181.5,3362.5,3457.89990234375,3654.5,3954.199951171875,4299.10009765625,4663.10009765625,4950.7001953125,4185.60009765625,4911.60009765625],\"type\":\"scatter\",\"uid\":\"8e7ee6d6-5030-4f92-839d-2b00fc589e3a\"},{\"name\":\"MKD\",\"visible\":\"legendonly\",\"x\":[\"2010 \",\"2011 \",\"2012 \",\"2013 \",\"2014 \",\"2015 \",\"2016 \",\"2017 \",\"2018 \",\"2019 \",\"2020 \",\"2021 \"],\"y\":[7108.2998046875,7544.2001953125,7584.7998046875,8149.60009765625,8562.0,9072.2998046875,9656.5,10038.2998046875,10744.0,11262.0,10635.2998046875,11734.0],\"type\":\"scatter\",\"uid\":\"e9e94195-5ca1-422e-bc38-eb4b44cf4d53\"},{\"name\":\"MLT\",\"visible\":\"legendonly\",\"x\":[\"2010 \",\"2011 \",\"2012 \",\"2013 \",\"2014 \",\"2015 \",\"2016 \",\"2017 \",\"2018 \",\"2019 \",\"2020 \",\"2021 \"],\"y\":[6815.7998046875,6924.60009765625,7364.5,7944.2998046875,8751.099609375,9996.7001953125,10541.099609375,11941.0,12954.7998046875,14047.099609375,13066.0,14684.7998046875],\"type\":\"scatter\",\"uid\":\"14f7b2b0-b56e-4e2d-809f-b6cf0771fbad\"},{\"name\":\"NLD\",\"visible\":\"legendonly\",\"x\":[\"2010 \",\"2011 \",\"2012 \",\"2013 \",\"2014 \",\"2015 \",\"2016 \",\"2017 \",\"2018 \",\"2019 \",\"2020 \",\"2021 \"],\"y\":[639187.0,650359.0,652966.0,660463.0,671560.0,690008.0,708337.0,738146.0,773987.0,813055.0,796530.0,856356.0],\"type\":\"scatter\",\"uid\":\"85f1efea-e6ab-47c8-8d9b-779bb4765bf8\"},{\"name\":\"NOR\",\"visible\":\"legendonly\",\"x\":[\"2010 \",\"2011 \",\"2012 \",\"2013 \",\"2014 \",\"2015 \",\"2016 \",\"2017 \",\"2018 \",\"2019 \",\"2020 \",\"2021 \"],\"y\":[323760.90625,358339.5,396523.5,393408.6875,375947.3125,347632.09375,333471.3125,353316.40625,370294.3125,361734.59375,318051.1875,407533.1875],\"type\":\"scatter\",\"uid\":\"d4da40fc-8716-4094-80be-064006e4a8ae\"},{\"name\":\"POL\",\"visible\":\"legendonly\",\"x\":[\"2010 \",\"2011 \",\"2012 \",\"2013 \",\"2014 \",\"2015 \",\"2016 \",\"2017 \",\"2018 \",\"2019 \",\"2020 \",\"2021 \"],\"y\":[362190.90625,379860.0,387947.0,392310.6875,408967.8125,430465.8125,427091.8125,467426.59375,497842.3125,533599.875,526445.1875,574385.375],\"type\":\"scatter\",\"uid\":\"90c6ffdc-abf8-4b88-bd40-f71b296467ce\"},{\"name\":\"PRT\",\"visible\":\"legendonly\",\"x\":[\"2010 \",\"2011 \",\"2012 \",\"2013 \",\"2014 \",\"2015 \",\"2016 \",\"2017 \",\"2018 \",\"2019 \",\"2020 \",\"2021 \"],\"y\":[179610.796875,176096.203125,168295.59375,170492.296875,173053.703125,179713.203125,186489.796875,195947.203125,205184.09375,214374.59375,200087.59375,211279.703125],\"type\":\"scatter\",\"uid\":\"b1e01ad7-c605-4f22-b13a-98a8500391aa\"},{\"name\":\"ROU\",\"visible\":\"legendonly\",\"x\":[\"2010 \",\"2011 \",\"2012 \",\"2013 \",\"2014 \",\"2015 \",\"2016 \",\"2017 \",\"2018 \",\"2019 \",\"2020 \",\"2021 \"],\"y\":[125472.296875,131841.59375,132711.203125,143690.40625,150708.59375,160149.796875,170063.40625,187772.703125,204496.90625,223162.5,218863.296875,240154.0],\"type\":\"scatter\",\"uid\":\"2ffc7ab8-4747-4fe4-ac61-06c85c289555\"},{\"name\":\"SRB\",\"visible\":\"legendonly\",\"x\":[\"2010 \",\"2011 \",\"2012 \",\"2013 \",\"2014 \",\"2015 \",\"2016 \",\"2017 \",\"2018 \",\"2019 \",\"2020 \",\"2021 \"],\"y\":[31545.80078125,35431.69921875,33679.30078125,36426.69921875,35467.5,35740.19921875,36779.30078125,39235.30078125,42892.19921875,46005.3984375,46796.3984375,53317.5],\"type\":\"scatter\",\"uid\":\"5c069ce2-2ae7-4b9d-9fa5-3330ae41ab4d\"},{\"name\":\"SWE\",\"visible\":\"legendonly\",\"x\":[\"2010 \",\"2011 \",\"2012 \",\"2013 \",\"2014 \",\"2015 \",\"2016 \",\"2017 \",\"2018 \",\"2019 \",\"2020 \",\"2021 \"],\"y\":[374695.1875,412844.6875,430037.09375,441850.6875,438833.90625,455494.6875,466266.5,480025.5,470673.09375,476869.5,480556.40625,537830.0],\"type\":\"scatter\",\"uid\":\"5d813edc-bd48-47ff-b511-596419ee67de\"},{\"name\":\"SVN\",\"visible\":\"legendonly\",\"x\":[\"2010 \",\"2011 \",\"2012 \",\"2013 \",\"2014 \",\"2015 \",\"2016 \",\"2017 \",\"2018 \",\"2019 \",\"2020 \",\"2021 \"],\"y\":[36363.8984375,37058.6015625,36253.30078125,36454.30078125,37634.30078125,38852.6015625,40443.19921875,43011.30078125,45864.19921875,48396.69921875,46918.0,52020.19921875],\"type\":\"scatter\",\"uid\":\"18be5355-c1db-427a-a485-26bf9f8e9f52\"},{\"name\":\"SVK\",\"visible\":\"legendonly\",\"x\":[\"2010 \",\"2011 \",\"2012 \",\"2013 \",\"2014 \",\"2015 \",\"2016 \",\"2017 \",\"2018 \",\"2019 \",\"2020 \",\"2021 \"],\"y\":[68492.1015625,71477.1015625,73360.796875,74217.296875,76092.703125,79888.1015625,81014.296875,84442.8984375,89430.0,94048.0,92079.296875,97122.5],\"type\":\"scatter\",\"uid\":\"cb85ffbf-bb99-40ba-86cc-d4ddedf62c70\"},{\"name\":\"TUR\",\"visible\":\"legendonly\",\"x\":[\"2010 \",\"2011 \",\"2012 \",\"2013 \",\"2014 \",\"2015 \",\"2016 \",\"2017 \",\"2018 \",\"2019 \",\"2020 \",\"2021 \"],\"y\":[584855.6875,600961.375,683587.3125,719726.625,707000.8125,777042.3125,785618.875,760497.125,658544.375,679132.1875,626576.1875,685765.375],\"type\":\"scatter\",\"uid\":\"522c6deb-fc0d-4550-819c-a21463019bba\"}],                        {\"template\":{\"data\":{\"barpolar\":[{\"marker\":{\"line\":{\"color\":\"#E5ECF6\",\"width\":0.5},\"pattern\":{\"fillmode\":\"overlay\",\"size\":10,\"solidity\":0.2}},\"type\":\"barpolar\"}],\"bar\":[{\"error_x\":{\"color\":\"#2a3f5f\"},\"error_y\":{\"color\":\"#2a3f5f\"},\"marker\":{\"line\":{\"color\":\"#E5ECF6\",\"width\":0.5},\"pattern\":{\"fillmode\":\"overlay\",\"size\":10,\"solidity\":0.2}},\"type\":\"bar\"}],\"carpet\":[{\"aaxis\":{\"endlinecolor\":\"#2a3f5f\",\"gridcolor\":\"white\",\"linecolor\":\"white\",\"minorgridcolor\":\"white\",\"startlinecolor\":\"#2a3f5f\"},\"baxis\":{\"endlinecolor\":\"#2a3f5f\",\"gridcolor\":\"white\",\"linecolor\":\"white\",\"minorgridcolor\":\"white\",\"startlinecolor\":\"#2a3f5f\"},\"type\":\"carpet\"}],\"choropleth\":[{\"colorbar\":{\"outlinewidth\":0,\"ticks\":\"\"},\"type\":\"choropleth\"}],\"contourcarpet\":[{\"colorbar\":{\"outlinewidth\":0,\"ticks\":\"\"},\"type\":\"contourcarpet\"}],\"contour\":[{\"colorbar\":{\"outlinewidth\":0,\"ticks\":\"\"},\"colorscale\":[[0.0,\"#0d0887\"],[0.1111111111111111,\"#46039f\"],[0.2222222222222222,\"#7201a8\"],[0.3333333333333333,\"#9c179e\"],[0.4444444444444444,\"#bd3786\"],[0.5555555555555556,\"#d8576b\"],[0.6666666666666666,\"#ed7953\"],[0.7777777777777778,\"#fb9f3a\"],[0.8888888888888888,\"#fdca26\"],[1.0,\"#f0f921\"]],\"type\":\"contour\"}],\"heatmapgl\":[{\"colorbar\":{\"outlinewidth\":0,\"ticks\":\"\"},\"colorscale\":[[0.0,\"#0d0887\"],[0.1111111111111111,\"#46039f\"],[0.2222222222222222,\"#7201a8\"],[0.3333333333333333,\"#9c179e\"],[0.4444444444444444,\"#bd3786\"],[0.5555555555555556,\"#d8576b\"],[0.6666666666666666,\"#ed7953\"],[0.7777777777777778,\"#fb9f3a\"],[0.8888888888888888,\"#fdca26\"],[1.0,\"#f0f921\"]],\"type\":\"heatmapgl\"}],\"heatmap\":[{\"colorbar\":{\"outlinewidth\":0,\"ticks\":\"\"},\"colorscale\":[[0.0,\"#0d0887\"],[0.1111111111111111,\"#46039f\"],[0.2222222222222222,\"#7201a8\"],[0.3333333333333333,\"#9c179e\"],[0.4444444444444444,\"#bd3786\"],[0.5555555555555556,\"#d8576b\"],[0.6666666666666666,\"#ed7953\"],[0.7777777777777778,\"#fb9f3a\"],[0.8888888888888888,\"#fdca26\"],[1.0,\"#f0f921\"]],\"type\":\"heatmap\"}],\"histogram2dcontour\":[{\"colorbar\":{\"outlinewidth\":0,\"ticks\":\"\"},\"colorscale\":[[0.0,\"#0d0887\"],[0.1111111111111111,\"#46039f\"],[0.2222222222222222,\"#7201a8\"],[0.3333333333333333,\"#9c179e\"],[0.4444444444444444,\"#bd3786\"],[0.5555555555555556,\"#d8576b\"],[0.6666666666666666,\"#ed7953\"],[0.7777777777777778,\"#fb9f3a\"],[0.8888888888888888,\"#fdca26\"],[1.0,\"#f0f921\"]],\"type\":\"histogram2dcontour\"}],\"histogram2d\":[{\"colorbar\":{\"outlinewidth\":0,\"ticks\":\"\"},\"colorscale\":[[0.0,\"#0d0887\"],[0.1111111111111111,\"#46039f\"],[0.2222222222222222,\"#7201a8\"],[0.3333333333333333,\"#9c179e\"],[0.4444444444444444,\"#bd3786\"],[0.5555555555555556,\"#d8576b\"],[0.6666666666666666,\"#ed7953\"],[0.7777777777777778,\"#fb9f3a\"],[0.8888888888888888,\"#fdca26\"],[1.0,\"#f0f921\"]],\"type\":\"histogram2d\"}],\"histogram\":[{\"marker\":{\"pattern\":{\"fillmode\":\"overlay\",\"size\":10,\"solidity\":0.2}},\"type\":\"histogram\"}],\"mesh3d\":[{\"colorbar\":{\"outlinewidth\":0,\"ticks\":\"\"},\"type\":\"mesh3d\"}],\"parcoords\":[{\"line\":{\"colorbar\":{\"outlinewidth\":0,\"ticks\":\"\"}},\"type\":\"parcoords\"}],\"pie\":[{\"automargin\":true,\"type\":\"pie\"}],\"scatter3d\":[{\"line\":{\"colorbar\":{\"outlinewidth\":0,\"ticks\":\"\"}},\"marker\":{\"colorbar\":{\"outlinewidth\":0,\"ticks\":\"\"}},\"type\":\"scatter3d\"}],\"scattercarpet\":[{\"marker\":{\"colorbar\":{\"outlinewidth\":0,\"ticks\":\"\"}},\"type\":\"scattercarpet\"}],\"scattergeo\":[{\"marker\":{\"colorbar\":{\"outlinewidth\":0,\"ticks\":\"\"}},\"type\":\"scattergeo\"}],\"scattergl\":[{\"marker\":{\"colorbar\":{\"outlinewidth\":0,\"ticks\":\"\"}},\"type\":\"scattergl\"}],\"scattermapbox\":[{\"marker\":{\"colorbar\":{\"outlinewidth\":0,\"ticks\":\"\"}},\"type\":\"scattermapbox\"}],\"scatterpolargl\":[{\"marker\":{\"colorbar\":{\"outlinewidth\":0,\"ticks\":\"\"}},\"type\":\"scatterpolargl\"}],\"scatterpolar\":[{\"marker\":{\"colorbar\":{\"outlinewidth\":0,\"ticks\":\"\"}},\"type\":\"scatterpolar\"}],\"scatter\":[{\"marker\":{\"colorbar\":{\"outlinewidth\":0,\"ticks\":\"\"}},\"type\":\"scatter\"}],\"scatterternary\":[{\"marker\":{\"colorbar\":{\"outlinewidth\":0,\"ticks\":\"\"}},\"type\":\"scatterternary\"}],\"surface\":[{\"colorbar\":{\"outlinewidth\":0,\"ticks\":\"\"},\"colorscale\":[[0.0,\"#0d0887\"],[0.1111111111111111,\"#46039f\"],[0.2222222222222222,\"#7201a8\"],[0.3333333333333333,\"#9c179e\"],[0.4444444444444444,\"#bd3786\"],[0.5555555555555556,\"#d8576b\"],[0.6666666666666666,\"#ed7953\"],[0.7777777777777778,\"#fb9f3a\"],[0.8888888888888888,\"#fdca26\"],[1.0,\"#f0f921\"]],\"type\":\"surface\"}],\"table\":[{\"cells\":{\"fill\":{\"color\":\"#EBF0F8\"},\"line\":{\"color\":\"white\"}},\"header\":{\"fill\":{\"color\":\"#C8D4E3\"},\"line\":{\"color\":\"white\"}},\"type\":\"table\"}]},\"layout\":{\"annotationdefaults\":{\"arrowcolor\":\"#2a3f5f\",\"arrowhead\":0,\"arrowwidth\":1},\"autotypenumbers\":\"strict\",\"coloraxis\":{\"colorbar\":{\"outlinewidth\":0,\"ticks\":\"\"}},\"colorscale\":{\"diverging\":[[0,\"#8e0152\"],[0.1,\"#c51b7d\"],[0.2,\"#de77ae\"],[0.3,\"#f1b6da\"],[0.4,\"#fde0ef\"],[0.5,\"#f7f7f7\"],[0.6,\"#e6f5d0\"],[0.7,\"#b8e186\"],[0.8,\"#7fbc41\"],[0.9,\"#4d9221\"],[1,\"#276419\"]],\"sequential\":[[0.0,\"#0d0887\"],[0.1111111111111111,\"#46039f\"],[0.2222222222222222,\"#7201a8\"],[0.3333333333333333,\"#9c179e\"],[0.4444444444444444,\"#bd3786\"],[0.5555555555555556,\"#d8576b\"],[0.6666666666666666,\"#ed7953\"],[0.7777777777777778,\"#fb9f3a\"],[0.8888888888888888,\"#fdca26\"],[1.0,\"#f0f921\"]],\"sequentialminus\":[[0.0,\"#0d0887\"],[0.1111111111111111,\"#46039f\"],[0.2222222222222222,\"#7201a8\"],[0.3333333333333333,\"#9c179e\"],[0.4444444444444444,\"#bd3786\"],[0.5555555555555556,\"#d8576b\"],[0.6666666666666666,\"#ed7953\"],[0.7777777777777778,\"#fb9f3a\"],[0.8888888888888888,\"#fdca26\"],[1.0,\"#f0f921\"]]},\"colorway\":[\"#636efa\",\"#EF553B\",\"#00cc96\",\"#ab63fa\",\"#FFA15A\",\"#19d3f3\",\"#FF6692\",\"#B6E880\",\"#FF97FF\",\"#FECB52\"],\"font\":{\"color\":\"#2a3f5f\"},\"geo\":{\"bgcolor\":\"white\",\"lakecolor\":\"white\",\"landcolor\":\"#E5ECF6\",\"showlakes\":true,\"showland\":true,\"subunitcolor\":\"white\"},\"hoverlabel\":{\"align\":\"left\"},\"hovermode\":\"closest\",\"mapbox\":{\"style\":\"light\"},\"paper_bgcolor\":\"white\",\"plot_bgcolor\":\"#E5ECF6\",\"polar\":{\"angularaxis\":{\"gridcolor\":\"white\",\"linecolor\":\"white\",\"ticks\":\"\"},\"bgcolor\":\"#E5ECF6\",\"radialaxis\":{\"gridcolor\":\"white\",\"linecolor\":\"white\",\"ticks\":\"\"}},\"scene\":{\"xaxis\":{\"backgroundcolor\":\"#E5ECF6\",\"gridcolor\":\"white\",\"gridwidth\":2,\"linecolor\":\"white\",\"showbackground\":true,\"ticks\":\"\",\"zerolinecolor\":\"white\"},\"yaxis\":{\"backgroundcolor\":\"#E5ECF6\",\"gridcolor\":\"white\",\"gridwidth\":2,\"linecolor\":\"white\",\"showbackground\":true,\"ticks\":\"\",\"zerolinecolor\":\"white\"},\"zaxis\":{\"backgroundcolor\":\"#E5ECF6\",\"gridcolor\":\"white\",\"gridwidth\":2,\"linecolor\":\"white\",\"showbackground\":true,\"ticks\":\"\",\"zerolinecolor\":\"white\"}},\"shapedefaults\":{\"line\":{\"color\":\"#2a3f5f\"}},\"ternary\":{\"aaxis\":{\"gridcolor\":\"white\",\"linecolor\":\"white\",\"ticks\":\"\"},\"baxis\":{\"gridcolor\":\"white\",\"linecolor\":\"white\",\"ticks\":\"\"},\"bgcolor\":\"#E5ECF6\",\"caxis\":{\"gridcolor\":\"white\",\"linecolor\":\"white\",\"ticks\":\"\"}},\"title\":{\"x\":0.05},\"xaxis\":{\"automargin\":true,\"gridcolor\":\"white\",\"linecolor\":\"white\",\"ticks\":\"\",\"title\":{\"standoff\":15},\"zerolinecolor\":\"white\",\"zerolinewidth\":2},\"yaxis\":{\"automargin\":true,\"gridcolor\":\"white\",\"linecolor\":\"white\",\"ticks\":\"\",\"title\":{\"standoff\":15},\"zerolinecolor\":\"white\",\"zerolinewidth\":2}}},\"title\":{\"text\":\"GDP of european countries\"},\"xaxis\":{\"title\":{\"text\":\"Year\"}},\"yaxis\":{\"title\":{\"text\":\"GDP in million euro\"}},\"legend\":{\"title\":{\"text\":\"Countries\"}}},                        {\"responsive\": true}                    ).then(function(){\n",
              "                            \n",
              "var gd = document.getElementById('9ebcdba8-0426-4a1f-a48f-203bfff7010f');\n",
              "var x = new MutationObserver(function (mutations, observer) {{\n",
              "        var display = window.getComputedStyle(gd).display;\n",
              "        if (!display || display === 'none') {{\n",
              "            console.log([gd, 'removed!']);\n",
              "            Plotly.purge(gd);\n",
              "            observer.disconnect();\n",
              "        }}\n",
              "}});\n",
              "\n",
              "// Listen for the removal of the full notebook cells\n",
              "var notebookContainer = gd.closest('#notebook-container');\n",
              "if (notebookContainer) {{\n",
              "    x.observe(notebookContainer, {childList: true});\n",
              "}}\n",
              "\n",
              "// Listen for the clearing of the current output cell\n",
              "var outputEl = gd.closest('.output');\n",
              "if (outputEl) {{\n",
              "    x.observe(outputEl, {childList: true});\n",
              "}}\n",
              "\n",
              "                        })                };                            </script>        </div>\n",
              "</body>\n",
              "</html>"
            ]
          },
          "metadata": {}
        }
      ]
    },
    {
      "cell_type": "code",
      "source": [
        "bip_melted = bip.melt(id_vars=\"geo\", value_vars=bip.columns[2:], var_name=\"year\")\n",
        "bip_melted[\"geo\"] = bip_melted[\"geo\"].astype(str)\n",
        "bip_melted[\"value\"] = bip_melted[\"value\"].astype(np.float32)\n",
        "bip_melted[\"year\"] = bip_melted[\"year\"].astype(int)\n"
      ],
      "metadata": {
        "id": "MmB2CNXYH8i5"
      },
      "execution_count": 129,
      "outputs": []
    },
    {
      "cell_type": "code",
      "source": [
        "fig3 = px.choropleth(\n",
        "          bip_melted,\n",
        "          locations='geo', \n",
        "          color='value',\n",
        "          scope=\"europe\",\n",
        "          title='Total GDP',\n",
        "          range_color=(bip_melted[\"value\"].min(), bip_melted[\"value\"].max()),\n",
        "          height=600,\n",
        "          animation_frame=\"year\",\n",
        "          basemap_visible=True\n",
        "        )\n",
        "fig3.update_geos(resolution=50)\n",
        "fig3.update_layout(margin={\"r\":60,\"t\":60,\"l\":50,\"b\":50})\n",
        "fig3.update_layout(coloraxis={\n",
        "    \"colorbar\":{\"x\":-0.2,\n",
        "                \"title\":{\"text\":\"GDP in million EUR\", \"side\":\"right\"}}})\n",
        "\n",
        "fig3.show()"
      ],
      "metadata": {
        "colab": {
          "base_uri": "https://localhost:8080/",
          "height": 617
        },
        "id": "jnWgVOixFa3H",
        "outputId": "1cac5861-60ca-4138-dd30-ef0adb041480"
      },
      "execution_count": 377,
      "outputs": [
        {
          "output_type": "display_data",
          "data": {
            "text/html": [
              "<html>\n",
              "<head><meta charset=\"utf-8\" /></head>\n",
              "<body>\n",
              "    <div>            <script src=\"https://cdnjs.cloudflare.com/ajax/libs/mathjax/2.7.5/MathJax.js?config=TeX-AMS-MML_SVG\"></script><script type=\"text/javascript\">if (window.MathJax) {MathJax.Hub.Config({SVG: {font: \"STIX-Web\"}});}</script>                <script type=\"text/javascript\">window.PlotlyConfig = {MathJaxConfig: 'local'};</script>\n",
              "        <script src=\"https://cdn.plot.ly/plotly-2.8.3.min.js\"></script>                <div id=\"02e04218-d8ac-4ff5-b53c-dc3355f0723d\" class=\"plotly-graph-div\" style=\"height:600px; width:100%;\"></div>            <script type=\"text/javascript\">                                    window.PLOTLYENV=window.PLOTLYENV || {};                                    if (document.getElementById(\"02e04218-d8ac-4ff5-b53c-dc3355f0723d\")) {                    Plotly.newPlot(                        \"02e04218-d8ac-4ff5-b53c-dc3355f0723d\",                        [{\"coloraxis\":\"coloraxis\",\"geo\":\"geo\",\"hovertemplate\":\"year=2011<br>geo=%{location}<br>value=%{z}<extra></extra>\",\"locations\":[\"ALB\",\"AUT\",\"BIH\",\"BEL\",\"BGR\",\"CHE\",\"CYP\",\"CZE\",\"DEU\",\"DNK\",\"EST\",\"GRC\",\"ESP\",\"FIN\",\"FRA\",\"HRV\",\"HUN\",\"IRL\",\"ISL\",\"ITA\",\"LIE\",\"LTU\",\"LUX\",\"LVA\",\"MNE\",\"MKD\",\"MLT\",\"NLD\",\"NOR\",\"POL\",\"PRT\",\"ROU\",\"SRB\",\"SWE\",\"SVN\",\"SVK\",\"TUR\"],\"name\":\"\",\"z\":[9268.2998046875,310128.6875,13411.7998046875,375967.8125,41478.8984375,520201.40625,19803.0,165202.203125,2693560.0,247879.90625,16677.30078125,203308.203125,1063763.0,197998.0,2058369.0,45378.6015625,102193.5,171683.40625,10934.2998046875,1648755.75,0.0,31317.19921875,44323.5,19666.0,3264.800048828125,7544.2001953125,6924.60009765625,650359.0,358339.5,379860.0,176096.203125,131841.59375,35431.69921875,412844.6875,37058.6015625,71477.1015625,600961.375],\"type\":\"choropleth\"}],                        {\"template\":{\"data\":{\"bar\":[{\"error_x\":{\"color\":\"#2a3f5f\"},\"error_y\":{\"color\":\"#2a3f5f\"},\"marker\":{\"line\":{\"color\":\"#E5ECF6\",\"width\":0.5},\"pattern\":{\"fillmode\":\"overlay\",\"size\":10,\"solidity\":0.2}},\"type\":\"bar\"}],\"barpolar\":[{\"marker\":{\"line\":{\"color\":\"#E5ECF6\",\"width\":0.5},\"pattern\":{\"fillmode\":\"overlay\",\"size\":10,\"solidity\":0.2}},\"type\":\"barpolar\"}],\"carpet\":[{\"aaxis\":{\"endlinecolor\":\"#2a3f5f\",\"gridcolor\":\"white\",\"linecolor\":\"white\",\"minorgridcolor\":\"white\",\"startlinecolor\":\"#2a3f5f\"},\"baxis\":{\"endlinecolor\":\"#2a3f5f\",\"gridcolor\":\"white\",\"linecolor\":\"white\",\"minorgridcolor\":\"white\",\"startlinecolor\":\"#2a3f5f\"},\"type\":\"carpet\"}],\"choropleth\":[{\"colorbar\":{\"outlinewidth\":0,\"ticks\":\"\"},\"type\":\"choropleth\"}],\"contour\":[{\"colorbar\":{\"outlinewidth\":0,\"ticks\":\"\"},\"colorscale\":[[0.0,\"#0d0887\"],[0.1111111111111111,\"#46039f\"],[0.2222222222222222,\"#7201a8\"],[0.3333333333333333,\"#9c179e\"],[0.4444444444444444,\"#bd3786\"],[0.5555555555555556,\"#d8576b\"],[0.6666666666666666,\"#ed7953\"],[0.7777777777777778,\"#fb9f3a\"],[0.8888888888888888,\"#fdca26\"],[1.0,\"#f0f921\"]],\"type\":\"contour\"}],\"contourcarpet\":[{\"colorbar\":{\"outlinewidth\":0,\"ticks\":\"\"},\"type\":\"contourcarpet\"}],\"heatmap\":[{\"colorbar\":{\"outlinewidth\":0,\"ticks\":\"\"},\"colorscale\":[[0.0,\"#0d0887\"],[0.1111111111111111,\"#46039f\"],[0.2222222222222222,\"#7201a8\"],[0.3333333333333333,\"#9c179e\"],[0.4444444444444444,\"#bd3786\"],[0.5555555555555556,\"#d8576b\"],[0.6666666666666666,\"#ed7953\"],[0.7777777777777778,\"#fb9f3a\"],[0.8888888888888888,\"#fdca26\"],[1.0,\"#f0f921\"]],\"type\":\"heatmap\"}],\"heatmapgl\":[{\"colorbar\":{\"outlinewidth\":0,\"ticks\":\"\"},\"colorscale\":[[0.0,\"#0d0887\"],[0.1111111111111111,\"#46039f\"],[0.2222222222222222,\"#7201a8\"],[0.3333333333333333,\"#9c179e\"],[0.4444444444444444,\"#bd3786\"],[0.5555555555555556,\"#d8576b\"],[0.6666666666666666,\"#ed7953\"],[0.7777777777777778,\"#fb9f3a\"],[0.8888888888888888,\"#fdca26\"],[1.0,\"#f0f921\"]],\"type\":\"heatmapgl\"}],\"histogram\":[{\"marker\":{\"pattern\":{\"fillmode\":\"overlay\",\"size\":10,\"solidity\":0.2}},\"type\":\"histogram\"}],\"histogram2d\":[{\"colorbar\":{\"outlinewidth\":0,\"ticks\":\"\"},\"colorscale\":[[0.0,\"#0d0887\"],[0.1111111111111111,\"#46039f\"],[0.2222222222222222,\"#7201a8\"],[0.3333333333333333,\"#9c179e\"],[0.4444444444444444,\"#bd3786\"],[0.5555555555555556,\"#d8576b\"],[0.6666666666666666,\"#ed7953\"],[0.7777777777777778,\"#fb9f3a\"],[0.8888888888888888,\"#fdca26\"],[1.0,\"#f0f921\"]],\"type\":\"histogram2d\"}],\"histogram2dcontour\":[{\"colorbar\":{\"outlinewidth\":0,\"ticks\":\"\"},\"colorscale\":[[0.0,\"#0d0887\"],[0.1111111111111111,\"#46039f\"],[0.2222222222222222,\"#7201a8\"],[0.3333333333333333,\"#9c179e\"],[0.4444444444444444,\"#bd3786\"],[0.5555555555555556,\"#d8576b\"],[0.6666666666666666,\"#ed7953\"],[0.7777777777777778,\"#fb9f3a\"],[0.8888888888888888,\"#fdca26\"],[1.0,\"#f0f921\"]],\"type\":\"histogram2dcontour\"}],\"mesh3d\":[{\"colorbar\":{\"outlinewidth\":0,\"ticks\":\"\"},\"type\":\"mesh3d\"}],\"parcoords\":[{\"line\":{\"colorbar\":{\"outlinewidth\":0,\"ticks\":\"\"}},\"type\":\"parcoords\"}],\"pie\":[{\"automargin\":true,\"type\":\"pie\"}],\"scatter\":[{\"marker\":{\"colorbar\":{\"outlinewidth\":0,\"ticks\":\"\"}},\"type\":\"scatter\"}],\"scatter3d\":[{\"line\":{\"colorbar\":{\"outlinewidth\":0,\"ticks\":\"\"}},\"marker\":{\"colorbar\":{\"outlinewidth\":0,\"ticks\":\"\"}},\"type\":\"scatter3d\"}],\"scattercarpet\":[{\"marker\":{\"colorbar\":{\"outlinewidth\":0,\"ticks\":\"\"}},\"type\":\"scattercarpet\"}],\"scattergeo\":[{\"marker\":{\"colorbar\":{\"outlinewidth\":0,\"ticks\":\"\"}},\"type\":\"scattergeo\"}],\"scattergl\":[{\"marker\":{\"colorbar\":{\"outlinewidth\":0,\"ticks\":\"\"}},\"type\":\"scattergl\"}],\"scattermapbox\":[{\"marker\":{\"colorbar\":{\"outlinewidth\":0,\"ticks\":\"\"}},\"type\":\"scattermapbox\"}],\"scatterpolar\":[{\"marker\":{\"colorbar\":{\"outlinewidth\":0,\"ticks\":\"\"}},\"type\":\"scatterpolar\"}],\"scatterpolargl\":[{\"marker\":{\"colorbar\":{\"outlinewidth\":0,\"ticks\":\"\"}},\"type\":\"scatterpolargl\"}],\"scatterternary\":[{\"marker\":{\"colorbar\":{\"outlinewidth\":0,\"ticks\":\"\"}},\"type\":\"scatterternary\"}],\"surface\":[{\"colorbar\":{\"outlinewidth\":0,\"ticks\":\"\"},\"colorscale\":[[0.0,\"#0d0887\"],[0.1111111111111111,\"#46039f\"],[0.2222222222222222,\"#7201a8\"],[0.3333333333333333,\"#9c179e\"],[0.4444444444444444,\"#bd3786\"],[0.5555555555555556,\"#d8576b\"],[0.6666666666666666,\"#ed7953\"],[0.7777777777777778,\"#fb9f3a\"],[0.8888888888888888,\"#fdca26\"],[1.0,\"#f0f921\"]],\"type\":\"surface\"}],\"table\":[{\"cells\":{\"fill\":{\"color\":\"#EBF0F8\"},\"line\":{\"color\":\"white\"}},\"header\":{\"fill\":{\"color\":\"#C8D4E3\"},\"line\":{\"color\":\"white\"}},\"type\":\"table\"}]},\"layout\":{\"annotationdefaults\":{\"arrowcolor\":\"#2a3f5f\",\"arrowhead\":0,\"arrowwidth\":1},\"autotypenumbers\":\"strict\",\"coloraxis\":{\"colorbar\":{\"outlinewidth\":0,\"ticks\":\"\"}},\"colorscale\":{\"diverging\":[[0,\"#8e0152\"],[0.1,\"#c51b7d\"],[0.2,\"#de77ae\"],[0.3,\"#f1b6da\"],[0.4,\"#fde0ef\"],[0.5,\"#f7f7f7\"],[0.6,\"#e6f5d0\"],[0.7,\"#b8e186\"],[0.8,\"#7fbc41\"],[0.9,\"#4d9221\"],[1,\"#276419\"]],\"sequential\":[[0.0,\"#0d0887\"],[0.1111111111111111,\"#46039f\"],[0.2222222222222222,\"#7201a8\"],[0.3333333333333333,\"#9c179e\"],[0.4444444444444444,\"#bd3786\"],[0.5555555555555556,\"#d8576b\"],[0.6666666666666666,\"#ed7953\"],[0.7777777777777778,\"#fb9f3a\"],[0.8888888888888888,\"#fdca26\"],[1.0,\"#f0f921\"]],\"sequentialminus\":[[0.0,\"#0d0887\"],[0.1111111111111111,\"#46039f\"],[0.2222222222222222,\"#7201a8\"],[0.3333333333333333,\"#9c179e\"],[0.4444444444444444,\"#bd3786\"],[0.5555555555555556,\"#d8576b\"],[0.6666666666666666,\"#ed7953\"],[0.7777777777777778,\"#fb9f3a\"],[0.8888888888888888,\"#fdca26\"],[1.0,\"#f0f921\"]]},\"colorway\":[\"#636efa\",\"#EF553B\",\"#00cc96\",\"#ab63fa\",\"#FFA15A\",\"#19d3f3\",\"#FF6692\",\"#B6E880\",\"#FF97FF\",\"#FECB52\"],\"font\":{\"color\":\"#2a3f5f\"},\"geo\":{\"bgcolor\":\"white\",\"lakecolor\":\"white\",\"landcolor\":\"#E5ECF6\",\"showlakes\":true,\"showland\":true,\"subunitcolor\":\"white\"},\"hoverlabel\":{\"align\":\"left\"},\"hovermode\":\"closest\",\"mapbox\":{\"style\":\"light\"},\"paper_bgcolor\":\"white\",\"plot_bgcolor\":\"#E5ECF6\",\"polar\":{\"angularaxis\":{\"gridcolor\":\"white\",\"linecolor\":\"white\",\"ticks\":\"\"},\"bgcolor\":\"#E5ECF6\",\"radialaxis\":{\"gridcolor\":\"white\",\"linecolor\":\"white\",\"ticks\":\"\"}},\"scene\":{\"xaxis\":{\"backgroundcolor\":\"#E5ECF6\",\"gridcolor\":\"white\",\"gridwidth\":2,\"linecolor\":\"white\",\"showbackground\":true,\"ticks\":\"\",\"zerolinecolor\":\"white\"},\"yaxis\":{\"backgroundcolor\":\"#E5ECF6\",\"gridcolor\":\"white\",\"gridwidth\":2,\"linecolor\":\"white\",\"showbackground\":true,\"ticks\":\"\",\"zerolinecolor\":\"white\"},\"zaxis\":{\"backgroundcolor\":\"#E5ECF6\",\"gridcolor\":\"white\",\"gridwidth\":2,\"linecolor\":\"white\",\"showbackground\":true,\"ticks\":\"\",\"zerolinecolor\":\"white\"}},\"shapedefaults\":{\"line\":{\"color\":\"#2a3f5f\"}},\"ternary\":{\"aaxis\":{\"gridcolor\":\"white\",\"linecolor\":\"white\",\"ticks\":\"\"},\"baxis\":{\"gridcolor\":\"white\",\"linecolor\":\"white\",\"ticks\":\"\"},\"bgcolor\":\"#E5ECF6\",\"caxis\":{\"gridcolor\":\"white\",\"linecolor\":\"white\",\"ticks\":\"\"}},\"title\":{\"x\":0.05},\"xaxis\":{\"automargin\":true,\"gridcolor\":\"white\",\"linecolor\":\"white\",\"ticks\":\"\",\"title\":{\"standoff\":15},\"zerolinecolor\":\"white\",\"zerolinewidth\":2},\"yaxis\":{\"automargin\":true,\"gridcolor\":\"white\",\"linecolor\":\"white\",\"ticks\":\"\",\"title\":{\"standoff\":15},\"zerolinecolor\":\"white\",\"zerolinewidth\":2}}},\"geo\":{\"domain\":{\"x\":[0.0,1.0],\"y\":[0.0,1.0]},\"center\":{},\"scope\":\"europe\",\"visible\":true,\"resolution\":50},\"coloraxis\":{\"colorbar\":{\"title\":{\"text\":\"GDP in million EUR\",\"side\":\"right\"},\"x\":-0.2},\"colorscale\":[[0.0,\"#0d0887\"],[0.1111111111111111,\"#46039f\"],[0.2222222222222222,\"#7201a8\"],[0.3333333333333333,\"#9c179e\"],[0.4444444444444444,\"#bd3786\"],[0.5555555555555556,\"#d8576b\"],[0.6666666666666666,\"#ed7953\"],[0.7777777777777778,\"#fb9f3a\"],[0.8888888888888888,\"#fdca26\"],[1.0,\"#f0f921\"]],\"cmin\":0.0,\"cmax\":3570620.0},\"legend\":{\"tracegroupgap\":0},\"title\":{\"text\":\"Total GDP\"},\"height\":600,\"updatemenus\":[{\"buttons\":[{\"args\":[null,{\"frame\":{\"duration\":500,\"redraw\":true},\"mode\":\"immediate\",\"fromcurrent\":true,\"transition\":{\"duration\":500,\"easing\":\"linear\"}}],\"label\":\"&#9654;\",\"method\":\"animate\"},{\"args\":[[null],{\"frame\":{\"duration\":0,\"redraw\":true},\"mode\":\"immediate\",\"fromcurrent\":true,\"transition\":{\"duration\":0,\"easing\":\"linear\"}}],\"label\":\"&#9724;\",\"method\":\"animate\"}],\"direction\":\"left\",\"pad\":{\"r\":10,\"t\":70},\"showactive\":false,\"type\":\"buttons\",\"x\":0.1,\"xanchor\":\"right\",\"y\":0,\"yanchor\":\"top\"}],\"sliders\":[{\"active\":0,\"currentvalue\":{\"prefix\":\"year=\"},\"len\":0.9,\"pad\":{\"b\":10,\"t\":60},\"steps\":[{\"args\":[[\"2011\"],{\"frame\":{\"duration\":0,\"redraw\":true},\"mode\":\"immediate\",\"fromcurrent\":true,\"transition\":{\"duration\":0,\"easing\":\"linear\"}}],\"label\":\"2011\",\"method\":\"animate\"},{\"args\":[[\"2012\"],{\"frame\":{\"duration\":0,\"redraw\":true},\"mode\":\"immediate\",\"fromcurrent\":true,\"transition\":{\"duration\":0,\"easing\":\"linear\"}}],\"label\":\"2012\",\"method\":\"animate\"},{\"args\":[[\"2013\"],{\"frame\":{\"duration\":0,\"redraw\":true},\"mode\":\"immediate\",\"fromcurrent\":true,\"transition\":{\"duration\":0,\"easing\":\"linear\"}}],\"label\":\"2013\",\"method\":\"animate\"},{\"args\":[[\"2014\"],{\"frame\":{\"duration\":0,\"redraw\":true},\"mode\":\"immediate\",\"fromcurrent\":true,\"transition\":{\"duration\":0,\"easing\":\"linear\"}}],\"label\":\"2014\",\"method\":\"animate\"},{\"args\":[[\"2015\"],{\"frame\":{\"duration\":0,\"redraw\":true},\"mode\":\"immediate\",\"fromcurrent\":true,\"transition\":{\"duration\":0,\"easing\":\"linear\"}}],\"label\":\"2015\",\"method\":\"animate\"},{\"args\":[[\"2016\"],{\"frame\":{\"duration\":0,\"redraw\":true},\"mode\":\"immediate\",\"fromcurrent\":true,\"transition\":{\"duration\":0,\"easing\":\"linear\"}}],\"label\":\"2016\",\"method\":\"animate\"},{\"args\":[[\"2017\"],{\"frame\":{\"duration\":0,\"redraw\":true},\"mode\":\"immediate\",\"fromcurrent\":true,\"transition\":{\"duration\":0,\"easing\":\"linear\"}}],\"label\":\"2017\",\"method\":\"animate\"},{\"args\":[[\"2018\"],{\"frame\":{\"duration\":0,\"redraw\":true},\"mode\":\"immediate\",\"fromcurrent\":true,\"transition\":{\"duration\":0,\"easing\":\"linear\"}}],\"label\":\"2018\",\"method\":\"animate\"},{\"args\":[[\"2019\"],{\"frame\":{\"duration\":0,\"redraw\":true},\"mode\":\"immediate\",\"fromcurrent\":true,\"transition\":{\"duration\":0,\"easing\":\"linear\"}}],\"label\":\"2019\",\"method\":\"animate\"},{\"args\":[[\"2020\"],{\"frame\":{\"duration\":0,\"redraw\":true},\"mode\":\"immediate\",\"fromcurrent\":true,\"transition\":{\"duration\":0,\"easing\":\"linear\"}}],\"label\":\"2020\",\"method\":\"animate\"},{\"args\":[[\"2021\"],{\"frame\":{\"duration\":0,\"redraw\":true},\"mode\":\"immediate\",\"fromcurrent\":true,\"transition\":{\"duration\":0,\"easing\":\"linear\"}}],\"label\":\"2021\",\"method\":\"animate\"}],\"x\":0.1,\"xanchor\":\"left\",\"y\":0,\"yanchor\":\"top\"}],\"margin\":{\"r\":60,\"t\":60,\"l\":50,\"b\":50}},                        {\"responsive\": true}                    ).then(function(){\n",
              "                            Plotly.addFrames('02e04218-d8ac-4ff5-b53c-dc3355f0723d', [{\"data\":[{\"coloraxis\":\"coloraxis\",\"geo\":\"geo\",\"hovertemplate\":\"year=2011<br>geo=%{location}<br>value=%{z}<extra></extra>\",\"locations\":[\"ALB\",\"AUT\",\"BIH\",\"BEL\",\"BGR\",\"CHE\",\"CYP\",\"CZE\",\"DEU\",\"DNK\",\"EST\",\"GRC\",\"ESP\",\"FIN\",\"FRA\",\"HRV\",\"HUN\",\"IRL\",\"ISL\",\"ITA\",\"LIE\",\"LTU\",\"LUX\",\"LVA\",\"MNE\",\"MKD\",\"MLT\",\"NLD\",\"NOR\",\"POL\",\"PRT\",\"ROU\",\"SRB\",\"SWE\",\"SVN\",\"SVK\",\"TUR\"],\"name\":\"\",\"z\":[9268.2998046875,310128.6875,13411.7998046875,375967.8125,41478.8984375,520201.40625,19803.0,165202.203125,2693560.0,247879.90625,16677.30078125,203308.203125,1063763.0,197998.0,2058369.0,45378.6015625,102193.5,171683.40625,10934.2998046875,1648755.75,0.0,31317.19921875,44323.5,19666.0,3264.800048828125,7544.2001953125,6924.60009765625,650359.0,358339.5,379860.0,176096.203125,131841.59375,35431.69921875,412844.6875,37058.6015625,71477.1015625,600961.375],\"type\":\"choropleth\"}],\"name\":\"2011\"},{\"data\":[{\"coloraxis\":\"coloraxis\",\"geo\":\"geo\",\"hovertemplate\":\"year=2012<br>geo=%{location}<br>value=%{z}<extra></extra>\",\"locations\":[\"ALB\",\"AUT\",\"BIH\",\"BEL\",\"BGR\",\"CHE\",\"CYP\",\"CZE\",\"DEU\",\"DNK\",\"EST\",\"GRC\",\"ESP\",\"FIN\",\"FRA\",\"HRV\",\"HUN\",\"IRL\",\"ISL\",\"ITA\",\"LIE\",\"LTU\",\"LUX\",\"LVA\",\"MNE\",\"MKD\",\"MLT\",\"NLD\",\"NOR\",\"POL\",\"PRT\",\"ROU\",\"SRB\",\"SWE\",\"SVN\",\"SVK\",\"TUR\"],\"name\":\"\",\"z\":[9585.7998046875,318653.0,13407.5,386174.6875,42256.80078125,538439.0,19440.80078125,162587.5,2745310.0,254578.0,17916.69921875,188380.59375,1031099.0,201037.0,2088804.0,44483.6015625,100281.203125,175512.796875,11479.900390625,1624358.75,0.0,33410.19921875,46526.19921875,22097.5,3181.5,7584.7998046875,7364.5,652966.0,396523.5,387947.0,168295.59375,132711.203125,33679.30078125,430037.09375,36253.30078125,73360.796875,683587.3125],\"type\":\"choropleth\"}],\"name\":\"2012\"},{\"data\":[{\"coloraxis\":\"coloraxis\",\"geo\":\"geo\",\"hovertemplate\":\"year=2013<br>geo=%{location}<br>value=%{z}<extra></extra>\",\"locations\":[\"ALB\",\"AUT\",\"BIH\",\"BEL\",\"BGR\",\"CHE\",\"CYP\",\"CZE\",\"DEU\",\"DNK\",\"EST\",\"GRC\",\"ESP\",\"FIN\",\"FRA\",\"HRV\",\"HUN\",\"IRL\",\"ISL\",\"ITA\",\"LIE\",\"LTU\",\"LUX\",\"LVA\",\"MNE\",\"MKD\",\"MLT\",\"NLD\",\"NOR\",\"POL\",\"PRT\",\"ROU\",\"SRB\",\"SWE\",\"SVN\",\"SVK\",\"TUR\"],\"name\":\"\",\"z\":[9625.400390625,323910.1875,13691.7998046875,392880.0,42050.19921875,536632.875,17995.0,159461.5,2811350.0,258742.703125,18910.80078125,179884.40625,1020348.0,204321.0,2117189.0,44329.3984375,102276.1015625,179411.203125,12132.900390625,1612751.25,4812.39990234375,35039.5,49094.5,22791.30078125,3362.5,8149.60009765625,7944.2998046875,660463.0,393408.6875,392310.6875,170492.296875,143690.40625,36426.69921875,441850.6875,36454.30078125,74217.296875,719726.625],\"type\":\"choropleth\"}],\"name\":\"2013\"},{\"data\":[{\"coloraxis\":\"coloraxis\",\"geo\":\"geo\",\"hovertemplate\":\"year=2014<br>geo=%{location}<br>value=%{z}<extra></extra>\",\"locations\":[\"ALB\",\"AUT\",\"BIH\",\"BEL\",\"BGR\",\"CHE\",\"CYP\",\"CZE\",\"DEU\",\"DNK\",\"EST\",\"GRC\",\"ESP\",\"FIN\",\"FRA\",\"HRV\",\"HUN\",\"IRL\",\"ISL\",\"ITA\",\"LIE\",\"LTU\",\"LUX\",\"LVA\",\"MNE\",\"MKD\",\"MLT\",\"NLD\",\"NOR\",\"POL\",\"PRT\",\"ROU\",\"SRB\",\"SWE\",\"SVN\",\"SVK\",\"TUR\"],\"name\":\"\",\"z\":[9968.599609375,333146.09375,13988.2998046875,403003.3125,43026.0,553942.1875,17430.19921875,157821.296875,2927430.0,265757.0,20048.19921875,177236.0,1032158.0,206897.0,2149765.0,43918.6015625,106297.796875,194933.796875,13472.599609375,1627405.625,5021.7001953125,36581.30078125,51791.30078125,23625.80078125,3457.89990234375,8562.0,8751.099609375,671560.0,375947.3125,408967.8125,173053.703125,150708.59375,35467.5,438833.90625,37634.30078125,76092.703125,707000.8125],\"type\":\"choropleth\"}],\"name\":\"2014\"},{\"data\":[{\"coloraxis\":\"coloraxis\",\"geo\":\"geo\",\"hovertemplate\":\"year=2015<br>geo=%{location}<br>value=%{z}<extra></extra>\",\"locations\":[\"ALB\",\"AUT\",\"BIH\",\"BEL\",\"BGR\",\"CHE\",\"CYP\",\"CZE\",\"DEU\",\"DNK\",\"EST\",\"GRC\",\"ESP\",\"FIN\",\"FRA\",\"HRV\",\"HUN\",\"IRL\",\"ISL\",\"ITA\",\"LIE\",\"LTU\",\"LUX\",\"LVA\",\"MNE\",\"MKD\",\"MLT\",\"NLD\",\"NOR\",\"POL\",\"PRT\",\"ROU\",\"SRB\",\"SWE\",\"SVN\",\"SVK\",\"TUR\"],\"name\":\"\",\"z\":[10264.099609375,344269.1875,14617.400390625,416701.40625,45812.30078125,632770.5,17884.0,169558.203125,3026180.0,273017.59375,20631.400390625,176368.90625,1077590.0,211385.0,2198432.0,45186.19921875,112823.6015625,262800.0,15795.2998046875,1655355.0,5649.10009765625,37345.69921875,54142.30078125,24572.099609375,3654.5,9072.2998046875,9996.7001953125,690008.0,347632.09375,430465.8125,179713.203125,160149.796875,35740.19921875,455494.6875,38852.6015625,79888.1015625,777042.3125],\"type\":\"choropleth\"}],\"name\":\"2015\"},{\"data\":[{\"coloraxis\":\"coloraxis\",\"geo\":\"geo\",\"hovertemplate\":\"year=2016<br>geo=%{location}<br>value=%{z}<extra></extra>\",\"locations\":[\"ALB\",\"AUT\",\"BIH\",\"BEL\",\"BGR\",\"CHE\",\"CYP\",\"CZE\",\"DEU\",\"DNK\",\"EST\",\"GRC\",\"ESP\",\"FIN\",\"FRA\",\"HRV\",\"HUN\",\"IRL\",\"ISL\",\"ITA\",\"LIE\",\"LTU\",\"LUX\",\"LVA\",\"MNE\",\"MKD\",\"MLT\",\"NLD\",\"NOR\",\"POL\",\"PRT\",\"ROU\",\"SRB\",\"SWE\",\"SVN\",\"SVK\",\"TUR\"],\"name\":\"\",\"z\":[10719.900390625,357608.0,15289.900390625,430085.3125,48773.1015625,628729.625,18929.30078125,177438.5,3134740.0,283109.6875,21747.900390625,174494.203125,1113840.0,217518.0,2234129.0,47246.30078125,116279.3984375,270058.09375,18804.19921875,1695786.75,5637.7001953125,38889.8984375,56208.1015625,25371.30078125,3954.199951171875,9656.5,10541.099609375,708337.0,333471.3125,427091.8125,186489.796875,170063.40625,36779.30078125,466266.5,40443.19921875,81014.296875,785618.875],\"type\":\"choropleth\"}],\"name\":\"2016\"},{\"data\":[{\"coloraxis\":\"coloraxis\",\"geo\":\"geo\",\"hovertemplate\":\"year=2017<br>geo=%{location}<br>value=%{z}<extra></extra>\",\"locations\":[\"ALB\",\"AUT\",\"BIH\",\"BEL\",\"BGR\",\"CHE\",\"CYP\",\"CZE\",\"DEU\",\"DNK\",\"EST\",\"GRC\",\"ESP\",\"FIN\",\"FRA\",\"HRV\",\"HUN\",\"IRL\",\"ISL\",\"ITA\",\"LIE\",\"LTU\",\"LUX\",\"LVA\",\"MNE\",\"MKD\",\"MLT\",\"NLD\",\"NOR\",\"POL\",\"PRT\",\"ROU\",\"SRB\",\"SWE\",\"SVN\",\"SVK\",\"TUR\"],\"name\":\"\",\"z\":[11559.0,369361.90625,16042.400390625,445050.09375,52531.30078125,623994.0,20245.30078125,194132.90625,3267160.0,294808.1875,23833.599609375,176903.40625,1161867.0,226301.0,2297242.0,49888.80078125,127046.0,296925.1875,21917.69921875,1736592.75,5734.60009765625,42276.30078125,58168.80078125,26984.400390625,4299.10009765625,10038.2998046875,11941.0,738146.0,353316.40625,467426.59375,195947.203125,187772.703125,39235.30078125,480025.5,43011.30078125,84442.8984375,760497.125],\"type\":\"choropleth\"}],\"name\":\"2017\"},{\"data\":[{\"coloraxis\":\"coloraxis\",\"geo\":\"geo\",\"hovertemplate\":\"year=2018<br>geo=%{location}<br>value=%{z}<extra></extra>\",\"locations\":[\"ALB\",\"AUT\",\"BIH\",\"BEL\",\"BGR\",\"CHE\",\"CYP\",\"CZE\",\"DEU\",\"DNK\",\"EST\",\"GRC\",\"ESP\",\"FIN\",\"FRA\",\"HRV\",\"HUN\",\"IRL\",\"ISL\",\"ITA\",\"LIE\",\"LTU\",\"LUX\",\"LVA\",\"MNE\",\"MKD\",\"MLT\",\"NLD\",\"NOR\",\"POL\",\"PRT\",\"ROU\",\"SRB\",\"SWE\",\"SVN\",\"SVK\",\"TUR\"],\"name\":\"\",\"z\":[12828.099609375,385424.0,17099.69921875,460091.6875,56224.69921875,622746.0,21612.599609375,210970.5,3367860.0,302328.6875,25817.69921875,179557.703125,1203259.0,233462.0,2363306.0,52688.80078125,136073.40625,326042.8125,22241.099609375,1771391.25,5666.2998046875,45514.80078125,60362.19921875,29153.599609375,4663.10009765625,10744.0,12954.7998046875,773987.0,370294.3125,497842.3125,205184.09375,204496.90625,42892.19921875,470673.09375,45864.19921875,89430.0,658544.375],\"type\":\"choropleth\"}],\"name\":\"2018\"},{\"data\":[{\"coloraxis\":\"coloraxis\",\"geo\":\"geo\",\"hovertemplate\":\"year=2019<br>geo=%{location}<br>value=%{z}<extra></extra>\",\"locations\":[\"ALB\",\"AUT\",\"BIH\",\"BEL\",\"BGR\",\"CHE\",\"CYP\",\"CZE\",\"DEU\",\"DNK\",\"EST\",\"GRC\",\"ESP\",\"FIN\",\"FRA\",\"HRV\",\"HUN\",\"IRL\",\"ISL\",\"ITA\",\"LIE\",\"LTU\",\"LUX\",\"LVA\",\"MNE\",\"MKD\",\"MLT\",\"NLD\",\"NOR\",\"POL\",\"PRT\",\"ROU\",\"SRB\",\"SWE\",\"SVN\",\"SVK\",\"TUR\"],\"name\":\"\",\"z\":[13754.2001953125,397518.5,18046.400390625,478238.90625,61558.0,653732.625,23009.900390625,225613.5,3473350.0,309526.40625,27732.30078125,183250.40625,1244375.0,239858.0,2437635.0,55571.3984375,146113.203125,356526.3125,22166.80078125,1796633.75,5742.0,48859.8984375,62704.19921875,30647.19921875,4950.7001953125,11262.0,14047.099609375,813055.0,361734.59375,533599.875,214374.59375,223162.5,46005.3984375,476869.5,48396.69921875,94048.0,679132.1875],\"type\":\"choropleth\"}],\"name\":\"2019\"},{\"data\":[{\"coloraxis\":\"coloraxis\",\"geo\":\"geo\",\"hovertemplate\":\"year=2020<br>geo=%{location}<br>value=%{z}<extra></extra>\",\"locations\":[\"ALB\",\"AUT\",\"BIH\",\"BEL\",\"BGR\",\"CHE\",\"CYP\",\"CZE\",\"DEU\",\"DNK\",\"EST\",\"GRC\",\"ESP\",\"FIN\",\"FRA\",\"HRV\",\"HUN\",\"IRL\",\"ISL\",\"ITA\",\"LIE\",\"LTU\",\"LUX\",\"LVA\",\"MNE\",\"MKD\",\"MLT\",\"NLD\",\"NOR\",\"POL\",\"PRT\",\"ROU\",\"SRB\",\"SWE\",\"SVN\",\"SVK\",\"TUR\"],\"name\":\"\",\"z\":[13283.2998046875,379320.59375,17514.30078125,456731.5,61331.0,659730.8125,21617.900390625,215805.40625,3367560.0,311759.6875,26834.5,165326.40625,1121948.0,237987.0,2310469.0,50188.5,137441.59375,372868.5,18943.400390625,1656960.75,5362.89990234375,49507.19921875,64221.1015625,29456.80078125,4185.60009765625,10635.2998046875,13066.0,796530.0,318051.1875,526445.1875,200087.59375,218863.296875,46796.3984375,480556.40625,46918.0,92079.296875,626576.1875],\"type\":\"choropleth\"}],\"name\":\"2020\"},{\"data\":[{\"coloraxis\":\"coloraxis\",\"geo\":\"geo\",\"hovertemplate\":\"year=2021<br>geo=%{location}<br>value=%{z}<extra></extra>\",\"locations\":[\"ALB\",\"AUT\",\"BIH\",\"BEL\",\"BGR\",\"CHE\",\"CYP\",\"CZE\",\"DEU\",\"DNK\",\"EST\",\"GRC\",\"ESP\",\"FIN\",\"FRA\",\"HRV\",\"HUN\",\"IRL\",\"ISL\",\"ITA\",\"LIE\",\"LTU\",\"LUX\",\"LVA\",\"MNE\",\"MKD\",\"MLT\",\"NLD\",\"NOR\",\"POL\",\"PRT\",\"ROU\",\"SRB\",\"SWE\",\"SVN\",\"SVK\",\"TUR\"],\"name\":\"\",\"z\":[15435.900390625,402710.90625,19083.69921875,506205.0,67872.1015625,687110.375,23436.69921875,238238.203125,3570620.0,336718.8125,30660.099609375,182830.203125,1205063.0,251431.0,2500870.0,57199.5,154124.40625,421529.1875,21531.80078125,1775436.375,0.0,55383.1015625,73313.5,32866.5,4911.60009765625,11734.0,14684.7998046875,856356.0,407533.1875,574385.375,211279.703125,240154.0,53317.5,537830.0,52020.19921875,97122.5,685765.375],\"type\":\"choropleth\"}],\"name\":\"2021\"}]);\n",
              "                        }).then(function(){\n",
              "                            \n",
              "var gd = document.getElementById('02e04218-d8ac-4ff5-b53c-dc3355f0723d');\n",
              "var x = new MutationObserver(function (mutations, observer) {{\n",
              "        var display = window.getComputedStyle(gd).display;\n",
              "        if (!display || display === 'none') {{\n",
              "            console.log([gd, 'removed!']);\n",
              "            Plotly.purge(gd);\n",
              "            observer.disconnect();\n",
              "        }}\n",
              "}});\n",
              "\n",
              "// Listen for the removal of the full notebook cells\n",
              "var notebookContainer = gd.closest('#notebook-container');\n",
              "if (notebookContainer) {{\n",
              "    x.observe(notebookContainer, {childList: true});\n",
              "}}\n",
              "\n",
              "// Listen for the clearing of the current output cell\n",
              "var outputEl = gd.closest('.output');\n",
              "if (outputEl) {{\n",
              "    x.observe(outputEl, {childList: true});\n",
              "}}\n",
              "\n",
              "                        })                };                            </script>        </div>\n",
              "</body>\n",
              "</html>"
            ]
          },
          "metadata": {}
        }
      ]
    },
    {
      "cell_type": "code",
      "source": [
        "unemployment = pd.read_table(\"https://ec.europa.eu/eurostat/estat-navtree-portlet-prod/BulkDownloadListing?file=data/tipsun20.tsv.gz\")"
      ],
      "metadata": {
        "id": "BTc8iU2BF-IY"
      },
      "execution_count": 9,
      "outputs": []
    },
    {
      "cell_type": "code",
      "source": [
        "new_cols = [\"sex\", \"age\", \"unit\", \"geo\"]\n",
        "\n",
        "unemployment[new_cols] = unemployment.iloc[:,0].str.split(\",\", expand=True)\n",
        "unemployment.drop(unemployment.columns[0], axis=1, inplace=True)"
      ],
      "metadata": {
        "id": "H2SbQ6ZX8kW3"
      },
      "execution_count": 10,
      "outputs": []
    },
    {
      "cell_type": "code",
      "source": [
        "unemployment = unemployment[unemployment.columns[-len(new_cols):].tolist() + unemployment.columns[:-len(new_cols)].tolist()]"
      ],
      "metadata": {
        "id": "tQzpZrxV9bbZ"
      },
      "execution_count": 11,
      "outputs": []
    },
    {
      "cell_type": "code",
      "source": [
        "unemployment.drop([unemployment.columns[0],unemployment.columns[2]], axis=1, inplace=True)"
      ],
      "metadata": {
        "id": "yyNcyPxt93hz"
      },
      "execution_count": 12,
      "outputs": []
    },
    {
      "cell_type": "code",
      "source": [
        "unemployment.iloc[:,2:] = unemployment.iloc[:,2:].replace(\"[a-zA-Z: ]\", \"\", regex=True).replace(\"\", 0, regex=True).astype(np.float32)"
      ],
      "metadata": {
        "id": "XVV1drYg-6kv"
      },
      "execution_count": 13,
      "outputs": []
    },
    {
      "cell_type": "code",
      "source": [
        "def iso2_to_iso3(iso2):\n",
        "  country = pycountry.countries.get(alpha_2=iso2)\n",
        "  # Old Code for Greek is EL -> the new one is GR (iso2) or GRC (iso3)\n",
        "  if(iso2 == 'EL'):\n",
        "    return 'GRC'\n",
        "  return country.alpha_3"
      ],
      "metadata": {
        "id": "qciPD7zB_ZI1"
      },
      "execution_count": 14,
      "outputs": []
    },
    {
      "cell_type": "code",
      "source": [
        "unemployment[\"geo\"] = unemployment[\"geo\"].apply(iso2_to_iso3)"
      ],
      "metadata": {
        "id": "xMZijaUW_cwB"
      },
      "execution_count": 15,
      "outputs": []
    },
    {
      "cell_type": "code",
      "source": [
        "country_w = widgets.Dropdown(\n",
        "    options=unemployment[\"geo\"].unique(),\n",
        "    value='DEU',\n",
        "    description='Country:')\n",
        "\n",
        "age_group_w= widgets.Dropdown(options=unemployment[\"age\"].unique(),\n",
        "                     value=\"Y15-24\",\n",
        "                     description=\"Agegroup:\")\n",
        "\n",
        "fig2 = go.FigureWidget(make_subplots(specs=[[{\"secondary_y\": True}]]))\n",
        "\n",
        "\n",
        "unemployment_index = unemployment[(unemployment[\"geo\"] == country_w.value) & (unemployment[\"age\"] == age_group_w.value)].index[0]\n",
        "fig2.add_trace(go.Scatter(\n",
        "      x=unemployment.columns[9:],\n",
        "      y=unemployment.iloc[unemployment_index,9:],\n",
        "      name=age_group_w.value,\n",
        "  ),secondary_y=True)\n",
        "\n",
        "bip_index = bip[bip[\"geo\"] == country_w.value].index[0]\n",
        "fig2.add_trace(go.Scatter(\n",
        "      x=bip.columns[1:],\n",
        "      y=bip.iloc[bip_index,1:],\n",
        "      name=country_w.value),secondary_y=False)\n",
        "\n",
        "fig2.update_layout(\n",
        "    xaxis_title=\"Year\",\n",
        "    legend_title=\"Age group & country\",\n",
        "    title=\"GDP vs Unemployment (\" + country_w.value + \" | \" + age_group_w.value + \")\",\n",
        ")\n",
        "\n",
        "fig2.update_yaxes(title_text=\"GDP in million euro\", secondary_y=False)\n",
        "fig2.update_yaxes(title_text=\"Unemployment percentage\", secondary_y=True)\n",
        "\n",
        "\n",
        "def update(change):\n",
        "  with fig2.batch_update():\n",
        "\n",
        "    unemployment_selection_i = unemployment[(unemployment[\"geo\"] == country_w.value) & (unemployment[\"age\"] == age_group_w.value)].index[0]\n",
        "    fig2.data[0].y = unemployment.iloc[unemployment_selection_i,9:]\n",
        "    fig2.data[0].name = age_group_w.value\n",
        "\n",
        "    bip_selection_i = bip[bip[\"geo\"] == country_w.value].index[0]\n",
        "    fig2.data[1].y = bip.iloc[bip_selection_i,1:]\n",
        "    fig2.data[1].name = country_w.value\n",
        "    \n",
        "    fig2.layout.title = go.layout.Title(text=\"GDP vs Unemployment, \" + country_w.value + \" | \" + age_group_w.value)\n",
        "\n",
        "    \n",
        "\n",
        "\n",
        "country_w.observe(update)\n",
        "age_group_w.observe(update)\n",
        "\n",
        "display(*[country_w, age_group_w, fig2])"
      ],
      "metadata": {
        "colab": {
          "base_uri": "https://localhost:8080/",
          "height": 529,
          "referenced_widgets": [
            "d5ceec1dbd5b4d0e87ff5e71030ded61",
            "3d13275c962543099d76b73175294062",
            "d72f19fd1cc04f558ae9907f453af66f",
            "c5a034686665419f9c93e04699f9c3c8",
            "cf10076900fa4a929934d426e3b311a8",
            "82f1310be76546639cce8d5d6a80fcec",
            "16a26e71793a42c0830c384c207cbb93"
          ]
        },
        "id": "a5h9VHbs_3pq",
        "outputId": "2351cfb8-0bbf-468d-b5fb-a274b2983205"
      },
      "execution_count": 378,
      "outputs": [
        {
          "output_type": "display_data",
          "data": {
            "text/plain": [
              "Dropdown(description='Country:', index=5, options=('AUT', 'BEL', 'BGR', 'CYP', 'CZE', 'DEU', 'DNK', 'EST', 'GR…"
            ],
            "application/vnd.jupyter.widget-view+json": {
              "version_major": 2,
              "version_minor": 0,
              "model_id": "d5ceec1dbd5b4d0e87ff5e71030ded61"
            }
          },
          "metadata": {
            "application/vnd.jupyter.widget-view+json": {
              "colab": {
                "custom_widget_manager": {
                  "url": "https://ssl.gstatic.com/colaboratory-static/widgets/colab-cdn-widget-manager/a8874ba6619b6106/manager.min.js"
                }
              }
            }
          }
        },
        {
          "output_type": "display_data",
          "data": {
            "text/plain": [
              "Dropdown(description='Agegroup:', options=('Y15-24', 'Y15-74', 'Y25-74'), value='Y15-24')"
            ],
            "application/vnd.jupyter.widget-view+json": {
              "version_major": 2,
              "version_minor": 0,
              "model_id": "c5a034686665419f9c93e04699f9c3c8"
            }
          },
          "metadata": {
            "application/vnd.jupyter.widget-view+json": {
              "colab": {
                "custom_widget_manager": {
                  "url": "https://ssl.gstatic.com/colaboratory-static/widgets/colab-cdn-widget-manager/a8874ba6619b6106/manager.min.js"
                }
              }
            }
          }
        },
        {
          "output_type": "display_data",
          "data": {
            "text/plain": [
              "FigureWidget({\n",
              "    'data': [{'name': 'Y15-24',\n",
              "              'type': 'scatter',\n",
              "              'uid': 'db6ad419…"
            ],
            "application/vnd.jupyter.widget-view+json": {
              "version_major": 2,
              "version_minor": 0,
              "model_id": "16a26e71793a42c0830c384c207cbb93"
            }
          },
          "metadata": {
            "application/vnd.jupyter.widget-view+json": {
              "colab": {
                "custom_widget_manager": {
                  "url": "https://ssl.gstatic.com/colaboratory-static/widgets/colab-cdn-widget-manager/a8874ba6619b6106/manager.min.js"
                }
              }
            }
          }
        }
      ]
    },
    {
      "cell_type": "code",
      "source": [
        "unemployment_melted = unemployment[unemployment[\"age\"]==\"Y25-74\"].melt(id_vars=\"geo\", value_vars=unemployment.columns[9:], var_name=\"year\")\n",
        "unemployment_melted[\"geo\"] = unemployment_melted[\"geo\"].astype(str)\n",
        "unemployment_melted[\"value\"] = unemployment_melted[\"value\"].astype(np.float32)\n",
        "unemployment_melted[\"year\"] = unemployment_melted[\"year\"].astype(int)"
      ],
      "metadata": {
        "id": "NxpFTNI819hf"
      },
      "execution_count": 190,
      "outputs": []
    },
    {
      "cell_type": "code",
      "source": [
        "fig4 = go.FigureWidget(make_subplots(rows=1, cols=2,\n",
        "                                     specs = [[{'type': 'choropleth'} for c in np.arange(2)] for r in np.arange(1)],))\n",
        "\n",
        "fig4.add_trace(\n",
        "    go.Choropleth(\n",
        "        locations=bip_melted[\"geo\"],\n",
        "        z=bip_melted['value'],\n",
        "        zmin = bip_melted[\"value\"].min(),\n",
        "        zmax = bip_melted[\"value\"].max(),\n",
        "        colorbar=go.choropleth.ColorBar(x=-0.1,\n",
        "                                        title=go.choropleth.colorbar.Title(text=\"GDP in million EUR\"),\n",
        "                                        titleside=\"right\")\n",
        "    ),\n",
        "    row=1, col=1\n",
        ")\n",
        "\n",
        "fig4.add_trace(\n",
        "    go.Choropleth(\n",
        "        locations=unemployment_melted[\"geo\"],\n",
        "        z=unemployment_melted['value'],\n",
        "        zmin = unemployment_melted[\"value\"].min(),\n",
        "        zmax = unemployment_melted[\"value\"].max(),\n",
        "        colorscale=\"Viridis\",\n",
        "        colorbar=go.choropleth.ColorBar(title=go.choropleth.colorbar.Title(text=\"Unemployment rate\"),\n",
        "                                        titleside=\"right\")\n",
        "    ),\n",
        "    row=1, col=2\n",
        ")\n",
        "\n",
        "fig4.update_geos(resolution=50)\n",
        "fig4.update_layout(margin={\"r\":60,\"t\":60,\"l\":50,\"b\":50})\n",
        "\n",
        "fig4.update_layout(\n",
        "    title_text = 'GDP and unemployment rate in Europe',\n",
        "    **{'geo_scope' : \"europe\",'geo2_scope':\"europe\"}\n",
        "    )\n",
        "\n",
        "\n",
        "fig4.show()"
      ],
      "metadata": {
        "colab": {
          "base_uri": "https://localhost:8080/",
          "height": 542
        },
        "id": "eddrrh2_ojdd",
        "outputId": "ba3a4476-561d-49c9-df14-ce13a5126bfe"
      },
      "execution_count": 256,
      "outputs": [
        {
          "output_type": "display_data",
          "data": {
            "text/html": [
              "<html>\n",
              "<head><meta charset=\"utf-8\" /></head>\n",
              "<body>\n",
              "    <div>            <script src=\"https://cdnjs.cloudflare.com/ajax/libs/mathjax/2.7.5/MathJax.js?config=TeX-AMS-MML_SVG\"></script><script type=\"text/javascript\">if (window.MathJax) {MathJax.Hub.Config({SVG: {font: \"STIX-Web\"}});}</script>                <script type=\"text/javascript\">window.PlotlyConfig = {MathJaxConfig: 'local'};</script>\n",
              "        <script src=\"https://cdn.plot.ly/plotly-2.8.3.min.js\"></script>                <div id=\"1fa77220-9ff7-483c-9977-0b1843d1670a\" class=\"plotly-graph-div\" style=\"height:525px; width:100%;\"></div>            <script type=\"text/javascript\">                                    window.PLOTLYENV=window.PLOTLYENV || {};                                    if (document.getElementById(\"1fa77220-9ff7-483c-9977-0b1843d1670a\")) {                    Plotly.newPlot(                        \"1fa77220-9ff7-483c-9977-0b1843d1670a\",                        [{\"colorbar\":{\"title\":{\"side\":\"right\",\"text\":\"GDP in million EUR\"},\"x\":-0.1},\"locations\":[\"ALB\",\"AUT\",\"BIH\",\"BEL\",\"BGR\",\"CHE\",\"CYP\",\"CZE\",\"DEU\",\"DNK\",\"EST\",\"GRC\",\"ESP\",\"FIN\",\"FRA\",\"HRV\",\"HUN\",\"IRL\",\"ISL\",\"ITA\",\"LIE\",\"LTU\",\"LUX\",\"LVA\",\"MNE\",\"MKD\",\"MLT\",\"NLD\",\"NOR\",\"POL\",\"PRT\",\"ROU\",\"SRB\",\"SWE\",\"SVN\",\"SVK\",\"TUR\",\"ALB\",\"AUT\",\"BIH\",\"BEL\",\"BGR\",\"CHE\",\"CYP\",\"CZE\",\"DEU\",\"DNK\",\"EST\",\"GRC\",\"ESP\",\"FIN\",\"FRA\",\"HRV\",\"HUN\",\"IRL\",\"ISL\",\"ITA\",\"LIE\",\"LTU\",\"LUX\",\"LVA\",\"MNE\",\"MKD\",\"MLT\",\"NLD\",\"NOR\",\"POL\",\"PRT\",\"ROU\",\"SRB\",\"SWE\",\"SVN\",\"SVK\",\"TUR\",\"ALB\",\"AUT\",\"BIH\",\"BEL\",\"BGR\",\"CHE\",\"CYP\",\"CZE\",\"DEU\",\"DNK\",\"EST\",\"GRC\",\"ESP\",\"FIN\",\"FRA\",\"HRV\",\"HUN\",\"IRL\",\"ISL\",\"ITA\",\"LIE\",\"LTU\",\"LUX\",\"LVA\",\"MNE\",\"MKD\",\"MLT\",\"NLD\",\"NOR\",\"POL\",\"PRT\",\"ROU\",\"SRB\",\"SWE\",\"SVN\",\"SVK\",\"TUR\",\"ALB\",\"AUT\",\"BIH\",\"BEL\",\"BGR\",\"CHE\",\"CYP\",\"CZE\",\"DEU\",\"DNK\",\"EST\",\"GRC\",\"ESP\",\"FIN\",\"FRA\",\"HRV\",\"HUN\",\"IRL\",\"ISL\",\"ITA\",\"LIE\",\"LTU\",\"LUX\",\"LVA\",\"MNE\",\"MKD\",\"MLT\",\"NLD\",\"NOR\",\"POL\",\"PRT\",\"ROU\",\"SRB\",\"SWE\",\"SVN\",\"SVK\",\"TUR\",\"ALB\",\"AUT\",\"BIH\",\"BEL\",\"BGR\",\"CHE\",\"CYP\",\"CZE\",\"DEU\",\"DNK\",\"EST\",\"GRC\",\"ESP\",\"FIN\",\"FRA\",\"HRV\",\"HUN\",\"IRL\",\"ISL\",\"ITA\",\"LIE\",\"LTU\",\"LUX\",\"LVA\",\"MNE\",\"MKD\",\"MLT\",\"NLD\",\"NOR\",\"POL\",\"PRT\",\"ROU\",\"SRB\",\"SWE\",\"SVN\",\"SVK\",\"TUR\",\"ALB\",\"AUT\",\"BIH\",\"BEL\",\"BGR\",\"CHE\",\"CYP\",\"CZE\",\"DEU\",\"DNK\",\"EST\",\"GRC\",\"ESP\",\"FIN\",\"FRA\",\"HRV\",\"HUN\",\"IRL\",\"ISL\",\"ITA\",\"LIE\",\"LTU\",\"LUX\",\"LVA\",\"MNE\",\"MKD\",\"MLT\",\"NLD\",\"NOR\",\"POL\",\"PRT\",\"ROU\",\"SRB\",\"SWE\",\"SVN\",\"SVK\",\"TUR\",\"ALB\",\"AUT\",\"BIH\",\"BEL\",\"BGR\",\"CHE\",\"CYP\",\"CZE\",\"DEU\",\"DNK\",\"EST\",\"GRC\",\"ESP\",\"FIN\",\"FRA\",\"HRV\",\"HUN\",\"IRL\",\"ISL\",\"ITA\",\"LIE\",\"LTU\",\"LUX\",\"LVA\",\"MNE\",\"MKD\",\"MLT\",\"NLD\",\"NOR\",\"POL\",\"PRT\",\"ROU\",\"SRB\",\"SWE\",\"SVN\",\"SVK\",\"TUR\",\"ALB\",\"AUT\",\"BIH\",\"BEL\",\"BGR\",\"CHE\",\"CYP\",\"CZE\",\"DEU\",\"DNK\",\"EST\",\"GRC\",\"ESP\",\"FIN\",\"FRA\",\"HRV\",\"HUN\",\"IRL\",\"ISL\",\"ITA\",\"LIE\",\"LTU\",\"LUX\",\"LVA\",\"MNE\",\"MKD\",\"MLT\",\"NLD\",\"NOR\",\"POL\",\"PRT\",\"ROU\",\"SRB\",\"SWE\",\"SVN\",\"SVK\",\"TUR\",\"ALB\",\"AUT\",\"BIH\",\"BEL\",\"BGR\",\"CHE\",\"CYP\",\"CZE\",\"DEU\",\"DNK\",\"EST\",\"GRC\",\"ESP\",\"FIN\",\"FRA\",\"HRV\",\"HUN\",\"IRL\",\"ISL\",\"ITA\",\"LIE\",\"LTU\",\"LUX\",\"LVA\",\"MNE\",\"MKD\",\"MLT\",\"NLD\",\"NOR\",\"POL\",\"PRT\",\"ROU\",\"SRB\",\"SWE\",\"SVN\",\"SVK\",\"TUR\",\"ALB\",\"AUT\",\"BIH\",\"BEL\",\"BGR\",\"CHE\",\"CYP\",\"CZE\",\"DEU\",\"DNK\",\"EST\",\"GRC\",\"ESP\",\"FIN\",\"FRA\",\"HRV\",\"HUN\",\"IRL\",\"ISL\",\"ITA\",\"LIE\",\"LTU\",\"LUX\",\"LVA\",\"MNE\",\"MKD\",\"MLT\",\"NLD\",\"NOR\",\"POL\",\"PRT\",\"ROU\",\"SRB\",\"SWE\",\"SVN\",\"SVK\",\"TUR\",\"ALB\",\"AUT\",\"BIH\",\"BEL\",\"BGR\",\"CHE\",\"CYP\",\"CZE\",\"DEU\",\"DNK\",\"EST\",\"GRC\",\"ESP\",\"FIN\",\"FRA\",\"HRV\",\"HUN\",\"IRL\",\"ISL\",\"ITA\",\"LIE\",\"LTU\",\"LUX\",\"LVA\",\"MNE\",\"MKD\",\"MLT\",\"NLD\",\"NOR\",\"POL\",\"PRT\",\"ROU\",\"SRB\",\"SWE\",\"SVN\",\"SVK\",\"TUR\"],\"z\":[9268.2998046875,310128.6875,13411.7998046875,375967.8125,41478.8984375,520201.40625,19803.0,165202.203125,2693560.0,247879.90625,16677.30078125,203308.203125,1063763.0,197998.0,2058369.0,45378.6015625,102193.5,171683.40625,10934.2998046875,1648755.75,0.0,31317.19921875,44323.5,19666.0,3264.800048828125,7544.2001953125,6924.60009765625,650359.0,358339.5,379860.0,176096.203125,131841.59375,35431.69921875,412844.6875,37058.6015625,71477.1015625,600961.375,9585.7998046875,318653.0,13407.5,386174.6875,42256.80078125,538439.0,19440.80078125,162587.5,2745310.0,254578.0,17916.69921875,188380.59375,1031099.0,201037.0,2088804.0,44483.6015625,100281.203125,175512.796875,11479.900390625,1624358.75,0.0,33410.19921875,46526.19921875,22097.5,3181.5,7584.7998046875,7364.5,652966.0,396523.5,387947.0,168295.59375,132711.203125,33679.30078125,430037.09375,36253.30078125,73360.796875,683587.3125,9625.400390625,323910.1875,13691.7998046875,392880.0,42050.19921875,536632.875,17995.0,159461.5,2811350.0,258742.703125,18910.80078125,179884.40625,1020348.0,204321.0,2117189.0,44329.3984375,102276.1015625,179411.203125,12132.900390625,1612751.25,4812.39990234375,35039.5,49094.5,22791.30078125,3362.5,8149.60009765625,7944.2998046875,660463.0,393408.6875,392310.6875,170492.296875,143690.40625,36426.69921875,441850.6875,36454.30078125,74217.296875,719726.625,9968.599609375,333146.09375,13988.2998046875,403003.3125,43026.0,553942.1875,17430.19921875,157821.296875,2927430.0,265757.0,20048.19921875,177236.0,1032158.0,206897.0,2149765.0,43918.6015625,106297.796875,194933.796875,13472.599609375,1627405.625,5021.7001953125,36581.30078125,51791.30078125,23625.80078125,3457.89990234375,8562.0,8751.099609375,671560.0,375947.3125,408967.8125,173053.703125,150708.59375,35467.5,438833.90625,37634.30078125,76092.703125,707000.8125,10264.099609375,344269.1875,14617.400390625,416701.40625,45812.30078125,632770.5,17884.0,169558.203125,3026180.0,273017.59375,20631.400390625,176368.90625,1077590.0,211385.0,2198432.0,45186.19921875,112823.6015625,262800.0,15795.2998046875,1655355.0,5649.10009765625,37345.69921875,54142.30078125,24572.099609375,3654.5,9072.2998046875,9996.7001953125,690008.0,347632.09375,430465.8125,179713.203125,160149.796875,35740.19921875,455494.6875,38852.6015625,79888.1015625,777042.3125,10719.900390625,357608.0,15289.900390625,430085.3125,48773.1015625,628729.625,18929.30078125,177438.5,3134740.0,283109.6875,21747.900390625,174494.203125,1113840.0,217518.0,2234129.0,47246.30078125,116279.3984375,270058.09375,18804.19921875,1695786.75,5637.7001953125,38889.8984375,56208.1015625,25371.30078125,3954.199951171875,9656.5,10541.099609375,708337.0,333471.3125,427091.8125,186489.796875,170063.40625,36779.30078125,466266.5,40443.19921875,81014.296875,785618.875,11559.0,369361.90625,16042.400390625,445050.09375,52531.30078125,623994.0,20245.30078125,194132.90625,3267160.0,294808.1875,23833.599609375,176903.40625,1161867.0,226301.0,2297242.0,49888.80078125,127046.0,296925.1875,21917.69921875,1736592.75,5734.60009765625,42276.30078125,58168.80078125,26984.400390625,4299.10009765625,10038.2998046875,11941.0,738146.0,353316.40625,467426.59375,195947.203125,187772.703125,39235.30078125,480025.5,43011.30078125,84442.8984375,760497.125,12828.099609375,385424.0,17099.69921875,460091.6875,56224.69921875,622746.0,21612.599609375,210970.5,3367860.0,302328.6875,25817.69921875,179557.703125,1203259.0,233462.0,2363306.0,52688.80078125,136073.40625,326042.8125,22241.099609375,1771391.25,5666.2998046875,45514.80078125,60362.19921875,29153.599609375,4663.10009765625,10744.0,12954.7998046875,773987.0,370294.3125,497842.3125,205184.09375,204496.90625,42892.19921875,470673.09375,45864.19921875,89430.0,658544.375,13754.2001953125,397518.5,18046.400390625,478238.90625,61558.0,653732.625,23009.900390625,225613.5,3473350.0,309526.40625,27732.30078125,183250.40625,1244375.0,239858.0,2437635.0,55571.3984375,146113.203125,356526.3125,22166.80078125,1796633.75,5742.0,48859.8984375,62704.19921875,30647.19921875,4950.7001953125,11262.0,14047.099609375,813055.0,361734.59375,533599.875,214374.59375,223162.5,46005.3984375,476869.5,48396.69921875,94048.0,679132.1875,13283.2998046875,379320.59375,17514.30078125,456731.5,61331.0,659730.8125,21617.900390625,215805.40625,3367560.0,311759.6875,26834.5,165326.40625,1121948.0,237987.0,2310469.0,50188.5,137441.59375,372868.5,18943.400390625,1656960.75,5362.89990234375,49507.19921875,64221.1015625,29456.80078125,4185.60009765625,10635.2998046875,13066.0,796530.0,318051.1875,526445.1875,200087.59375,218863.296875,46796.3984375,480556.40625,46918.0,92079.296875,626576.1875,15435.900390625,402710.90625,19083.69921875,506205.0,67872.1015625,687110.375,23436.69921875,238238.203125,3570620.0,336718.8125,30660.099609375,182830.203125,1205063.0,251431.0,2500870.0,57199.5,154124.40625,421529.1875,21531.80078125,1775436.375,0.0,55383.1015625,73313.5,32866.5,4911.60009765625,11734.0,14684.7998046875,856356.0,407533.1875,574385.375,211279.703125,240154.0,53317.5,537830.0,52020.19921875,97122.5,685765.375],\"zmax\":3570620.0,\"zmin\":0.0,\"type\":\"choropleth\",\"uid\":\"3a8d9c5a-081b-4e9c-a7f9-440b68682cd9\",\"geo\":\"geo\"},{\"colorbar\":{\"title\":{\"side\":\"right\",\"text\":\"Unemployment rate\"}},\"colorscale\":[[0.0,\"#440154\"],[0.1111111111111111,\"#482878\"],[0.2222222222222222,\"#3e4989\"],[0.3333333333333333,\"#31688e\"],[0.4444444444444444,\"#26828e\"],[0.5555555555555556,\"#1f9e89\"],[0.6666666666666666,\"#35b779\"],[0.7777777777777778,\"#6ece58\"],[0.8888888888888888,\"#b5de2b\"],[1.0,\"#fde725\"]],\"locations\":[\"AUT\",\"BEL\",\"BGR\",\"CYP\",\"CZE\",\"DEU\",\"DNK\",\"EST\",\"GRC\",\"ESP\",\"FIN\",\"FRA\",\"HRV\",\"HUN\",\"IRL\",\"ITA\",\"LTU\",\"LUX\",\"LVA\",\"MLT\",\"NLD\",\"POL\",\"PRT\",\"ROU\",\"SWE\",\"SVN\",\"SVK\",\"AUT\",\"BEL\",\"BGR\",\"CYP\",\"CZE\",\"DEU\",\"DNK\",\"EST\",\"GRC\",\"ESP\",\"FIN\",\"FRA\",\"HRV\",\"HUN\",\"IRL\",\"ITA\",\"LTU\",\"LUX\",\"LVA\",\"MLT\",\"NLD\",\"POL\",\"PRT\",\"ROU\",\"SWE\",\"SVN\",\"SVK\",\"AUT\",\"BEL\",\"BGR\",\"CYP\",\"CZE\",\"DEU\",\"DNK\",\"EST\",\"GRC\",\"ESP\",\"FIN\",\"FRA\",\"HRV\",\"HUN\",\"IRL\",\"ITA\",\"LTU\",\"LUX\",\"LVA\",\"MLT\",\"NLD\",\"POL\",\"PRT\",\"ROU\",\"SWE\",\"SVN\",\"SVK\",\"AUT\",\"BEL\",\"BGR\",\"CYP\",\"CZE\",\"DEU\",\"DNK\",\"EST\",\"GRC\",\"ESP\",\"FIN\",\"FRA\",\"HRV\",\"HUN\",\"IRL\",\"ITA\",\"LTU\",\"LUX\",\"LVA\",\"MLT\",\"NLD\",\"POL\",\"PRT\",\"ROU\",\"SWE\",\"SVN\",\"SVK\",\"AUT\",\"BEL\",\"BGR\",\"CYP\",\"CZE\",\"DEU\",\"DNK\",\"EST\",\"GRC\",\"ESP\",\"FIN\",\"FRA\",\"HRV\",\"HUN\",\"IRL\",\"ITA\",\"LTU\",\"LUX\",\"LVA\",\"MLT\",\"NLD\",\"POL\",\"PRT\",\"ROU\",\"SWE\",\"SVN\",\"SVK\",\"AUT\",\"BEL\",\"BGR\",\"CYP\",\"CZE\",\"DEU\",\"DNK\",\"EST\",\"GRC\",\"ESP\",\"FIN\",\"FRA\",\"HRV\",\"HUN\",\"IRL\",\"ITA\",\"LTU\",\"LUX\",\"LVA\",\"MLT\",\"NLD\",\"POL\",\"PRT\",\"ROU\",\"SWE\",\"SVN\",\"SVK\",\"AUT\",\"BEL\",\"BGR\",\"CYP\",\"CZE\",\"DEU\",\"DNK\",\"EST\",\"GRC\",\"ESP\",\"FIN\",\"FRA\",\"HRV\",\"HUN\",\"IRL\",\"ITA\",\"LTU\",\"LUX\",\"LVA\",\"MLT\",\"NLD\",\"POL\",\"PRT\",\"ROU\",\"SWE\",\"SVN\",\"SVK\",\"AUT\",\"BEL\",\"BGR\",\"CYP\",\"CZE\",\"DEU\",\"DNK\",\"EST\",\"GRC\",\"ESP\",\"FIN\",\"FRA\",\"HRV\",\"HUN\",\"IRL\",\"ITA\",\"LTU\",\"LUX\",\"LVA\",\"MLT\",\"NLD\",\"POL\",\"PRT\",\"ROU\",\"SWE\",\"SVN\",\"SVK\",\"AUT\",\"BEL\",\"BGR\",\"CYP\",\"CZE\",\"DEU\",\"DNK\",\"EST\",\"GRC\",\"ESP\",\"FIN\",\"FRA\",\"HRV\",\"HUN\",\"IRL\",\"ITA\",\"LTU\",\"LUX\",\"LVA\",\"MLT\",\"NLD\",\"POL\",\"PRT\",\"ROU\",\"SWE\",\"SVN\",\"SVK\",\"AUT\",\"BEL\",\"BGR\",\"CYP\",\"CZE\",\"DEU\",\"DNK\",\"EST\",\"GRC\",\"ESP\",\"FIN\",\"FRA\",\"HRV\",\"HUN\",\"IRL\",\"ITA\",\"LTU\",\"LUX\",\"LVA\",\"MLT\",\"NLD\",\"POL\",\"PRT\",\"ROU\",\"SWE\",\"SVN\",\"SVK\",\"AUT\",\"BEL\",\"BGR\",\"CYP\",\"CZE\",\"DEU\",\"DNK\",\"EST\",\"GRC\",\"ESP\",\"FIN\",\"FRA\",\"HRV\",\"HUN\",\"IRL\",\"ITA\",\"LTU\",\"LUX\",\"LVA\",\"MLT\",\"NLD\",\"POL\",\"PRT\",\"ROU\",\"SWE\",\"SVN\",\"SVK\",\"AUT\",\"BEL\",\"BGR\",\"CYP\",\"CZE\",\"DEU\",\"DNK\",\"EST\",\"GRC\",\"ESP\",\"FIN\",\"FRA\",\"HRV\",\"HUN\",\"IRL\",\"ITA\",\"LTU\",\"LUX\",\"LVA\",\"MLT\",\"NLD\",\"POL\",\"PRT\",\"ROU\",\"SWE\",\"SVN\",\"SVK\"],\"z\":[4.400000095367432,7.0,10.100000381469727,5.099999904632568,6.400000095367432,6.099999904632568,6.400000095367432,14.800000190734863,11.300000190734863,17.799999237060547,6.699999809265137,7.5,9.5,9.699999809265137,12.300000190734863,7.099999904632568,16.100000381469727,3.700000047683716,17.600000381469727,5.599999904632568,4.699999809265137,8.399999618530273,11.100000381469727,7.300000190734863,6.5,6.5,12.300000190734863,4.199999809265137,6.099999904632568,11.0,6.400000095367432,5.900000095367432,5.099999904632568,6.199999809265137,11.199999809265137,16.100000381469727,19.200000762939453,6.300000190734863,7.599999904632568,11.600000381469727,9.600000381469727,13.199999809265137,7.099999904632568,13.899999618530273,4.099999904632568,14.699999809265137,5.0,4.900000095367432,8.199999809265137,11.899999618530273,7.300000190734863,5.800000190734863,7.5,11.600000381469727,4.5,6.5,11.899999618530273,10.199999809265137,6.0,4.699999809265137,6.400000095367432,8.800000190734863,22.5,22.5,6.199999809265137,8.100000381469727,13.699999809265137,9.399999618530273,13.199999809265137,9.100000381469727,12.199999809265137,4.199999809265137,13.699999809265137,4.800000190734863,5.599999904632568,8.699999809265137,14.699999809265137,7.0,5.900000095367432,7.900000095367432,12.0,5.0,7.199999809265137,12.699999809265137,13.600000381469727,6.099999904632568,4.599999904632568,6.099999904632568,7.599999904632568,25.600000381469727,23.799999237060547,6.599999904632568,8.600000381469727,14.399999618530273,8.600000381469727,11.899999618530273,10.5,10.899999618530273,5.199999809265137,10.800000190734863,4.900000095367432,7.0,9.0,15.399999618530273,7.300000190734863,6.0,9.199999809265137,12.300000190734863,5.300000190734863,7.400000095367432,11.5,14.0,5.400000095367432,4.300000190734863,5.699999809265137,6.599999904632568,24.799999237060547,22.299999237060547,7.099999904632568,8.699999809265137,14.600000381469727,6.5,10.300000190734863,10.800000190734863,9.899999618530273,4.800000190734863,10.0,4.699999809265137,7.300000190734863,7.800000190734863,12.899999618530273,6.900000095367432,6.0,8.899999618530273,11.600000381469727,5.400000095367432,7.5,9.300000190734863,13.199999809265137,4.5,4.0,5.300000190734863,5.699999809265137,23.299999237060547,20.200000762939453,7.599999904632568,8.699999809265137,13.800000190734863,5.800000190734863,8.5,10.199999809265137,8.5,5.699999809265137,9.300000190734863,4.400000095367432,6.900000095367432,6.5,11.5,6.900000095367432,5.800000190734863,8.399999618530273,10.100000381469727,5.699999809265137,6.900000095367432,8.0,11.5,3.5,3.5,4.900000095367432,6.199999809265137,22.399999618530273,17.899999618530273,7.300000190734863,8.399999618530273,11.199999809265137,4.300000190734863,7.199999809265137,10.100000381469727,7.300000190734863,5.300000190734863,9.100000381469727,3.799999952316284,5.900000095367432,5.300000190734863,10.199999809265137,5.900000095367432,5.599999904632568,7.5,8.5,5.300000190734863,6.199999809265137,6.699999809265137,9.899999618530273,2.5999999046325684,3.200000047683716,4.699999809265137,5.199999809265137,20.5,15.699999809265137,7.199999809265137,7.900000095367432,9.600000381469727,3.5,5.699999809265137,9.800000190734863,6.599999904632568,4.699999809265137,8.100000381469727,3.0999999046325684,4.900000095367432,4.099999904632568,8.0,4.900000095367432,5.5,6.199999809265137,7.199999809265137,4.599999904632568,5.199999809265137,5.800000190734863,7.300000190734863,2.0,2.799999952316284,4.199999809265137,4.800000190734863,18.5,13.899999618530273,6.099999904632568,7.599999904632568,7.0,3.0999999046325684,4.699999809265137,9.199999809265137,5.800000190734863,4.900000095367432,7.099999904632568,2.9000000953674316,4.0,3.200000047683716,6.199999809265137,4.199999809265137,5.199999809265137,4.800000190734863,5.800000190734863,4.300000190734863,4.699999809265137,4.900000095367432,6.300000190734863,1.7999999523162842,2.5999999046325684,4.199999809265137,3.9000000953674316,16.799999237060547,12.800000190734863,5.300000190734863,7.099999904632568,5.699999809265137,2.700000047683716,4.0,8.699999809265137,5.800000190734863,4.599999904632568,5.900000095367432,2.9000000953674316,3.5999999046325684,2.799999952316284,5.800000190734863,3.799999952316284,5.300000190734863,4.199999809265137,5.0,5.300000190734863,5.0,5.599999904632568,6.699999809265137,2.299999952316284,3.200000047683716,4.699999809265137,6.0,16.600000381469727,14.0,6.0,6.599999904632568,6.400000095367432,3.5,4.599999904632568,8.100000381469727,7.699999809265137,5.5,7.699999809265137,3.5999999046325684,3.700000047683716,2.700000047683716,5.900000095367432,5.0,6.699999809265137,4.400000095367432,5.800000190734863,5.599999904632568,5.300000190734863,4.900000095367432,6.599999904632568,2.5,3.200000047683716,4.099999904632568,5.400000095367432,13.699999809265137,13.399999618530273,6.5,6.599999904632568,6.400000095367432,3.4000000953674316,5.0,8.300000190734863,6.599999904632568,4.300000190734863,7.099999904632568,2.9000000953674316,3.200000047683716,2.799999952316284,5.5,4.5,6.800000190734863,4.199999809265137,6.099999904632568],\"zmax\":25.600000381469727,\"zmin\":1.7999999523162842,\"type\":\"choropleth\",\"uid\":\"b36434e7-8c87-4b85-b199-d06ecc19f293\",\"geo\":\"geo2\"}],                        {\"geo\":{\"domain\":{\"x\":[0.0,0.45],\"y\":[0.0,1.0]},\"resolution\":50,\"scope\":\"europe\"},\"template\":{\"data\":{\"barpolar\":[{\"marker\":{\"line\":{\"color\":\"#E5ECF6\",\"width\":0.5},\"pattern\":{\"fillmode\":\"overlay\",\"size\":10,\"solidity\":0.2}},\"type\":\"barpolar\"}],\"bar\":[{\"error_x\":{\"color\":\"#2a3f5f\"},\"error_y\":{\"color\":\"#2a3f5f\"},\"marker\":{\"line\":{\"color\":\"#E5ECF6\",\"width\":0.5},\"pattern\":{\"fillmode\":\"overlay\",\"size\":10,\"solidity\":0.2}},\"type\":\"bar\"}],\"carpet\":[{\"aaxis\":{\"endlinecolor\":\"#2a3f5f\",\"gridcolor\":\"white\",\"linecolor\":\"white\",\"minorgridcolor\":\"white\",\"startlinecolor\":\"#2a3f5f\"},\"baxis\":{\"endlinecolor\":\"#2a3f5f\",\"gridcolor\":\"white\",\"linecolor\":\"white\",\"minorgridcolor\":\"white\",\"startlinecolor\":\"#2a3f5f\"},\"type\":\"carpet\"}],\"choropleth\":[{\"colorbar\":{\"outlinewidth\":0,\"ticks\":\"\"},\"type\":\"choropleth\"}],\"contourcarpet\":[{\"colorbar\":{\"outlinewidth\":0,\"ticks\":\"\"},\"type\":\"contourcarpet\"}],\"contour\":[{\"colorbar\":{\"outlinewidth\":0,\"ticks\":\"\"},\"colorscale\":[[0.0,\"#0d0887\"],[0.1111111111111111,\"#46039f\"],[0.2222222222222222,\"#7201a8\"],[0.3333333333333333,\"#9c179e\"],[0.4444444444444444,\"#bd3786\"],[0.5555555555555556,\"#d8576b\"],[0.6666666666666666,\"#ed7953\"],[0.7777777777777778,\"#fb9f3a\"],[0.8888888888888888,\"#fdca26\"],[1.0,\"#f0f921\"]],\"type\":\"contour\"}],\"heatmapgl\":[{\"colorbar\":{\"outlinewidth\":0,\"ticks\":\"\"},\"colorscale\":[[0.0,\"#0d0887\"],[0.1111111111111111,\"#46039f\"],[0.2222222222222222,\"#7201a8\"],[0.3333333333333333,\"#9c179e\"],[0.4444444444444444,\"#bd3786\"],[0.5555555555555556,\"#d8576b\"],[0.6666666666666666,\"#ed7953\"],[0.7777777777777778,\"#fb9f3a\"],[0.8888888888888888,\"#fdca26\"],[1.0,\"#f0f921\"]],\"type\":\"heatmapgl\"}],\"heatmap\":[{\"colorbar\":{\"outlinewidth\":0,\"ticks\":\"\"},\"colorscale\":[[0.0,\"#0d0887\"],[0.1111111111111111,\"#46039f\"],[0.2222222222222222,\"#7201a8\"],[0.3333333333333333,\"#9c179e\"],[0.4444444444444444,\"#bd3786\"],[0.5555555555555556,\"#d8576b\"],[0.6666666666666666,\"#ed7953\"],[0.7777777777777778,\"#fb9f3a\"],[0.8888888888888888,\"#fdca26\"],[1.0,\"#f0f921\"]],\"type\":\"heatmap\"}],\"histogram2dcontour\":[{\"colorbar\":{\"outlinewidth\":0,\"ticks\":\"\"},\"colorscale\":[[0.0,\"#0d0887\"],[0.1111111111111111,\"#46039f\"],[0.2222222222222222,\"#7201a8\"],[0.3333333333333333,\"#9c179e\"],[0.4444444444444444,\"#bd3786\"],[0.5555555555555556,\"#d8576b\"],[0.6666666666666666,\"#ed7953\"],[0.7777777777777778,\"#fb9f3a\"],[0.8888888888888888,\"#fdca26\"],[1.0,\"#f0f921\"]],\"type\":\"histogram2dcontour\"}],\"histogram2d\":[{\"colorbar\":{\"outlinewidth\":0,\"ticks\":\"\"},\"colorscale\":[[0.0,\"#0d0887\"],[0.1111111111111111,\"#46039f\"],[0.2222222222222222,\"#7201a8\"],[0.3333333333333333,\"#9c179e\"],[0.4444444444444444,\"#bd3786\"],[0.5555555555555556,\"#d8576b\"],[0.6666666666666666,\"#ed7953\"],[0.7777777777777778,\"#fb9f3a\"],[0.8888888888888888,\"#fdca26\"],[1.0,\"#f0f921\"]],\"type\":\"histogram2d\"}],\"histogram\":[{\"marker\":{\"pattern\":{\"fillmode\":\"overlay\",\"size\":10,\"solidity\":0.2}},\"type\":\"histogram\"}],\"mesh3d\":[{\"colorbar\":{\"outlinewidth\":0,\"ticks\":\"\"},\"type\":\"mesh3d\"}],\"parcoords\":[{\"line\":{\"colorbar\":{\"outlinewidth\":0,\"ticks\":\"\"}},\"type\":\"parcoords\"}],\"pie\":[{\"automargin\":true,\"type\":\"pie\"}],\"scatter3d\":[{\"line\":{\"colorbar\":{\"outlinewidth\":0,\"ticks\":\"\"}},\"marker\":{\"colorbar\":{\"outlinewidth\":0,\"ticks\":\"\"}},\"type\":\"scatter3d\"}],\"scattercarpet\":[{\"marker\":{\"colorbar\":{\"outlinewidth\":0,\"ticks\":\"\"}},\"type\":\"scattercarpet\"}],\"scattergeo\":[{\"marker\":{\"colorbar\":{\"outlinewidth\":0,\"ticks\":\"\"}},\"type\":\"scattergeo\"}],\"scattergl\":[{\"marker\":{\"colorbar\":{\"outlinewidth\":0,\"ticks\":\"\"}},\"type\":\"scattergl\"}],\"scattermapbox\":[{\"marker\":{\"colorbar\":{\"outlinewidth\":0,\"ticks\":\"\"}},\"type\":\"scattermapbox\"}],\"scatterpolargl\":[{\"marker\":{\"colorbar\":{\"outlinewidth\":0,\"ticks\":\"\"}},\"type\":\"scatterpolargl\"}],\"scatterpolar\":[{\"marker\":{\"colorbar\":{\"outlinewidth\":0,\"ticks\":\"\"}},\"type\":\"scatterpolar\"}],\"scatter\":[{\"marker\":{\"colorbar\":{\"outlinewidth\":0,\"ticks\":\"\"}},\"type\":\"scatter\"}],\"scatterternary\":[{\"marker\":{\"colorbar\":{\"outlinewidth\":0,\"ticks\":\"\"}},\"type\":\"scatterternary\"}],\"surface\":[{\"colorbar\":{\"outlinewidth\":0,\"ticks\":\"\"},\"colorscale\":[[0.0,\"#0d0887\"],[0.1111111111111111,\"#46039f\"],[0.2222222222222222,\"#7201a8\"],[0.3333333333333333,\"#9c179e\"],[0.4444444444444444,\"#bd3786\"],[0.5555555555555556,\"#d8576b\"],[0.6666666666666666,\"#ed7953\"],[0.7777777777777778,\"#fb9f3a\"],[0.8888888888888888,\"#fdca26\"],[1.0,\"#f0f921\"]],\"type\":\"surface\"}],\"table\":[{\"cells\":{\"fill\":{\"color\":\"#EBF0F8\"},\"line\":{\"color\":\"white\"}},\"header\":{\"fill\":{\"color\":\"#C8D4E3\"},\"line\":{\"color\":\"white\"}},\"type\":\"table\"}]},\"layout\":{\"annotationdefaults\":{\"arrowcolor\":\"#2a3f5f\",\"arrowhead\":0,\"arrowwidth\":1},\"autotypenumbers\":\"strict\",\"coloraxis\":{\"colorbar\":{\"outlinewidth\":0,\"ticks\":\"\"}},\"colorscale\":{\"diverging\":[[0,\"#8e0152\"],[0.1,\"#c51b7d\"],[0.2,\"#de77ae\"],[0.3,\"#f1b6da\"],[0.4,\"#fde0ef\"],[0.5,\"#f7f7f7\"],[0.6,\"#e6f5d0\"],[0.7,\"#b8e186\"],[0.8,\"#7fbc41\"],[0.9,\"#4d9221\"],[1,\"#276419\"]],\"sequential\":[[0.0,\"#0d0887\"],[0.1111111111111111,\"#46039f\"],[0.2222222222222222,\"#7201a8\"],[0.3333333333333333,\"#9c179e\"],[0.4444444444444444,\"#bd3786\"],[0.5555555555555556,\"#d8576b\"],[0.6666666666666666,\"#ed7953\"],[0.7777777777777778,\"#fb9f3a\"],[0.8888888888888888,\"#fdca26\"],[1.0,\"#f0f921\"]],\"sequentialminus\":[[0.0,\"#0d0887\"],[0.1111111111111111,\"#46039f\"],[0.2222222222222222,\"#7201a8\"],[0.3333333333333333,\"#9c179e\"],[0.4444444444444444,\"#bd3786\"],[0.5555555555555556,\"#d8576b\"],[0.6666666666666666,\"#ed7953\"],[0.7777777777777778,\"#fb9f3a\"],[0.8888888888888888,\"#fdca26\"],[1.0,\"#f0f921\"]]},\"colorway\":[\"#636efa\",\"#EF553B\",\"#00cc96\",\"#ab63fa\",\"#FFA15A\",\"#19d3f3\",\"#FF6692\",\"#B6E880\",\"#FF97FF\",\"#FECB52\"],\"font\":{\"color\":\"#2a3f5f\"},\"geo\":{\"bgcolor\":\"white\",\"lakecolor\":\"white\",\"landcolor\":\"#E5ECF6\",\"showlakes\":true,\"showland\":true,\"subunitcolor\":\"white\"},\"hoverlabel\":{\"align\":\"left\"},\"hovermode\":\"closest\",\"mapbox\":{\"style\":\"light\"},\"paper_bgcolor\":\"white\",\"plot_bgcolor\":\"#E5ECF6\",\"polar\":{\"angularaxis\":{\"gridcolor\":\"white\",\"linecolor\":\"white\",\"ticks\":\"\"},\"bgcolor\":\"#E5ECF6\",\"radialaxis\":{\"gridcolor\":\"white\",\"linecolor\":\"white\",\"ticks\":\"\"}},\"scene\":{\"xaxis\":{\"backgroundcolor\":\"#E5ECF6\",\"gridcolor\":\"white\",\"gridwidth\":2,\"linecolor\":\"white\",\"showbackground\":true,\"ticks\":\"\",\"zerolinecolor\":\"white\"},\"yaxis\":{\"backgroundcolor\":\"#E5ECF6\",\"gridcolor\":\"white\",\"gridwidth\":2,\"linecolor\":\"white\",\"showbackground\":true,\"ticks\":\"\",\"zerolinecolor\":\"white\"},\"zaxis\":{\"backgroundcolor\":\"#E5ECF6\",\"gridcolor\":\"white\",\"gridwidth\":2,\"linecolor\":\"white\",\"showbackground\":true,\"ticks\":\"\",\"zerolinecolor\":\"white\"}},\"shapedefaults\":{\"line\":{\"color\":\"#2a3f5f\"}},\"ternary\":{\"aaxis\":{\"gridcolor\":\"white\",\"linecolor\":\"white\",\"ticks\":\"\"},\"baxis\":{\"gridcolor\":\"white\",\"linecolor\":\"white\",\"ticks\":\"\"},\"bgcolor\":\"#E5ECF6\",\"caxis\":{\"gridcolor\":\"white\",\"linecolor\":\"white\",\"ticks\":\"\"}},\"title\":{\"x\":0.05},\"xaxis\":{\"automargin\":true,\"gridcolor\":\"white\",\"linecolor\":\"white\",\"ticks\":\"\",\"title\":{\"standoff\":15},\"zerolinecolor\":\"white\",\"zerolinewidth\":2},\"yaxis\":{\"automargin\":true,\"gridcolor\":\"white\",\"linecolor\":\"white\",\"ticks\":\"\",\"title\":{\"standoff\":15},\"zerolinecolor\":\"white\",\"zerolinewidth\":2}}},\"geo2\":{\"domain\":{\"x\":[0.55,1.0],\"y\":[0.0,1.0]},\"resolution\":50,\"scope\":\"europe\"},\"margin\":{\"r\":60,\"t\":60,\"l\":50,\"b\":50},\"title\":{\"text\":\"GDP and unemployment rate in Europe\"},\"updatemenus\":[{\"buttons\":[{\"args\":[null,{\"frame\":{\"duration\":500,\"redraw\":false},\"fromcurrent\":true,\"transition\":{\"duration\":300,\"easing\":\"quadratic-in-out\"}}],\"label\":\"Play\",\"method\":\"animate\"},{\"args\":[[null],{\"frame\":{\"duration\":0,\"redraw\":false},\"mode\":\"immediate\",\"transition\":{\"duration\":0}}],\"label\":\"Pause\",\"method\":\"animate\"}],\"direction\":\"left\",\"pad\":{\"r\":10,\"t\":87},\"showactive\":false,\"type\":\"buttons\",\"x\":0.1,\"xanchor\":\"right\",\"y\":0,\"yanchor\":\"top\"}]},                        {\"responsive\": true}                    ).then(function(){\n",
              "                            \n",
              "var gd = document.getElementById('1fa77220-9ff7-483c-9977-0b1843d1670a');\n",
              "var x = new MutationObserver(function (mutations, observer) {{\n",
              "        var display = window.getComputedStyle(gd).display;\n",
              "        if (!display || display === 'none') {{\n",
              "            console.log([gd, 'removed!']);\n",
              "            Plotly.purge(gd);\n",
              "            observer.disconnect();\n",
              "        }}\n",
              "}});\n",
              "\n",
              "// Listen for the removal of the full notebook cells\n",
              "var notebookContainer = gd.closest('#notebook-container');\n",
              "if (notebookContainer) {{\n",
              "    x.observe(notebookContainer, {childList: true});\n",
              "}}\n",
              "\n",
              "// Listen for the clearing of the current output cell\n",
              "var outputEl = gd.closest('.output');\n",
              "if (outputEl) {{\n",
              "    x.observe(outputEl, {childList: true});\n",
              "}}\n",
              "\n",
              "                        })                };                            </script>        </div>\n",
              "</body>\n",
              "</html>"
            ]
          },
          "metadata": {}
        }
      ]
    },
    {
      "cell_type": "code",
      "source": [
        "unemployment_melted[\"type\"]=\"Unemployment\""
      ],
      "metadata": {
        "id": "02XlYmLPMbOs"
      },
      "execution_count": 298,
      "outputs": []
    },
    {
      "cell_type": "code",
      "source": [
        "bip_melted[\"type\"] = \"GDP\""
      ],
      "metadata": {
        "id": "oHDeeAC5MxkA"
      },
      "execution_count": 300,
      "outputs": []
    },
    {
      "cell_type": "code",
      "source": [
        "merged_melts = pd.concat([bip_melted,unemployment_melted])"
      ],
      "metadata": {
        "id": "PbhnsNDIM7bC"
      },
      "execution_count": 301,
      "outputs": []
    },
    {
      "cell_type": "code",
      "source": [
        "merged_melts.drop(merged_melts[merged_melts[\"year\"] == 2010].index, inplace=True)"
      ],
      "metadata": {
        "id": "7Iobbj8MRX7h"
      },
      "execution_count": 328,
      "outputs": []
    },
    {
      "cell_type": "code",
      "source": [
        "fig5 = px.choropleth(\n",
        "          merged_melts,\n",
        "          locations='geo', \n",
        "          color='value',\n",
        "          scope=\"europe\",\n",
        "          range_color=(bip_melted[\"value\"].min(), bip_melted[\"value\"].max()),\n",
        "          height=600,\n",
        "          title=\"GDP vs unemployment in Europe\",\n",
        "          animation_frame=\"year\",\n",
        "          basemap_visible=True,\n",
        "          facet_col=\"type\"\n",
        "        )\n",
        "\n",
        "\n",
        "fig5.update_geos(resolution=50)\n",
        "fig5.update_layout(margin={\"r\":60,\"t\":60,\"l\":50,\"b\":10})\n",
        "\n",
        "for i, t in enumerate(fig5.data):\n",
        "    t.update(coloraxis=f\"coloraxis{i+1}\")\n",
        "for fr in fig5.frames:\n",
        "    for i, t in enumerate(fr.data):\n",
        "        t.update(coloraxis=f\"coloraxis{i+1}\")\n",
        "\n",
        "fig5.update_layout(\n",
        "    coloraxis={\n",
        "        \"colorbar\": {\n",
        "            \"x\": -0.2, \n",
        "             \"title\":{\"side\":\"right\",\"text\":\"GDP in million EUR\"}\n",
        "             }\n",
        "             },\n",
        "    coloraxis2={\n",
        "        \"colorbar\": {\n",
        "            \"x\": 1.2,\n",
        "            \"title\":{\"side\":\"right\",\"text\":\"Unemployment rate\"},\n",
        "        },\n",
        "        \"colorscale\": \"Viridis\",\n",
        "    }\n",
        ")\n",
        "\n",
        "fig5.show()"
      ],
      "metadata": {
        "colab": {
          "base_uri": "https://localhost:8080/",
          "height": 617
        },
        "id": "wkONUId2I68A",
        "outputId": "6d5a2851-756b-4ba1-8325-ff075fcd033a"
      },
      "execution_count": 380,
      "outputs": [
        {
          "output_type": "display_data",
          "data": {
            "text/html": [
              "<html>\n",
              "<head><meta charset=\"utf-8\" /></head>\n",
              "<body>\n",
              "    <div>            <script src=\"https://cdnjs.cloudflare.com/ajax/libs/mathjax/2.7.5/MathJax.js?config=TeX-AMS-MML_SVG\"></script><script type=\"text/javascript\">if (window.MathJax) {MathJax.Hub.Config({SVG: {font: \"STIX-Web\"}});}</script>                <script type=\"text/javascript\">window.PlotlyConfig = {MathJaxConfig: 'local'};</script>\n",
              "        <script src=\"https://cdn.plot.ly/plotly-2.8.3.min.js\"></script>                <div id=\"f3893943-a732-4254-92b6-0bd0f240e38d\" class=\"plotly-graph-div\" style=\"height:600px; width:100%;\"></div>            <script type=\"text/javascript\">                                    window.PLOTLYENV=window.PLOTLYENV || {};                                    if (document.getElementById(\"f3893943-a732-4254-92b6-0bd0f240e38d\")) {                    Plotly.newPlot(                        \"f3893943-a732-4254-92b6-0bd0f240e38d\",                        [{\"coloraxis\":\"coloraxis\",\"geo\":\"geo\",\"hovertemplate\":\"year=2011<br>type=GDP<br>geo=%{location}<br>value=%{z}<extra></extra>\",\"locations\":[\"NLD\",\"NOR\",\"POL\",\"PRT\",\"ROU\",\"SRB\",\"SWE\",\"SVN\",\"SVK\",\"TUR\"],\"name\":\"\",\"z\":[650359.0,358339.5,379860.0,176096.203125,131841.59375,35431.69921875,412844.6875,37058.6015625,71477.1015625,600961.375],\"type\":\"choropleth\"},{\"coloraxis\":\"coloraxis2\",\"geo\":\"geo2\",\"hovertemplate\":\"year=2011<br>type=Unemployment<br>geo=%{location}<br>value=%{z}<extra></extra>\",\"locations\":[\"AUT\",\"BEL\",\"BGR\",\"CYP\",\"CZE\",\"DEU\",\"DNK\",\"EST\",\"GRC\",\"ESP\",\"FIN\",\"FRA\",\"HRV\",\"HUN\",\"IRL\",\"ITA\",\"LTU\",\"LUX\",\"LVA\",\"MLT\",\"NLD\",\"POL\",\"PRT\",\"ROU\",\"SWE\",\"SVN\",\"SVK\"],\"name\":\"\",\"z\":[4.199999809265137,6.099999904632568,11.0,6.400000095367432,5.900000095367432,5.099999904632568,6.199999809265137,11.199999809265137,16.100000381469727,19.200000762939453,6.300000190734863,7.599999904632568,11.600000381469727,9.600000381469727,13.199999809265137,7.099999904632568,13.899999618530273,4.099999904632568,14.699999809265137,5.0,4.900000095367432,8.199999809265137,11.899999618530273,7.300000190734863,5.800000190734863,7.5,11.600000381469727],\"type\":\"choropleth\"}],                        {\"template\":{\"data\":{\"bar\":[{\"error_x\":{\"color\":\"#2a3f5f\"},\"error_y\":{\"color\":\"#2a3f5f\"},\"marker\":{\"line\":{\"color\":\"#E5ECF6\",\"width\":0.5},\"pattern\":{\"fillmode\":\"overlay\",\"size\":10,\"solidity\":0.2}},\"type\":\"bar\"}],\"barpolar\":[{\"marker\":{\"line\":{\"color\":\"#E5ECF6\",\"width\":0.5},\"pattern\":{\"fillmode\":\"overlay\",\"size\":10,\"solidity\":0.2}},\"type\":\"barpolar\"}],\"carpet\":[{\"aaxis\":{\"endlinecolor\":\"#2a3f5f\",\"gridcolor\":\"white\",\"linecolor\":\"white\",\"minorgridcolor\":\"white\",\"startlinecolor\":\"#2a3f5f\"},\"baxis\":{\"endlinecolor\":\"#2a3f5f\",\"gridcolor\":\"white\",\"linecolor\":\"white\",\"minorgridcolor\":\"white\",\"startlinecolor\":\"#2a3f5f\"},\"type\":\"carpet\"}],\"choropleth\":[{\"colorbar\":{\"outlinewidth\":0,\"ticks\":\"\"},\"type\":\"choropleth\"}],\"contour\":[{\"colorbar\":{\"outlinewidth\":0,\"ticks\":\"\"},\"colorscale\":[[0.0,\"#0d0887\"],[0.1111111111111111,\"#46039f\"],[0.2222222222222222,\"#7201a8\"],[0.3333333333333333,\"#9c179e\"],[0.4444444444444444,\"#bd3786\"],[0.5555555555555556,\"#d8576b\"],[0.6666666666666666,\"#ed7953\"],[0.7777777777777778,\"#fb9f3a\"],[0.8888888888888888,\"#fdca26\"],[1.0,\"#f0f921\"]],\"type\":\"contour\"}],\"contourcarpet\":[{\"colorbar\":{\"outlinewidth\":0,\"ticks\":\"\"},\"type\":\"contourcarpet\"}],\"heatmap\":[{\"colorbar\":{\"outlinewidth\":0,\"ticks\":\"\"},\"colorscale\":[[0.0,\"#0d0887\"],[0.1111111111111111,\"#46039f\"],[0.2222222222222222,\"#7201a8\"],[0.3333333333333333,\"#9c179e\"],[0.4444444444444444,\"#bd3786\"],[0.5555555555555556,\"#d8576b\"],[0.6666666666666666,\"#ed7953\"],[0.7777777777777778,\"#fb9f3a\"],[0.8888888888888888,\"#fdca26\"],[1.0,\"#f0f921\"]],\"type\":\"heatmap\"}],\"heatmapgl\":[{\"colorbar\":{\"outlinewidth\":0,\"ticks\":\"\"},\"colorscale\":[[0.0,\"#0d0887\"],[0.1111111111111111,\"#46039f\"],[0.2222222222222222,\"#7201a8\"],[0.3333333333333333,\"#9c179e\"],[0.4444444444444444,\"#bd3786\"],[0.5555555555555556,\"#d8576b\"],[0.6666666666666666,\"#ed7953\"],[0.7777777777777778,\"#fb9f3a\"],[0.8888888888888888,\"#fdca26\"],[1.0,\"#f0f921\"]],\"type\":\"heatmapgl\"}],\"histogram\":[{\"marker\":{\"pattern\":{\"fillmode\":\"overlay\",\"size\":10,\"solidity\":0.2}},\"type\":\"histogram\"}],\"histogram2d\":[{\"colorbar\":{\"outlinewidth\":0,\"ticks\":\"\"},\"colorscale\":[[0.0,\"#0d0887\"],[0.1111111111111111,\"#46039f\"],[0.2222222222222222,\"#7201a8\"],[0.3333333333333333,\"#9c179e\"],[0.4444444444444444,\"#bd3786\"],[0.5555555555555556,\"#d8576b\"],[0.6666666666666666,\"#ed7953\"],[0.7777777777777778,\"#fb9f3a\"],[0.8888888888888888,\"#fdca26\"],[1.0,\"#f0f921\"]],\"type\":\"histogram2d\"}],\"histogram2dcontour\":[{\"colorbar\":{\"outlinewidth\":0,\"ticks\":\"\"},\"colorscale\":[[0.0,\"#0d0887\"],[0.1111111111111111,\"#46039f\"],[0.2222222222222222,\"#7201a8\"],[0.3333333333333333,\"#9c179e\"],[0.4444444444444444,\"#bd3786\"],[0.5555555555555556,\"#d8576b\"],[0.6666666666666666,\"#ed7953\"],[0.7777777777777778,\"#fb9f3a\"],[0.8888888888888888,\"#fdca26\"],[1.0,\"#f0f921\"]],\"type\":\"histogram2dcontour\"}],\"mesh3d\":[{\"colorbar\":{\"outlinewidth\":0,\"ticks\":\"\"},\"type\":\"mesh3d\"}],\"parcoords\":[{\"line\":{\"colorbar\":{\"outlinewidth\":0,\"ticks\":\"\"}},\"type\":\"parcoords\"}],\"pie\":[{\"automargin\":true,\"type\":\"pie\"}],\"scatter\":[{\"marker\":{\"colorbar\":{\"outlinewidth\":0,\"ticks\":\"\"}},\"type\":\"scatter\"}],\"scatter3d\":[{\"line\":{\"colorbar\":{\"outlinewidth\":0,\"ticks\":\"\"}},\"marker\":{\"colorbar\":{\"outlinewidth\":0,\"ticks\":\"\"}},\"type\":\"scatter3d\"}],\"scattercarpet\":[{\"marker\":{\"colorbar\":{\"outlinewidth\":0,\"ticks\":\"\"}},\"type\":\"scattercarpet\"}],\"scattergeo\":[{\"marker\":{\"colorbar\":{\"outlinewidth\":0,\"ticks\":\"\"}},\"type\":\"scattergeo\"}],\"scattergl\":[{\"marker\":{\"colorbar\":{\"outlinewidth\":0,\"ticks\":\"\"}},\"type\":\"scattergl\"}],\"scattermapbox\":[{\"marker\":{\"colorbar\":{\"outlinewidth\":0,\"ticks\":\"\"}},\"type\":\"scattermapbox\"}],\"scatterpolar\":[{\"marker\":{\"colorbar\":{\"outlinewidth\":0,\"ticks\":\"\"}},\"type\":\"scatterpolar\"}],\"scatterpolargl\":[{\"marker\":{\"colorbar\":{\"outlinewidth\":0,\"ticks\":\"\"}},\"type\":\"scatterpolargl\"}],\"scatterternary\":[{\"marker\":{\"colorbar\":{\"outlinewidth\":0,\"ticks\":\"\"}},\"type\":\"scatterternary\"}],\"surface\":[{\"colorbar\":{\"outlinewidth\":0,\"ticks\":\"\"},\"colorscale\":[[0.0,\"#0d0887\"],[0.1111111111111111,\"#46039f\"],[0.2222222222222222,\"#7201a8\"],[0.3333333333333333,\"#9c179e\"],[0.4444444444444444,\"#bd3786\"],[0.5555555555555556,\"#d8576b\"],[0.6666666666666666,\"#ed7953\"],[0.7777777777777778,\"#fb9f3a\"],[0.8888888888888888,\"#fdca26\"],[1.0,\"#f0f921\"]],\"type\":\"surface\"}],\"table\":[{\"cells\":{\"fill\":{\"color\":\"#EBF0F8\"},\"line\":{\"color\":\"white\"}},\"header\":{\"fill\":{\"color\":\"#C8D4E3\"},\"line\":{\"color\":\"white\"}},\"type\":\"table\"}]},\"layout\":{\"annotationdefaults\":{\"arrowcolor\":\"#2a3f5f\",\"arrowhead\":0,\"arrowwidth\":1},\"autotypenumbers\":\"strict\",\"coloraxis\":{\"colorbar\":{\"outlinewidth\":0,\"ticks\":\"\"}},\"colorscale\":{\"diverging\":[[0,\"#8e0152\"],[0.1,\"#c51b7d\"],[0.2,\"#de77ae\"],[0.3,\"#f1b6da\"],[0.4,\"#fde0ef\"],[0.5,\"#f7f7f7\"],[0.6,\"#e6f5d0\"],[0.7,\"#b8e186\"],[0.8,\"#7fbc41\"],[0.9,\"#4d9221\"],[1,\"#276419\"]],\"sequential\":[[0.0,\"#0d0887\"],[0.1111111111111111,\"#46039f\"],[0.2222222222222222,\"#7201a8\"],[0.3333333333333333,\"#9c179e\"],[0.4444444444444444,\"#bd3786\"],[0.5555555555555556,\"#d8576b\"],[0.6666666666666666,\"#ed7953\"],[0.7777777777777778,\"#fb9f3a\"],[0.8888888888888888,\"#fdca26\"],[1.0,\"#f0f921\"]],\"sequentialminus\":[[0.0,\"#0d0887\"],[0.1111111111111111,\"#46039f\"],[0.2222222222222222,\"#7201a8\"],[0.3333333333333333,\"#9c179e\"],[0.4444444444444444,\"#bd3786\"],[0.5555555555555556,\"#d8576b\"],[0.6666666666666666,\"#ed7953\"],[0.7777777777777778,\"#fb9f3a\"],[0.8888888888888888,\"#fdca26\"],[1.0,\"#f0f921\"]]},\"colorway\":[\"#636efa\",\"#EF553B\",\"#00cc96\",\"#ab63fa\",\"#FFA15A\",\"#19d3f3\",\"#FF6692\",\"#B6E880\",\"#FF97FF\",\"#FECB52\"],\"font\":{\"color\":\"#2a3f5f\"},\"geo\":{\"bgcolor\":\"white\",\"lakecolor\":\"white\",\"landcolor\":\"#E5ECF6\",\"showlakes\":true,\"showland\":true,\"subunitcolor\":\"white\"},\"hoverlabel\":{\"align\":\"left\"},\"hovermode\":\"closest\",\"mapbox\":{\"style\":\"light\"},\"paper_bgcolor\":\"white\",\"plot_bgcolor\":\"#E5ECF6\",\"polar\":{\"angularaxis\":{\"gridcolor\":\"white\",\"linecolor\":\"white\",\"ticks\":\"\"},\"bgcolor\":\"#E5ECF6\",\"radialaxis\":{\"gridcolor\":\"white\",\"linecolor\":\"white\",\"ticks\":\"\"}},\"scene\":{\"xaxis\":{\"backgroundcolor\":\"#E5ECF6\",\"gridcolor\":\"white\",\"gridwidth\":2,\"linecolor\":\"white\",\"showbackground\":true,\"ticks\":\"\",\"zerolinecolor\":\"white\"},\"yaxis\":{\"backgroundcolor\":\"#E5ECF6\",\"gridcolor\":\"white\",\"gridwidth\":2,\"linecolor\":\"white\",\"showbackground\":true,\"ticks\":\"\",\"zerolinecolor\":\"white\"},\"zaxis\":{\"backgroundcolor\":\"#E5ECF6\",\"gridcolor\":\"white\",\"gridwidth\":2,\"linecolor\":\"white\",\"showbackground\":true,\"ticks\":\"\",\"zerolinecolor\":\"white\"}},\"shapedefaults\":{\"line\":{\"color\":\"#2a3f5f\"}},\"ternary\":{\"aaxis\":{\"gridcolor\":\"white\",\"linecolor\":\"white\",\"ticks\":\"\"},\"baxis\":{\"gridcolor\":\"white\",\"linecolor\":\"white\",\"ticks\":\"\"},\"bgcolor\":\"#E5ECF6\",\"caxis\":{\"gridcolor\":\"white\",\"linecolor\":\"white\",\"ticks\":\"\"}},\"title\":{\"x\":0.05},\"xaxis\":{\"automargin\":true,\"gridcolor\":\"white\",\"linecolor\":\"white\",\"ticks\":\"\",\"title\":{\"standoff\":15},\"zerolinecolor\":\"white\",\"zerolinewidth\":2},\"yaxis\":{\"automargin\":true,\"gridcolor\":\"white\",\"linecolor\":\"white\",\"ticks\":\"\",\"title\":{\"standoff\":15},\"zerolinecolor\":\"white\",\"zerolinewidth\":2}}},\"geo\":{\"domain\":{\"x\":[0.0,0.49],\"y\":[0.0,1.0]},\"center\":{},\"scope\":\"europe\",\"visible\":true,\"resolution\":50},\"geo2\":{\"domain\":{\"x\":[0.51,1.0],\"y\":[0.0,1.0]},\"center\":{},\"scope\":\"europe\",\"visible\":true,\"resolution\":50},\"annotations\":[{\"font\":{},\"showarrow\":false,\"text\":\"type=GDP\",\"x\":0.245,\"xanchor\":\"center\",\"xref\":\"paper\",\"y\":1.0,\"yanchor\":\"bottom\",\"yref\":\"paper\"},{\"font\":{},\"showarrow\":false,\"text\":\"type=Unemployment\",\"x\":0.755,\"xanchor\":\"center\",\"xref\":\"paper\",\"y\":1.0,\"yanchor\":\"bottom\",\"yref\":\"paper\"}],\"coloraxis\":{\"colorbar\":{\"title\":{\"text\":\"GDP in million EUR\",\"side\":\"right\"},\"x\":-0.2},\"colorscale\":[[0.0,\"#0d0887\"],[0.1111111111111111,\"#46039f\"],[0.2222222222222222,\"#7201a8\"],[0.3333333333333333,\"#9c179e\"],[0.4444444444444444,\"#bd3786\"],[0.5555555555555556,\"#d8576b\"],[0.6666666666666666,\"#ed7953\"],[0.7777777777777778,\"#fb9f3a\"],[0.8888888888888888,\"#fdca26\"],[1.0,\"#f0f921\"]],\"cmin\":0.0,\"cmax\":3570620.0},\"legend\":{\"tracegroupgap\":0},\"title\":{\"text\":\"GDP vs unemployment in Europe\"},\"height\":600,\"updatemenus\":[{\"buttons\":[{\"args\":[null,{\"frame\":{\"duration\":500,\"redraw\":true},\"mode\":\"immediate\",\"fromcurrent\":true,\"transition\":{\"duration\":500,\"easing\":\"linear\"}}],\"label\":\"&#9654;\",\"method\":\"animate\"},{\"args\":[[null],{\"frame\":{\"duration\":0,\"redraw\":true},\"mode\":\"immediate\",\"fromcurrent\":true,\"transition\":{\"duration\":0,\"easing\":\"linear\"}}],\"label\":\"&#9724;\",\"method\":\"animate\"}],\"direction\":\"left\",\"pad\":{\"r\":10,\"t\":70},\"showactive\":false,\"type\":\"buttons\",\"x\":0.1,\"xanchor\":\"right\",\"y\":0,\"yanchor\":\"top\"}],\"sliders\":[{\"active\":0,\"currentvalue\":{\"prefix\":\"year=\"},\"len\":0.9,\"pad\":{\"b\":10,\"t\":60},\"steps\":[{\"args\":[[\"2011\"],{\"frame\":{\"duration\":0,\"redraw\":true},\"mode\":\"immediate\",\"fromcurrent\":true,\"transition\":{\"duration\":0,\"easing\":\"linear\"}}],\"label\":\"2011\",\"method\":\"animate\"},{\"args\":[[\"2012\"],{\"frame\":{\"duration\":0,\"redraw\":true},\"mode\":\"immediate\",\"fromcurrent\":true,\"transition\":{\"duration\":0,\"easing\":\"linear\"}}],\"label\":\"2012\",\"method\":\"animate\"},{\"args\":[[\"2013\"],{\"frame\":{\"duration\":0,\"redraw\":true},\"mode\":\"immediate\",\"fromcurrent\":true,\"transition\":{\"duration\":0,\"easing\":\"linear\"}}],\"label\":\"2013\",\"method\":\"animate\"},{\"args\":[[\"2014\"],{\"frame\":{\"duration\":0,\"redraw\":true},\"mode\":\"immediate\",\"fromcurrent\":true,\"transition\":{\"duration\":0,\"easing\":\"linear\"}}],\"label\":\"2014\",\"method\":\"animate\"},{\"args\":[[\"2015\"],{\"frame\":{\"duration\":0,\"redraw\":true},\"mode\":\"immediate\",\"fromcurrent\":true,\"transition\":{\"duration\":0,\"easing\":\"linear\"}}],\"label\":\"2015\",\"method\":\"animate\"},{\"args\":[[\"2016\"],{\"frame\":{\"duration\":0,\"redraw\":true},\"mode\":\"immediate\",\"fromcurrent\":true,\"transition\":{\"duration\":0,\"easing\":\"linear\"}}],\"label\":\"2016\",\"method\":\"animate\"},{\"args\":[[\"2017\"],{\"frame\":{\"duration\":0,\"redraw\":true},\"mode\":\"immediate\",\"fromcurrent\":true,\"transition\":{\"duration\":0,\"easing\":\"linear\"}}],\"label\":\"2017\",\"method\":\"animate\"},{\"args\":[[\"2018\"],{\"frame\":{\"duration\":0,\"redraw\":true},\"mode\":\"immediate\",\"fromcurrent\":true,\"transition\":{\"duration\":0,\"easing\":\"linear\"}}],\"label\":\"2018\",\"method\":\"animate\"},{\"args\":[[\"2019\"],{\"frame\":{\"duration\":0,\"redraw\":true},\"mode\":\"immediate\",\"fromcurrent\":true,\"transition\":{\"duration\":0,\"easing\":\"linear\"}}],\"label\":\"2019\",\"method\":\"animate\"},{\"args\":[[\"2020\"],{\"frame\":{\"duration\":0,\"redraw\":true},\"mode\":\"immediate\",\"fromcurrent\":true,\"transition\":{\"duration\":0,\"easing\":\"linear\"}}],\"label\":\"2020\",\"method\":\"animate\"},{\"args\":[[\"2021\"],{\"frame\":{\"duration\":0,\"redraw\":true},\"mode\":\"immediate\",\"fromcurrent\":true,\"transition\":{\"duration\":0,\"easing\":\"linear\"}}],\"label\":\"2021\",\"method\":\"animate\"}],\"x\":0.1,\"xanchor\":\"left\",\"y\":0,\"yanchor\":\"top\"}],\"margin\":{\"r\":60,\"t\":60,\"l\":50,\"b\":10},\"coloraxis2\":{\"colorbar\":{\"x\":1.2,\"title\":{\"side\":\"right\",\"text\":\"Unemployment rate\"}},\"colorscale\":[[0.0,\"#440154\"],[0.1111111111111111,\"#482878\"],[0.2222222222222222,\"#3e4989\"],[0.3333333333333333,\"#31688e\"],[0.4444444444444444,\"#26828e\"],[0.5555555555555556,\"#1f9e89\"],[0.6666666666666666,\"#35b779\"],[0.7777777777777778,\"#6ece58\"],[0.8888888888888888,\"#b5de2b\"],[1.0,\"#fde725\"]]}},                        {\"responsive\": true}                    ).then(function(){\n",
              "                            Plotly.addFrames('f3893943-a732-4254-92b6-0bd0f240e38d', [{\"data\":[{\"coloraxis\":\"coloraxis\",\"geo\":\"geo\",\"hovertemplate\":\"year=2011<br>type=GDP<br>geo=%{location}<br>value=%{z}<extra></extra>\",\"locations\":[\"NLD\",\"NOR\",\"POL\",\"PRT\",\"ROU\",\"SRB\",\"SWE\",\"SVN\",\"SVK\",\"TUR\"],\"name\":\"\",\"z\":[650359.0,358339.5,379860.0,176096.203125,131841.59375,35431.69921875,412844.6875,37058.6015625,71477.1015625,600961.375],\"type\":\"choropleth\"},{\"coloraxis\":\"coloraxis2\",\"geo\":\"geo2\",\"hovertemplate\":\"year=2011<br>type=Unemployment<br>geo=%{location}<br>value=%{z}<extra></extra>\",\"locations\":[\"AUT\",\"BEL\",\"BGR\",\"CYP\",\"CZE\",\"DEU\",\"DNK\",\"EST\",\"GRC\",\"ESP\",\"FIN\",\"FRA\",\"HRV\",\"HUN\",\"IRL\",\"ITA\",\"LTU\",\"LUX\",\"LVA\",\"MLT\",\"NLD\",\"POL\",\"PRT\",\"ROU\",\"SWE\",\"SVN\",\"SVK\"],\"name\":\"\",\"z\":[4.199999809265137,6.099999904632568,11.0,6.400000095367432,5.900000095367432,5.099999904632568,6.199999809265137,11.199999809265137,16.100000381469727,19.200000762939453,6.300000190734863,7.599999904632568,11.600000381469727,9.600000381469727,13.199999809265137,7.099999904632568,13.899999618530273,4.099999904632568,14.699999809265137,5.0,4.900000095367432,8.199999809265137,11.899999618530273,7.300000190734863,5.800000190734863,7.5,11.600000381469727],\"type\":\"choropleth\"}],\"name\":\"2011\"},{\"data\":[{\"coloraxis\":\"coloraxis\",\"geo\":\"geo\",\"hovertemplate\":\"year=2012<br>type=GDP<br>geo=%{location}<br>value=%{z}<extra></extra>\",\"locations\":[\"ALB\",\"AUT\",\"BIH\",\"BEL\",\"BGR\",\"CHE\",\"CYP\",\"CZE\",\"DEU\",\"DNK\",\"EST\",\"GRC\",\"ESP\",\"FIN\",\"FRA\",\"HRV\",\"HUN\",\"IRL\",\"ISL\",\"ITA\",\"LIE\",\"LTU\",\"LUX\",\"LVA\",\"MNE\",\"MKD\",\"MLT\",\"NLD\",\"NOR\",\"POL\",\"PRT\",\"ROU\",\"SRB\",\"SWE\",\"SVN\",\"SVK\",\"TUR\"],\"name\":\"\",\"z\":[9585.7998046875,318653.0,13407.5,386174.6875,42256.80078125,538439.0,19440.80078125,162587.5,2745310.0,254578.0,17916.69921875,188380.59375,1031099.0,201037.0,2088804.0,44483.6015625,100281.203125,175512.796875,11479.900390625,1624358.75,0.0,33410.19921875,46526.19921875,22097.5,3181.5,7584.7998046875,7364.5,652966.0,396523.5,387947.0,168295.59375,132711.203125,33679.30078125,430037.09375,36253.30078125,73360.796875,683587.3125],\"type\":\"choropleth\"},{\"coloraxis\":\"coloraxis2\",\"geo\":\"geo2\",\"hovertemplate\":\"year=2012<br>type=Unemployment<br>geo=%{location}<br>value=%{z}<extra></extra>\",\"locations\":[\"AUT\",\"BEL\",\"BGR\",\"CYP\",\"CZE\",\"DEU\",\"DNK\",\"EST\",\"GRC\",\"ESP\",\"FIN\",\"FRA\",\"HRV\",\"HUN\",\"IRL\",\"ITA\",\"LTU\",\"LUX\",\"LVA\",\"MLT\",\"NLD\",\"POL\",\"PRT\",\"ROU\",\"SWE\",\"SVN\",\"SVK\"],\"name\":\"\",\"z\":[4.5,6.5,11.899999618530273,10.199999809265137,6.0,4.699999809265137,6.400000095367432,8.800000190734863,22.5,22.5,6.199999809265137,8.100000381469727,13.699999809265137,9.399999618530273,13.199999809265137,9.100000381469727,12.199999809265137,4.199999809265137,13.699999809265137,4.800000190734863,5.599999904632568,8.699999809265137,14.699999809265137,7.0,5.900000095367432,7.900000095367432,12.0],\"type\":\"choropleth\"}],\"name\":\"2012\"},{\"data\":[{\"coloraxis\":\"coloraxis\",\"geo\":\"geo\",\"hovertemplate\":\"year=2013<br>type=GDP<br>geo=%{location}<br>value=%{z}<extra></extra>\",\"locations\":[\"ALB\",\"AUT\",\"BIH\",\"BEL\",\"BGR\",\"CHE\",\"CYP\",\"CZE\",\"DEU\",\"DNK\",\"EST\",\"GRC\",\"ESP\",\"FIN\",\"FRA\",\"HRV\",\"HUN\",\"IRL\",\"ISL\",\"ITA\",\"LIE\",\"LTU\",\"LUX\",\"LVA\",\"MNE\",\"MKD\",\"MLT\",\"NLD\",\"NOR\",\"POL\",\"PRT\",\"ROU\",\"SRB\",\"SWE\",\"SVN\",\"SVK\",\"TUR\"],\"name\":\"\",\"z\":[9625.400390625,323910.1875,13691.7998046875,392880.0,42050.19921875,536632.875,17995.0,159461.5,2811350.0,258742.703125,18910.80078125,179884.40625,1020348.0,204321.0,2117189.0,44329.3984375,102276.1015625,179411.203125,12132.900390625,1612751.25,4812.39990234375,35039.5,49094.5,22791.30078125,3362.5,8149.60009765625,7944.2998046875,660463.0,393408.6875,392310.6875,170492.296875,143690.40625,36426.69921875,441850.6875,36454.30078125,74217.296875,719726.625],\"type\":\"choropleth\"},{\"coloraxis\":\"coloraxis2\",\"geo\":\"geo2\",\"hovertemplate\":\"year=2013<br>type=Unemployment<br>geo=%{location}<br>value=%{z}<extra></extra>\",\"locations\":[\"AUT\",\"BEL\",\"BGR\",\"CYP\",\"CZE\",\"DEU\",\"DNK\",\"EST\",\"GRC\",\"ESP\",\"FIN\",\"FRA\",\"HRV\",\"HUN\",\"IRL\",\"ITA\",\"LTU\",\"LUX\",\"LVA\",\"MLT\",\"NLD\",\"POL\",\"PRT\",\"ROU\",\"SWE\",\"SVN\",\"SVK\"],\"name\":\"\",\"z\":[5.0,7.199999809265137,12.699999809265137,13.600000381469727,6.099999904632568,4.599999904632568,6.099999904632568,7.599999904632568,25.600000381469727,23.799999237060547,6.599999904632568,8.600000381469727,14.399999618530273,8.600000381469727,11.899999618530273,10.5,10.899999618530273,5.199999809265137,10.800000190734863,4.900000095367432,7.0,9.0,15.399999618530273,7.300000190734863,6.0,9.199999809265137,12.300000190734863],\"type\":\"choropleth\"}],\"name\":\"2013\"},{\"data\":[{\"coloraxis\":\"coloraxis\",\"geo\":\"geo\",\"hovertemplate\":\"year=2014<br>type=GDP<br>geo=%{location}<br>value=%{z}<extra></extra>\",\"locations\":[\"ALB\",\"AUT\",\"BIH\",\"BEL\",\"BGR\",\"CHE\",\"CYP\",\"CZE\",\"DEU\",\"DNK\",\"EST\",\"GRC\",\"ESP\",\"FIN\",\"FRA\",\"HRV\",\"HUN\",\"IRL\",\"ISL\",\"ITA\",\"LIE\",\"LTU\",\"LUX\",\"LVA\",\"MNE\",\"MKD\",\"MLT\",\"NLD\",\"NOR\",\"POL\",\"PRT\",\"ROU\",\"SRB\",\"SWE\",\"SVN\",\"SVK\",\"TUR\"],\"name\":\"\",\"z\":[9968.599609375,333146.09375,13988.2998046875,403003.3125,43026.0,553942.1875,17430.19921875,157821.296875,2927430.0,265757.0,20048.19921875,177236.0,1032158.0,206897.0,2149765.0,43918.6015625,106297.796875,194933.796875,13472.599609375,1627405.625,5021.7001953125,36581.30078125,51791.30078125,23625.80078125,3457.89990234375,8562.0,8751.099609375,671560.0,375947.3125,408967.8125,173053.703125,150708.59375,35467.5,438833.90625,37634.30078125,76092.703125,707000.8125],\"type\":\"choropleth\"},{\"coloraxis\":\"coloraxis2\",\"geo\":\"geo2\",\"hovertemplate\":\"year=2014<br>type=Unemployment<br>geo=%{location}<br>value=%{z}<extra></extra>\",\"locations\":[\"AUT\",\"BEL\",\"BGR\",\"CYP\",\"CZE\",\"DEU\",\"DNK\",\"EST\",\"GRC\",\"ESP\",\"FIN\",\"FRA\",\"HRV\",\"HUN\",\"IRL\",\"ITA\",\"LTU\",\"LUX\",\"LVA\",\"MLT\",\"NLD\",\"POL\",\"PRT\",\"ROU\",\"SWE\",\"SVN\",\"SVK\"],\"name\":\"\",\"z\":[5.300000190734863,7.400000095367432,11.5,14.0,5.400000095367432,4.300000190734863,5.699999809265137,6.599999904632568,24.799999237060547,22.299999237060547,7.099999904632568,8.699999809265137,14.600000381469727,6.5,10.300000190734863,10.800000190734863,9.899999618530273,4.800000190734863,10.0,4.699999809265137,7.300000190734863,7.800000190734863,12.899999618530273,6.900000095367432,6.0,8.899999618530273,11.600000381469727],\"type\":\"choropleth\"}],\"name\":\"2014\"},{\"data\":[{\"coloraxis\":\"coloraxis\",\"geo\":\"geo\",\"hovertemplate\":\"year=2015<br>type=GDP<br>geo=%{location}<br>value=%{z}<extra></extra>\",\"locations\":[\"ALB\",\"AUT\",\"BIH\",\"BEL\",\"BGR\",\"CHE\",\"CYP\",\"CZE\",\"DEU\",\"DNK\",\"EST\",\"GRC\",\"ESP\",\"FIN\",\"FRA\",\"HRV\",\"HUN\",\"IRL\",\"ISL\",\"ITA\",\"LIE\",\"LTU\",\"LUX\",\"LVA\",\"MNE\",\"MKD\",\"MLT\",\"NLD\",\"NOR\",\"POL\",\"PRT\",\"ROU\",\"SRB\",\"SWE\",\"SVN\",\"SVK\",\"TUR\"],\"name\":\"\",\"z\":[10264.099609375,344269.1875,14617.400390625,416701.40625,45812.30078125,632770.5,17884.0,169558.203125,3026180.0,273017.59375,20631.400390625,176368.90625,1077590.0,211385.0,2198432.0,45186.19921875,112823.6015625,262800.0,15795.2998046875,1655355.0,5649.10009765625,37345.69921875,54142.30078125,24572.099609375,3654.5,9072.2998046875,9996.7001953125,690008.0,347632.09375,430465.8125,179713.203125,160149.796875,35740.19921875,455494.6875,38852.6015625,79888.1015625,777042.3125],\"type\":\"choropleth\"},{\"coloraxis\":\"coloraxis2\",\"geo\":\"geo2\",\"hovertemplate\":\"year=2015<br>type=Unemployment<br>geo=%{location}<br>value=%{z}<extra></extra>\",\"locations\":[\"AUT\",\"BEL\",\"BGR\",\"CYP\",\"CZE\",\"DEU\",\"DNK\",\"EST\",\"GRC\",\"ESP\",\"FIN\",\"FRA\",\"HRV\",\"HUN\",\"IRL\",\"ITA\",\"LTU\",\"LUX\",\"LVA\",\"MLT\",\"NLD\",\"POL\",\"PRT\",\"ROU\",\"SWE\",\"SVN\",\"SVK\"],\"name\":\"\",\"z\":[5.400000095367432,7.5,9.300000190734863,13.199999809265137,4.5,4.0,5.300000190734863,5.699999809265137,23.299999237060547,20.200000762939453,7.599999904632568,8.699999809265137,13.800000190734863,5.800000190734863,8.5,10.199999809265137,8.5,5.699999809265137,9.300000190734863,4.400000095367432,6.900000095367432,6.5,11.5,6.900000095367432,5.800000190734863,8.399999618530273,10.100000381469727],\"type\":\"choropleth\"}],\"name\":\"2015\"},{\"data\":[{\"coloraxis\":\"coloraxis\",\"geo\":\"geo\",\"hovertemplate\":\"year=2016<br>type=GDP<br>geo=%{location}<br>value=%{z}<extra></extra>\",\"locations\":[\"ALB\",\"AUT\",\"BIH\",\"BEL\",\"BGR\",\"CHE\",\"CYP\",\"CZE\",\"DEU\",\"DNK\",\"EST\",\"GRC\",\"ESP\",\"FIN\",\"FRA\",\"HRV\",\"HUN\",\"IRL\",\"ISL\",\"ITA\",\"LIE\",\"LTU\",\"LUX\",\"LVA\",\"MNE\",\"MKD\",\"MLT\",\"NLD\",\"NOR\",\"POL\",\"PRT\",\"ROU\",\"SRB\",\"SWE\",\"SVN\",\"SVK\",\"TUR\"],\"name\":\"\",\"z\":[10719.900390625,357608.0,15289.900390625,430085.3125,48773.1015625,628729.625,18929.30078125,177438.5,3134740.0,283109.6875,21747.900390625,174494.203125,1113840.0,217518.0,2234129.0,47246.30078125,116279.3984375,270058.09375,18804.19921875,1695786.75,5637.7001953125,38889.8984375,56208.1015625,25371.30078125,3954.199951171875,9656.5,10541.099609375,708337.0,333471.3125,427091.8125,186489.796875,170063.40625,36779.30078125,466266.5,40443.19921875,81014.296875,785618.875],\"type\":\"choropleth\"},{\"coloraxis\":\"coloraxis2\",\"geo\":\"geo2\",\"hovertemplate\":\"year=2016<br>type=Unemployment<br>geo=%{location}<br>value=%{z}<extra></extra>\",\"locations\":[\"AUT\",\"BEL\",\"BGR\",\"CYP\",\"CZE\",\"DEU\",\"DNK\",\"EST\",\"GRC\",\"ESP\",\"FIN\",\"FRA\",\"HRV\",\"HUN\",\"IRL\",\"ITA\",\"LTU\",\"LUX\",\"LVA\",\"MLT\",\"NLD\",\"POL\",\"PRT\",\"ROU\",\"SWE\",\"SVN\",\"SVK\"],\"name\":\"\",\"z\":[5.699999809265137,6.900000095367432,8.0,11.5,3.5,3.5,4.900000095367432,6.199999809265137,22.399999618530273,17.899999618530273,7.300000190734863,8.399999618530273,11.199999809265137,4.300000190734863,7.199999809265137,10.100000381469727,7.300000190734863,5.300000190734863,9.100000381469727,3.799999952316284,5.900000095367432,5.300000190734863,10.199999809265137,5.900000095367432,5.599999904632568,7.5,8.5],\"type\":\"choropleth\"}],\"name\":\"2016\"},{\"data\":[{\"coloraxis\":\"coloraxis\",\"geo\":\"geo\",\"hovertemplate\":\"year=2017<br>type=GDP<br>geo=%{location}<br>value=%{z}<extra></extra>\",\"locations\":[\"ALB\",\"AUT\",\"BIH\",\"BEL\",\"BGR\",\"CHE\",\"CYP\",\"CZE\",\"DEU\",\"DNK\",\"EST\",\"GRC\",\"ESP\",\"FIN\",\"FRA\",\"HRV\",\"HUN\",\"IRL\",\"ISL\",\"ITA\",\"LIE\",\"LTU\",\"LUX\",\"LVA\",\"MNE\",\"MKD\",\"MLT\",\"NLD\",\"NOR\",\"POL\",\"PRT\",\"ROU\",\"SRB\",\"SWE\",\"SVN\",\"SVK\",\"TUR\"],\"name\":\"\",\"z\":[11559.0,369361.90625,16042.400390625,445050.09375,52531.30078125,623994.0,20245.30078125,194132.90625,3267160.0,294808.1875,23833.599609375,176903.40625,1161867.0,226301.0,2297242.0,49888.80078125,127046.0,296925.1875,21917.69921875,1736592.75,5734.60009765625,42276.30078125,58168.80078125,26984.400390625,4299.10009765625,10038.2998046875,11941.0,738146.0,353316.40625,467426.59375,195947.203125,187772.703125,39235.30078125,480025.5,43011.30078125,84442.8984375,760497.125],\"type\":\"choropleth\"},{\"coloraxis\":\"coloraxis2\",\"geo\":\"geo2\",\"hovertemplate\":\"year=2017<br>type=Unemployment<br>geo=%{location}<br>value=%{z}<extra></extra>\",\"locations\":[\"AUT\",\"BEL\",\"BGR\",\"CYP\",\"CZE\",\"DEU\",\"DNK\",\"EST\",\"GRC\",\"ESP\",\"FIN\",\"FRA\",\"HRV\",\"HUN\",\"IRL\",\"ITA\",\"LTU\",\"LUX\",\"LVA\",\"MLT\",\"NLD\",\"POL\",\"PRT\",\"ROU\",\"SWE\",\"SVN\",\"SVK\"],\"name\":\"\",\"z\":[5.300000190734863,6.199999809265137,6.699999809265137,9.899999618530273,2.5999999046325684,3.200000047683716,4.699999809265137,5.199999809265137,20.5,15.699999809265137,7.199999809265137,7.900000095367432,9.600000381469727,3.5,5.699999809265137,9.800000190734863,6.599999904632568,4.699999809265137,8.100000381469727,3.0999999046325684,4.900000095367432,4.099999904632568,8.0,4.900000095367432,5.5,6.199999809265137,7.199999809265137],\"type\":\"choropleth\"}],\"name\":\"2017\"},{\"data\":[{\"coloraxis\":\"coloraxis\",\"geo\":\"geo\",\"hovertemplate\":\"year=2018<br>type=GDP<br>geo=%{location}<br>value=%{z}<extra></extra>\",\"locations\":[\"ALB\",\"AUT\",\"BIH\",\"BEL\",\"BGR\",\"CHE\",\"CYP\",\"CZE\",\"DEU\",\"DNK\",\"EST\",\"GRC\",\"ESP\",\"FIN\",\"FRA\",\"HRV\",\"HUN\",\"IRL\",\"ISL\",\"ITA\",\"LIE\",\"LTU\",\"LUX\",\"LVA\",\"MNE\",\"MKD\",\"MLT\",\"NLD\",\"NOR\",\"POL\",\"PRT\",\"ROU\",\"SRB\",\"SWE\",\"SVN\",\"SVK\",\"TUR\"],\"name\":\"\",\"z\":[12828.099609375,385424.0,17099.69921875,460091.6875,56224.69921875,622746.0,21612.599609375,210970.5,3367860.0,302328.6875,25817.69921875,179557.703125,1203259.0,233462.0,2363306.0,52688.80078125,136073.40625,326042.8125,22241.099609375,1771391.25,5666.2998046875,45514.80078125,60362.19921875,29153.599609375,4663.10009765625,10744.0,12954.7998046875,773987.0,370294.3125,497842.3125,205184.09375,204496.90625,42892.19921875,470673.09375,45864.19921875,89430.0,658544.375],\"type\":\"choropleth\"},{\"coloraxis\":\"coloraxis2\",\"geo\":\"geo2\",\"hovertemplate\":\"year=2018<br>type=Unemployment<br>geo=%{location}<br>value=%{z}<extra></extra>\",\"locations\":[\"AUT\",\"BEL\",\"BGR\",\"CYP\",\"CZE\",\"DEU\",\"DNK\",\"EST\",\"GRC\",\"ESP\",\"FIN\",\"FRA\",\"HRV\",\"HUN\",\"IRL\",\"ITA\",\"LTU\",\"LUX\",\"LVA\",\"MLT\",\"NLD\",\"POL\",\"PRT\",\"ROU\",\"SWE\",\"SVN\",\"SVK\"],\"name\":\"\",\"z\":[4.599999904632568,5.199999809265137,5.800000190734863,7.300000190734863,2.0,2.799999952316284,4.199999809265137,4.800000190734863,18.5,13.899999618530273,6.099999904632568,7.599999904632568,7.0,3.0999999046325684,4.699999809265137,9.199999809265137,5.800000190734863,4.900000095367432,7.099999904632568,2.9000000953674316,4.0,3.200000047683716,6.199999809265137,4.199999809265137,5.199999809265137,4.800000190734863,5.800000190734863],\"type\":\"choropleth\"}],\"name\":\"2018\"},{\"data\":[{\"coloraxis\":\"coloraxis\",\"geo\":\"geo\",\"hovertemplate\":\"year=2019<br>type=GDP<br>geo=%{location}<br>value=%{z}<extra></extra>\",\"locations\":[\"ALB\",\"AUT\",\"BIH\",\"BEL\",\"BGR\",\"CHE\",\"CYP\",\"CZE\",\"DEU\",\"DNK\",\"EST\",\"GRC\",\"ESP\",\"FIN\",\"FRA\",\"HRV\",\"HUN\",\"IRL\",\"ISL\",\"ITA\",\"LIE\",\"LTU\",\"LUX\",\"LVA\",\"MNE\",\"MKD\",\"MLT\",\"NLD\",\"NOR\",\"POL\",\"PRT\",\"ROU\",\"SRB\",\"SWE\",\"SVN\",\"SVK\",\"TUR\"],\"name\":\"\",\"z\":[13754.2001953125,397518.5,18046.400390625,478238.90625,61558.0,653732.625,23009.900390625,225613.5,3473350.0,309526.40625,27732.30078125,183250.40625,1244375.0,239858.0,2437635.0,55571.3984375,146113.203125,356526.3125,22166.80078125,1796633.75,5742.0,48859.8984375,62704.19921875,30647.19921875,4950.7001953125,11262.0,14047.099609375,813055.0,361734.59375,533599.875,214374.59375,223162.5,46005.3984375,476869.5,48396.69921875,94048.0,679132.1875],\"type\":\"choropleth\"},{\"coloraxis\":\"coloraxis2\",\"geo\":\"geo2\",\"hovertemplate\":\"year=2019<br>type=Unemployment<br>geo=%{location}<br>value=%{z}<extra></extra>\",\"locations\":[\"AUT\",\"BEL\",\"BGR\",\"CYP\",\"CZE\",\"DEU\",\"DNK\",\"EST\",\"GRC\",\"ESP\",\"FIN\",\"FRA\",\"HRV\",\"HUN\",\"IRL\",\"ITA\",\"LTU\",\"LUX\",\"LVA\",\"MLT\",\"NLD\",\"POL\",\"PRT\",\"ROU\",\"SWE\",\"SVN\",\"SVK\"],\"name\":\"\",\"z\":[4.300000190734863,4.699999809265137,4.900000095367432,6.300000190734863,1.7999999523162842,2.5999999046325684,4.199999809265137,3.9000000953674316,16.799999237060547,12.800000190734863,5.300000190734863,7.099999904632568,5.699999809265137,2.700000047683716,4.0,8.699999809265137,5.800000190734863,4.599999904632568,5.900000095367432,2.9000000953674316,3.5999999046325684,2.799999952316284,5.800000190734863,3.799999952316284,5.300000190734863,4.199999809265137,5.0],\"type\":\"choropleth\"}],\"name\":\"2019\"},{\"data\":[{\"coloraxis\":\"coloraxis\",\"geo\":\"geo\",\"hovertemplate\":\"year=2020<br>type=GDP<br>geo=%{location}<br>value=%{z}<extra></extra>\",\"locations\":[\"ALB\",\"AUT\",\"BIH\",\"BEL\",\"BGR\",\"CHE\",\"CYP\",\"CZE\",\"DEU\",\"DNK\",\"EST\",\"GRC\",\"ESP\",\"FIN\",\"FRA\",\"HRV\",\"HUN\",\"IRL\",\"ISL\",\"ITA\",\"LIE\",\"LTU\",\"LUX\",\"LVA\",\"MNE\",\"MKD\",\"MLT\",\"NLD\",\"NOR\",\"POL\",\"PRT\",\"ROU\",\"SRB\",\"SWE\",\"SVN\",\"SVK\",\"TUR\"],\"name\":\"\",\"z\":[13283.2998046875,379320.59375,17514.30078125,456731.5,61331.0,659730.8125,21617.900390625,215805.40625,3367560.0,311759.6875,26834.5,165326.40625,1121948.0,237987.0,2310469.0,50188.5,137441.59375,372868.5,18943.400390625,1656960.75,5362.89990234375,49507.19921875,64221.1015625,29456.80078125,4185.60009765625,10635.2998046875,13066.0,796530.0,318051.1875,526445.1875,200087.59375,218863.296875,46796.3984375,480556.40625,46918.0,92079.296875,626576.1875],\"type\":\"choropleth\"},{\"coloraxis\":\"coloraxis2\",\"geo\":\"geo2\",\"hovertemplate\":\"year=2020<br>type=Unemployment<br>geo=%{location}<br>value=%{z}<extra></extra>\",\"locations\":[\"AUT\",\"BEL\",\"BGR\",\"CYP\",\"CZE\",\"DEU\",\"DNK\",\"EST\",\"GRC\",\"ESP\",\"FIN\",\"FRA\",\"HRV\",\"HUN\",\"IRL\",\"ITA\",\"LTU\",\"LUX\",\"LVA\",\"MLT\",\"NLD\",\"POL\",\"PRT\",\"ROU\",\"SWE\",\"SVN\",\"SVK\"],\"name\":\"\",\"z\":[5.300000190734863,5.0,5.599999904632568,6.699999809265137,2.299999952316284,3.200000047683716,4.699999809265137,6.0,16.600000381469727,14.0,6.0,6.599999904632568,6.400000095367432,3.5,4.599999904632568,8.100000381469727,7.699999809265137,5.5,7.699999809265137,3.5999999046325684,3.700000047683716,2.700000047683716,5.900000095367432,5.0,6.699999809265137,4.400000095367432,5.800000190734863],\"type\":\"choropleth\"}],\"name\":\"2020\"},{\"data\":[{\"coloraxis\":\"coloraxis\",\"geo\":\"geo\",\"hovertemplate\":\"year=2021<br>type=GDP<br>geo=%{location}<br>value=%{z}<extra></extra>\",\"locations\":[\"ALB\",\"AUT\",\"BIH\",\"BEL\",\"BGR\",\"CHE\",\"CYP\",\"CZE\",\"DEU\",\"DNK\",\"EST\",\"GRC\",\"ESP\",\"FIN\",\"FRA\",\"HRV\",\"HUN\",\"IRL\",\"ISL\",\"ITA\",\"LIE\",\"LTU\",\"LUX\",\"LVA\",\"MNE\",\"MKD\",\"MLT\",\"NLD\",\"NOR\",\"POL\",\"PRT\",\"ROU\",\"SRB\",\"SWE\",\"SVN\",\"SVK\",\"TUR\"],\"name\":\"\",\"z\":[15435.900390625,402710.90625,19083.69921875,506205.0,67872.1015625,687110.375,23436.69921875,238238.203125,3570620.0,336718.8125,30660.099609375,182830.203125,1205063.0,251431.0,2500870.0,57199.5,154124.40625,421529.1875,21531.80078125,1775436.375,0.0,55383.1015625,73313.5,32866.5,4911.60009765625,11734.0,14684.7998046875,856356.0,407533.1875,574385.375,211279.703125,240154.0,53317.5,537830.0,52020.19921875,97122.5,685765.375],\"type\":\"choropleth\"},{\"coloraxis\":\"coloraxis2\",\"geo\":\"geo2\",\"hovertemplate\":\"year=2021<br>type=Unemployment<br>geo=%{location}<br>value=%{z}<extra></extra>\",\"locations\":[\"AUT\",\"BEL\",\"BGR\",\"CYP\",\"CZE\",\"DEU\",\"DNK\",\"EST\",\"GRC\",\"ESP\",\"FIN\",\"FRA\",\"HRV\",\"HUN\",\"IRL\",\"ITA\",\"LTU\",\"LUX\",\"LVA\",\"MLT\",\"NLD\",\"POL\",\"PRT\",\"ROU\",\"SWE\",\"SVN\",\"SVK\"],\"name\":\"\",\"z\":[5.599999904632568,5.300000190734863,4.900000095367432,6.599999904632568,2.5,3.200000047683716,4.099999904632568,5.400000095367432,13.699999809265137,13.399999618530273,6.5,6.599999904632568,6.400000095367432,3.4000000953674316,5.0,8.300000190734863,6.599999904632568,4.300000190734863,7.099999904632568,2.9000000953674316,3.200000047683716,2.799999952316284,5.5,4.5,6.800000190734863,4.199999809265137,6.099999904632568],\"type\":\"choropleth\"}],\"name\":\"2021\"}]);\n",
              "                        }).then(function(){\n",
              "                            \n",
              "var gd = document.getElementById('f3893943-a732-4254-92b6-0bd0f240e38d');\n",
              "var x = new MutationObserver(function (mutations, observer) {{\n",
              "        var display = window.getComputedStyle(gd).display;\n",
              "        if (!display || display === 'none') {{\n",
              "            console.log([gd, 'removed!']);\n",
              "            Plotly.purge(gd);\n",
              "            observer.disconnect();\n",
              "        }}\n",
              "}});\n",
              "\n",
              "// Listen for the removal of the full notebook cells\n",
              "var notebookContainer = gd.closest('#notebook-container');\n",
              "if (notebookContainer) {{\n",
              "    x.observe(notebookContainer, {childList: true});\n",
              "}}\n",
              "\n",
              "// Listen for the clearing of the current output cell\n",
              "var outputEl = gd.closest('.output');\n",
              "if (outputEl) {{\n",
              "    x.observe(outputEl, {childList: true});\n",
              "}}\n",
              "\n",
              "                        })                };                            </script>        </div>\n",
              "</body>\n",
              "</html>"
            ]
          },
          "metadata": {}
        }
      ]
    }
  ]
}