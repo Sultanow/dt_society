{
  "cells": [
    {
      "cell_type": "markdown",
      "source": [
        "# Digital Twin of Society - Education GER 📚\n",
        "\n",
        "Schüler/-innen an allgemeinbildenden Schulen nach Klassen- bzw. Jahrgangsstufen, Bildungsbereichen und Ländern \\\n",
        "(Quelle: https://www.govdata.de/web/guest/suchen/-/details/schuler-innen-an-allgemeinbildenden-schulen-nach-klassen-bzw-jahrgangsstufen-bildungsbereichen--10)\n",
        "\n",
        "Datenbereitsteller: Bundesministerium für Bildung und Forschung \\\n",
        "Veröffentlichende Stelle: Bundesministerium für Bildung und Forschung \\\n",
        "Deutsches Zentrum für Hochschul- und Wissenschaftsforschung\n",
        "\n",
        "<br>\n",
        "<br>\n",
        "<table align=\"left\">\n",
        "<tr>\n",
        "<td><img src=\"https://nuernberg.digital/fileadmin/system/NDF-Logo-Jahresneutral-RGB-black-keinRand.svg\" width=\"100\" /></td>\n",
        "<td><img src=\"https://www.capgemini.com/de-de/wp-content/themes/capgemini-komposite/assets/images/logo.svg\" /></td>\n",
        "</tr>\n",
        "</table>"
      ],
      "metadata": {
        "id": "SV5j36OSbL4E"
      }
    },
    {
      "cell_type": "markdown",
      "source": [
        "## 1. Install requirements"
      ],
      "metadata": {
        "id": "rlZY0q-nWbyI"
      }
    },
    {
      "cell_type": "code",
      "source": [
        "!pip install -q pandas geopandas tqdm folium"
      ],
      "metadata": {
        "id": "bI-H_NvYKaR3"
      },
      "execution_count": null,
      "outputs": []
    },
    {
      "cell_type": "markdown",
      "source": [
        "## 2. Imports"
      ],
      "metadata": {
        "id": "4nb0n7DsXuxA"
      }
    },
    {
      "cell_type": "code",
      "execution_count": null,
      "metadata": {
        "id": "vhnVz3CFKJhi"
      },
      "outputs": [],
      "source": [
        "import time\n",
        "import pandas as pd\n",
        "import warnings\n",
        "import datetime\n",
        "import folium\n",
        "import branca.colormap as cm\n",
        "from tqdm import tqdm\n",
        "from folium.plugins import TimeSliderChoropleth\n",
        "from folium.features import DivIcon\n",
        "from IPython.display import clear_output"
      ]
    },
    {
      "cell_type": "markdown",
      "metadata": {
        "id": "dHhwT0kbKJhj"
      },
      "source": [
        "# 3. Data preprocessing"
      ]
    },
    {
      "cell_type": "markdown",
      "source": [
        "<img src=\"https://cdn3.iconfinder.com/data/icons/miscellaneous-80/60/info-256.png\" width=\"32\" height=\"32\">\n",
        "\n",
        "Lade die Daten von https://www.govdata.de/web/guest/suchen/-/details/schuler-innen-an-allgemeinbildenden-schulen-nach-klassen-bzw-jahrgangsstufen-bildungsbereichen--1 in ein DataFrame. Tipp: Achte dabei auf Metadaten die nicht zum eigentlichen Datensatz gehören. Diese sollten nicht im DataFrame vorhanden sein.\n",
        "\n"
      ],
      "metadata": {
        "id": "nS2r3U3oG4LE"
      }
    },
    {
      "cell_type": "code",
      "execution_count": null,
      "metadata": {
        "id": "ZLwsHepxKJhk",
        "cellView": "form"
      },
      "outputs": [],
      "source": [
        "#@title Lösung\n",
        "# load data\n",
        "# df = pd.read_csv('https://raw.githubusercontent.com/Sultanow/dt_society/main/data/datagov/Allgemeinbildende-Schulen-nach-Bundeslaendern.csv', sep=';', skiprows=4, header=[0,1]) # skip intro text\n",
        "# df = df[:-17] # cut of info text\n",
        "# df"
      ]
    },
    {
      "cell_type": "markdown",
      "source": [
        "<img src=\"https://cdn3.iconfinder.com/data/icons/miscellaneous-80/60/info-256.png\" width=\"32\" height=\"32\">\n",
        "\n",
        "Ziehe alle Bundesländer in eine separate Liste heraus und lasse dir die Liste ausgeben. Wir benötigen diese später noch. \n"
      ],
      "metadata": {
        "id": "hM-Den8yKeOE"
      }
    },
    {
      "cell_type": "code",
      "execution_count": null,
      "metadata": {
        "id": "yf-gXkjXKJhk",
        "cellView": "form"
      },
      "outputs": [],
      "source": [
        "#@title Lösung\n",
        "# df.rename(columns={'Hessen 3)':'Hessen'}, inplace=True) # Rename hessen col header\n",
        "# bundeslaender = df.columns.values\n",
        "# bundeslaender = bundeslaender[4:]\n",
        "# bundeslaender = [item[0] for item in bundeslaender] # remove \"Anteile (%)\"\n",
        "# print(bundeslaender)"
      ]
    },
    {
      "cell_type": "markdown",
      "source": [
        "<img src=\"https://cdn3.iconfinder.com/data/icons/miscellaneous-80/60/info-256.png\" width=\"32\" height=\"32\">\n",
        "\n",
        "In den Daten sind Summenzeilen die Zwischenergebnisse aufsummieren.\n",
        "Diese sind zwar hilfreich zur manuellen Betrachtung, für die automatisierte Verarbeitung aber eher störend. \n",
        "\n",
        "*   Entferne alle Informationen aus dem DataFrame die nicht direkt mit einer Jahrgangsstufe, dem Schuljahr und dem zugehörigen Bundesland in Zusammenhang stehen\n",
        "*   Das DataFrame sollte nur noch die Überschriften \"Schuljahr,\tJahrgangsstufe,\tAbs. Anzahl gesamt,\tLänder insgesamt,\tBaden-Württemberg,\tBayern,\tBerlin,\t... besitzen.\n",
        "*   Um später mit den Prozenzahlen weiterarbeiten zu können muss zudem das \",\" in einen \".\" konvertiert werden.\n",
        "\n"
      ],
      "metadata": {
        "id": "1yti-_CFJCwh"
      }
    },
    {
      "cell_type": "code",
      "execution_count": null,
      "metadata": {
        "id": "BQRoOHS0KJhl"
      },
      "outputs": [],
      "source": [
        "#@title Lösung\n",
        "\n",
        "# Behalte nur die Jahrgangsstufen (ohne Summen-Zeilen)\n",
        "# df = df[[str(x).strip().isdigit() for x in df.iloc[:, 1]]]\n",
        "# # Konvertiere \",\" zu \".\"\n",
        "# df = df.replace({',': '.'}, regex=True)\n",
        "# # Löse Multi-Level Index auf\n",
        "# df.columns = df.columns.get_level_values(0)\n",
        "# df = df.rename(columns={ df.columns[0]: \"Schuljahr\", df.columns[1]: \"Jahrgangsstufe\", df.columns[2]: \"Abs. Anzahl gesamt\" })\n",
        "# df.head()"
      ]
    },
    {
      "cell_type": "markdown",
      "source": [
        "<img src=\"https://cdn3.iconfinder.com/data/icons/miscellaneous-80/60/info-256.png\" width=\"32\" height=\"32\">\n",
        "\n",
        "Das DataFrame ist eine Tabelle mit zwei abhängigen Indicies. \n",
        "Dem Schuljahr und dem Bundesland. Beide zusammen lassen auf den %-Anteil schließen. Damit die weitere Verarbeitung einfacher wird, muss das DataFrame so transformiert werden, dass die Bundesländer mehrfach als Zeile aufgelistet sind mit dem jeweiligen Schuljahr und dem %-Anteil.\n",
        "\n",
        "Aus der Struktur:\n",
        "\n",
        "|index|Schuljahr|Jahrgangsstufe|Abs\\. Anzahl gesamt|Länder insgesamt|Baden-Württemberg|Bayern|Berlin|Brandenburg|Bremen|Hamburg|Hessen|Mecklenburg-Vorpommern|Niedersachsen|Nordrhein-Westfalen|Rheinland-Pfalz|Saarland|Sachsen|Sachsen-Anhalt|Schleswig-Holstein|Thüringen|\n",
        "|---|---|---|---|---|---|---|---|---|---|---|---|---|---|---|---|---|---|---|---|---|\n",
        "|2|1999/2000|  1|825878|8\\.2|9\\.2|9\\.3|6\\.8|4\\.3|8\\.6|8\\.5|9|4\\.2|9\\.3|8\\.8|9\\.3|9\\.2|4\\.7|4\\.9|9\\.4|4\\.8|\n",
        "|3|1999/2000|  2|864381|8\\.6|9\\.5|9\\.5|7|5|8\\.7|8\\.9|9\\.4|5\\.1|9\\.8|9\\.1|9\\.7|9\\.5|5\\.4|5\\.6|10\\.2|5\\.3|\n",
        "\n",
        "Sollte diese werden (Ausschnitt gekürzt):\n",
        "\n",
        "|index|Schuljahr|Jahrgangsstufe|Abs\\. Anzahl gesamt|Bundesland|Anteile in %|\n",
        "|---|---|---|---|---|---|\n",
        "|0|1999/2000|  1|825878|Baden-Württemberg|9\\.2|\n",
        "|1|1999/2000|  2|864381|Baden-Württemberg|9\\.5|\n",
        "|2|1999/2000|  3|916918|Baden-Württemberg|9\\.8|\n",
        "|3|1999/2000|  4|919245|Baden-Württemberg|9\\.3|\n",
        "|286|1999/2000|  1|825878|Bayern|9\\.3|\n",
        "|287|1999/2000|  2|864381|Bayern|9\\.5|\n",
        "|288|1999/2000|  3|916918|Bayern|9\\.7|\n",
        "|289|1999/2000|  4|919245|Bayern|9\\.4|\n",
        "\n",
        "**Tipp:** Die Transformation geht mit 2 Schleifen. Es gibt aber auch einen schnelleren Weg. Nutze hierfür die [Funktionen von Pandas DataFrame](https://pandas.pydata.org/docs/reference/general_functions.html).\n"
      ],
      "metadata": {
        "id": "6YyTswBILI8O"
      }
    },
    {
      "cell_type": "code",
      "source": [
        "#@title Lösung\n",
        "# df_melted = df.melt(id_vars=['Schuljahr', 'Jahrgangsstufe', 'Abs. Anzahl gesamt'], var_name=\"Bundesland\", value_vars=bundeslaender, value_name=\"Anteile in %\")\n",
        "# df_melted\n",
        "\n",
        "# Alternative Schleifen Lösung\n",
        "#for row in df.values:\n",
        "#    schuljahr_as_date = datetime.date(int(str(row[0]).split('/')[0]), 1, 1) # e.g. 2002-1-1 instead of 2002/2003\n",
        "#    anzahl = row[3]\n",
        "#    # Multi-Index auflösen und Flatten\n",
        "#    for i in range(4, len(df.columns)): # 4 = erster Index fuer Bundesland...\n",
        "#        anteile = float(row[i])\n",
        "#        bundesland = df.columns[i]\n",
        "#        jahrgangsstufe = int(row[1])\n",
        "#        series = {'Schuljahr' : row[0], 'Jahrgangsstufe' : jahrgangsstufe, 'Abs. Anzahl gesamt' : anzahl, 'Bundesland' : bundesland, 'anteile in %' : anteile}\n",
        "#        df_processed = df_processed.append(series, ignore_index=True)"
      ],
      "metadata": {
        "id": "BH8-7FKG4pHs"
      },
      "execution_count": null,
      "outputs": []
    },
    {
      "cell_type": "markdown",
      "source": [
        "<img src=\"https://cdn3.iconfinder.com/data/icons/miscellaneous-80/60/info-256.png\" width=\"32\" height=\"32\">\n",
        "\n",
        "Korrektur der Datentypen:\n",
        "\n",
        "*  Lasse dir die Datentypen für jeden Spalte ausgeben (**Tipp:** `df.dtypes`)\n",
        "*  Konvertiere die Datentypen in das richtige Format:\n",
        "    * Schuljahr = String\n",
        "    * Jahrgangsstufe = int\n",
        "    * Abs. Anzahl gesamt = int\n",
        "    * Anteile in % = float"
      ],
      "metadata": {
        "id": "4Y6A0wucNMiL"
      }
    },
    {
      "cell_type": "code",
      "source": [
        "#@title Lösung\n",
        "# Ausgabe\n",
        "# print(df_melted.dtypes)\n",
        "# # Konvertierung\n",
        "# df_melted = df_melted.astype({\"Schuljahr\": str, \"Jahrgangsstufe\" : int, \"Abs. Anzahl gesamt\" : int, \"Anteile in %\" : float}) \n",
        "# # Ausgabe\n",
        "# print(\"===================================== \\n\", df_melted.dtypes)"
      ],
      "metadata": {
        "id": "Tn-WLp5U8vDN"
      },
      "execution_count": null,
      "outputs": []
    },
    {
      "cell_type": "markdown",
      "source": [
        "<img src=\"https://cdn3.iconfinder.com/data/icons/miscellaneous-80/60/info-256.png\" width=\"32\" height=\"32\">\n",
        "\n",
        "Damit der TimeSeriesSlider später richtig arbeiten kann, muss das Schuljahr in ein Datumsformat konvertiert werden. \n",
        "*  Konvertiere für jede Zeile des DataFrames das Schuljahr in die Form 2002-01-01. Wenn das Schuljahr z. B. 2002/2003 ist dann sollte daraus 2002-01-01 werden. \n",
        "*  Achte darauf, dass der Datentyp date ist.\n",
        "*  Schreibe die Konveriterung direkt wieder ins DataFrame zurück (Ersetzen der Schreibweise: 2002/2003)"
      ],
      "metadata": {
        "id": "tL5vuY4JN9ot"
      }
    },
    {
      "cell_type": "code",
      "source": [
        "#@title Lösung\n",
        "# df_melted['Schuljahr'] = df_melted['Schuljahr'].apply(lambda x: datetime.date(int(str(x).split('/')[0]), 1, 1)) # e.g. 2002-1-1 instead of 2002/2003)\n",
        "# df_melted.head()"
      ],
      "metadata": {
        "id": "wA-J7g1i-OeQ"
      },
      "execution_count": null,
      "outputs": []
    },
    {
      "cell_type": "markdown",
      "source": [
        "# 4. Data visualization\n",
        "\n",
        "Die GeoJson wird benötigt um die Grenzen auf der Karte zu definieren."
      ],
      "metadata": {
        "id": "qPlZCcU5MdxS"
      }
    },
    {
      "cell_type": "code",
      "source": [
        "# GeoJson für die Bundeslandgrenzen\n",
        "geo_json_uri = f\"https://raw.githubusercontent.com/isellsoap/deutschlandGeoJSON/main/2_bundeslaender/3_mittel.geo.json\""
      ],
      "metadata": {
        "id": "SzyF7w6GT4dt"
      },
      "execution_count": null,
      "outputs": []
    },
    {
      "cell_type": "markdown",
      "source": [
        "<img src=\"https://cdn3.iconfinder.com/data/icons/miscellaneous-80/60/info-256.png\" width=\"32\" height=\"32\">\n",
        "\n",
        "Zunächst rendern wir eine Folium-Map für eine feste Jahrgangsstufe und ein festes Schuljahr. \n",
        "\n",
        "* Erstelle ein DataFrame (df_selection) der folgenden Form\n",
        "\n",
        "|index|Bundesland|Anteile in %|\n",
        "|---|---|---|\n",
        "|51|Baden-Württemberg|2\\.0|\n",
        "|337|Bayern|1\\.8|\n",
        "|623|Berlin|3\\.4|\n",
        "\n",
        "* Du kannst dabei eine beliebige Jahrgangsstufe für ein Jahr wählen.\n",
        "\n"
      ],
      "metadata": {
        "id": "OqAToonsSExG"
      }
    },
    {
      "cell_type": "code",
      "source": [
        "#@title Lösung\n",
        "# df_selection = df_melted[df_melted['Schuljahr'] == datetime.date(2002,1,1)]\n",
        "# df_selection =  df_selection[df_selection['Jahrgangsstufe'] == 13]\n",
        "# df_selection = df_selection[['Bundesland', 'Anteile in %']]\n",
        "\n",
        "# df_selection.head()"
      ],
      "metadata": {
        "cellView": "form",
        "id": "urJZLrjySsGU"
      },
      "execution_count": null,
      "outputs": []
    },
    {
      "cell_type": "markdown",
      "source": [
        "<img src=\"https://cdn3.iconfinder.com/data/icons/miscellaneous-80/60/info-256.png\" width=\"32\" height=\"32\">\n",
        "\n",
        "Rendere nun die Folium Map. Hilfestellung unter https://python-visualization.github.io/folium/quickstart.html\n",
        "\n",
        "Verwende das Plugin folium.Choropleth zu farblichen Abstufung der Bundeslädnder."
      ],
      "metadata": {
        "id": "0SBeck6Df6Y6"
      }
    },
    {
      "cell_type": "code",
      "source": [
        "#@title Lösung\n",
        "# fmap = folium.Map(\n",
        "#   location=[51.164, 10.454], \n",
        "#   zoom_start=6.25,\n",
        "#   tiles=\"cartodb positron\",\n",
        "#   min_zoom=6.25,\n",
        "#   max_zoom=7\n",
        "# )\n",
        "\n",
        "# folium.Choropleth(\n",
        "#     geo_data=geo_json_uri,\n",
        "#     name=\"choropleth\",\n",
        "#     data=df_selection,\n",
        "#     key_on=\"feature.properties.name\",\n",
        "#     columns=df_selection.columns,\n",
        "#     fill_color=\"YlGn\",\n",
        "#     fill_opacity=0.7,\n",
        "#     line_opacity=0.2,\n",
        "#     legend_name=\"Unemployment Rate (%)\",\n",
        "# ).add_to(fmap)\n",
        "\n",
        "# fmap"
      ],
      "metadata": {
        "id": "kBN70tLGSFbv"
      },
      "execution_count": null,
      "outputs": []
    },
    {
      "cell_type": "markdown",
      "source": [
        "# 5. Interaktive Visualisierung"
      ],
      "metadata": {
        "id": "B0Ht1HORgUZ0"
      }
    },
    {
      "cell_type": "markdown",
      "source": [
        "<img src=\"https://cdn3.iconfinder.com/data/icons/miscellaneous-80/60/info-256.png\" width=\"32\" height=\"32\">\n",
        "\n",
        "Nachdem wir nun eine Map für einen festen Wertebereich rendern können, geht es  an die Interaktionsmöglichkeiten. Um die Schuljahre durchlaufen zu können kann das Plugin TimeSliderChoropleth verwendet werden. \n",
        "\n",
        "\n",
        "*  Baue eine Funktion die es erlaubt eine Jahrgangsstufe aus dem DataFrame zu selektieren. Gebe diese Werte als Pandas.Series Objekt zurück."
      ],
      "metadata": {
        "id": "iqLrrAV_OrMN"
      }
    },
    {
      "cell_type": "code",
      "execution_count": null,
      "metadata": {
        "id": "Qx63s5TZKJhn",
        "cellView": "form"
      },
      "outputs": [],
      "source": [
        "#@title Lösung\n",
        "# def selectJahrgangsstufe(jahrgangsstufe : int):\n",
        "#     return df_melted[df_melted['Jahrgangsstufe'] == jahrgangsstufe].copy()"
      ]
    },
    {
      "cell_type": "markdown",
      "source": [
        "<img src=\"https://cdn3.iconfinder.com/data/icons/miscellaneous-80/60/info-256.png\" width=\"32\" height=\"32\">\n",
        "\n",
        "Für die dynamische Visualisierung benötigen wir eine eigene Color-Map (Dies hat zuvor das Plugin folium.Choropleth automatisch übernommen)\n",
        "\n",
        "Diese sieht für einen Wertebereich z. B. so aus: \\\\\n",
        "<img src=\"https://i.postimg.cc/RhFGLT51/image.png\" width=\"300\"/>\n",
        "\n",
        "*  Nutze hierfür die [Bibliothek branca und dort cmap](https://python-visualization.github.io/branca/colormap.html). \\\n",
        "*  Verpacke die Generierung in eine eigene Funktion. \\\n"
      ],
      "metadata": {
        "id": "ZIk8Lql8PFJ9"
      }
    },
    {
      "cell_type": "code",
      "execution_count": null,
      "metadata": {
        "id": "61TnpowiKJhn",
        "cellView": "form"
      },
      "outputs": [],
      "source": [
        "#@title Lösung\n",
        "# def generateCmap(df):\n",
        "#   max_colour = max(df['Anteile in %'])\n",
        "#   min_colour = min(df['Anteile in %'])\n",
        "#   cmap = cm.linear.YlOrRd_09.scale(min_colour, max_colour)\n",
        "#   df['colour'] = df['Anteile in %'].map(cmap)\n",
        "#   cmap.caption = \"education\"\n",
        "#   return cmap\n",
        "  \n",
        "# # Beispiel\n",
        "# generateCmap(df_selection)"
      ]
    },
    {
      "cell_type": "markdown",
      "source": [
        "<img src=\"https://cdn3.iconfinder.com/data/icons/miscellaneous-80/60/info-256.png\" width=\"32\" height=\"32\">\n",
        "\n",
        "Folium benötigt zum Darstellen ein Style Dictionary. \\\n",
        "Beispiel für ein Style-Dict:\n",
        "```json\n",
        "styledict = {\n",
        "    '0': {\n",
        "        '2017-1-1': {'color': 'ffffff', 'opacity': 1}\n",
        "        '2017-1-2': {'color': 'fffff0', 'opacity': 1}\n",
        "        ...\n",
        "        },\n",
        "    ...,\n",
        "    'n': {\n",
        "        '2017-1-1': {'color': 'ffffff', 'opacity': 1}\n",
        "        '2017-1-2': {'color': 'fffff0', 'opacity': 1}\n",
        "        ...\n",
        "        }\n",
        "}\n",
        "```\n",
        "\n",
        "\n",
        "Diese Funktion geben wir hier einmal vor."
      ],
      "metadata": {
        "id": "pi_18G5hQP9U"
      }
    },
    {
      "cell_type": "code",
      "source": [
        "# \"\"\"\n",
        "#   build stlye dict\n",
        "#   styledict: dict\n",
        "#       A dictionary where the keys are the geojson feature ids and the values are\n",
        "#       dicts of {time: style_options_dict}\n",
        "# \"\"\"\n",
        "# def buildStyleDict(df):\n",
        "#   country_idx = range(len(bundeslaender))\n",
        "\n",
        "#   style_dict = {}\n",
        "#   for i in country_idx:\n",
        "#       country = bundeslaender[i]\n",
        "#       result = df[df['Bundesland'] == country]\n",
        "#       inner_dict = {}\n",
        "#       for _, r in result.iterrows():\n",
        "#           formatted_schuljahr = int(time.mktime((r['Schuljahr']).timetuple()))\n",
        "#           inner_dict[formatted_schuljahr] = {'color': r['colour'], 'opacity': 0.7}\n",
        "#       style_dict[str(i)] = inner_dict\n",
        "#   return style_dict"
      ],
      "metadata": {
        "id": "sdlYnAQ-hVKC"
      },
      "execution_count": null,
      "outputs": []
    },
    {
      "cell_type": "code",
      "source": [
        "# df_selection = selectJahrgangsstufe(1) # Selektieren Jahrgangsstufe\n",
        "# cmap = generateCmap(df_selection) # Generiere die zugehörige CMAP\n",
        "# style_dict = buildStyleDict(df_selection) # Baue das Styledict"
      ],
      "metadata": {
        "id": "Ja2LDuQwiGKk"
      },
      "execution_count": null,
      "outputs": []
    },
    {
      "cell_type": "markdown",
      "source": [
        "<img src=\"https://cdn3.iconfinder.com/data/icons/miscellaneous-80/60/info-256.png\" width=\"32\" height=\"32\">\n",
        "\n",
        "* Erstelle eine Map mit einem TimeSliderChoropleth.\n",
        "* **Tipps**: \n",
        "  * Dieser benötigt das Styledict\n",
        "  * Die CMAP muss der Folium-Map hinzugefügt werden um eine Skale zu besitzen"
      ],
      "metadata": {
        "id": "Vq7bHkQuj6Wz"
      }
    },
    {
      "cell_type": "code",
      "source": [
        "#@title Lösung\n",
        "# fmap = folium.Map(\n",
        "#     location=[51.164, 10.454], \n",
        "#     zoom_start=6.25,\n",
        "#     tiles=\"cartodb positron\",\n",
        "#     min_zoom=6.25,\n",
        "#     max_zoom=7\n",
        "# )\n",
        "\n",
        "# TimeSliderChoropleth(\n",
        "#     data=geo_json_uri,\n",
        "#     styledict=style_dict,\n",
        "#     overlay=False,\n",
        "#     control=False,\n",
        "# ).add_to(fmap)\n",
        "\n",
        "# cmap.add_to(fmap)\n",
        "# folium.LayerControl().add_to(fmap)\n",
        "\n",
        "# fmap"
      ],
      "metadata": {
        "id": "VFMFTm0zMq7U",
        "cellView": "form"
      },
      "execution_count": null,
      "outputs": []
    },
    {
      "cell_type": "markdown",
      "source": [
        "<img src=\"https://cdn3.iconfinder.com/data/icons/miscellaneous-80/60/info-256.png\" width=\"32\" height=\"32\">\n",
        "\n",
        "Super, du hast es geschafft 😸\\\n",
        "Wenn du noch mehr Interaktion möchtest: \\\n",
        "\n",
        "* Überlege dir wie du mithilfe von ipywidgets ein Dropdown für die Jahrgangsstufen integrieren kannst.\n",
        "* Gerne kannst du auch einmal mit Map-Marken experimentieren"
      ],
      "metadata": {
        "id": "G7Tr_BUbilwI"
      }
    },
    {
      "cell_type": "code",
      "source": [
        ""
      ],
      "metadata": {
        "id": "5FGgr_Bzjgj9"
      },
      "execution_count": null,
      "outputs": []
    }
  ],
  "metadata": {
    "interpreter": {
      "hash": "b6444cafe1dee7fba768b71637794e99cdfb8de035023aa18f27a69684e7ab09"
    },
    "kernelspec": {
      "display_name": "Python 3.10.0 64-bit",
      "language": "python",
      "name": "python3"
    },
    "language_info": {
      "codemirror_mode": {
        "name": "ipython",
        "version": 3
      },
      "file_extension": ".py",
      "mimetype": "text/x-python",
      "name": "python",
      "nbconvert_exporter": "python",
      "pygments_lexer": "ipython3",
      "version": "3.10.0"
    },
    "orig_nbformat": 4,
    "colab": {
      "name": "Digital Twin of Society - Education GER - Template",
      "provenance": [],
      "collapsed_sections": []
    }
  },
  "nbformat": 4,
  "nbformat_minor": 0
}